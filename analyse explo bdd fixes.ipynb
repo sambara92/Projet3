{
 "cells": [
  {
   "cell_type": "code",
   "execution_count": 2,
   "metadata": {},
   "outputs": [],
   "source": [
    "import pandas as pd\n",
    "import numpy as np\n",
    "import matplotlib.pyplot as plt\n",
    "import seaborn as sns"
   ]
  },
  {
   "cell_type": "code",
   "execution_count": 3,
   "metadata": {},
   "outputs": [],
   "source": [
    "avions = pd.read_csv(r\"C:\\Users\\MAITE\\Wild Code School\\Projet 3 - SkyAnalytics\\BDD\\fixes\\aeronefs_final.csv\")\n",
    "composants = pd.read_csv(r\"C:\\Users\\MAITE\\Wild Code School\\Projet 3 - SkyAnalytics\\BDD\\fixes\\compo_final.csv\")"
   ]
  },
  {
   "cell_type": "markdown",
   "metadata": {},
   "source": [
    "ANALYSE EXPLORATOIRE DES FICHIERS FIXES"
   ]
  },
  {
   "cell_type": "markdown",
   "metadata": {},
   "source": [
    "AERONEFS"
   ]
  },
  {
   "cell_type": "code",
   "execution_count": 4,
   "metadata": {},
   "outputs": [
    {
     "data": {
      "text/html": [
       "<div>\n",
       "<style scoped>\n",
       "    .dataframe tbody tr th:only-of-type {\n",
       "        vertical-align: middle;\n",
       "    }\n",
       "\n",
       "    .dataframe tbody tr th {\n",
       "        vertical-align: top;\n",
       "    }\n",
       "\n",
       "    .dataframe thead th {\n",
       "        text-align: right;\n",
       "    }\n",
       "</style>\n",
       "<table border=\"1\" class=\"dataframe\">\n",
       "  <thead>\n",
       "    <tr style=\"text-align: right;\">\n",
       "      <th></th>\n",
       "      <th>ref_aero</th>\n",
       "      <th>type_model</th>\n",
       "      <th>debut_service</th>\n",
       "      <th>last_maint</th>\n",
       "      <th>en_maintenance</th>\n",
       "      <th>end_maint</th>\n",
       "    </tr>\n",
       "  </thead>\n",
       "  <tbody>\n",
       "    <tr>\n",
       "      <th>0</th>\n",
       "      <td>E170_6353</td>\n",
       "      <td>E170</td>\n",
       "      <td>2000-03-17</td>\n",
       "      <td>2024-03-27 00:00:00</td>\n",
       "      <td>False</td>\n",
       "      <td>NaN</td>\n",
       "    </tr>\n",
       "    <tr>\n",
       "      <th>1</th>\n",
       "      <td>B767_2803</td>\n",
       "      <td>B767</td>\n",
       "      <td>2020-12-03</td>\n",
       "      <td>2024-06-01 00:00:00</td>\n",
       "      <td>False</td>\n",
       "      <td>NaN</td>\n",
       "    </tr>\n",
       "    <tr>\n",
       "      <th>2</th>\n",
       "      <td>CRJ700_6943</td>\n",
       "      <td>CRJ700</td>\n",
       "      <td>2015-01-29</td>\n",
       "      <td>2024-06-02</td>\n",
       "      <td>True</td>\n",
       "      <td>2024-06-03 14:13:00</td>\n",
       "    </tr>\n",
       "    <tr>\n",
       "      <th>3</th>\n",
       "      <td>A350_1177</td>\n",
       "      <td>A350</td>\n",
       "      <td>2005-08-07</td>\n",
       "      <td>2024-01-04 00:00:00</td>\n",
       "      <td>False</td>\n",
       "      <td>NaN</td>\n",
       "    </tr>\n",
       "    <tr>\n",
       "      <th>4</th>\n",
       "      <td>B777_4029</td>\n",
       "      <td>B777</td>\n",
       "      <td>2009-01-01</td>\n",
       "      <td>2024-06-01 00:00:00</td>\n",
       "      <td>False</td>\n",
       "      <td>NaN</td>\n",
       "    </tr>\n",
       "  </tbody>\n",
       "</table>\n",
       "</div>"
      ],
      "text/plain": [
       "      ref_aero type_model debut_service           last_maint  en_maintenance  \\\n",
       "0    E170_6353       E170    2000-03-17  2024-03-27 00:00:00           False   \n",
       "1    B767_2803       B767    2020-12-03  2024-06-01 00:00:00           False   \n",
       "2  CRJ700_6943     CRJ700    2015-01-29           2024-06-02            True   \n",
       "3    A350_1177       A350    2005-08-07  2024-01-04 00:00:00           False   \n",
       "4    B777_4029       B777    2009-01-01  2024-06-01 00:00:00           False   \n",
       "\n",
       "             end_maint  \n",
       "0                  NaN  \n",
       "1                  NaN  \n",
       "2  2024-06-03 14:13:00  \n",
       "3                  NaN  \n",
       "4                  NaN  "
      ]
     },
     "execution_count": 4,
     "metadata": {},
     "output_type": "execute_result"
    }
   ],
   "source": [
    "avions.head()"
   ]
  },
  {
   "cell_type": "code",
   "execution_count": 5,
   "metadata": {},
   "outputs": [
    {
     "data": {
      "text/plain": [
       "231"
      ]
     },
     "execution_count": 5,
     "metadata": {},
     "output_type": "execute_result"
    }
   ],
   "source": [
    "#combien d'avions dans la société ?\n",
    "avions['ref_aero'].nunique()"
   ]
  },
  {
   "cell_type": "code",
   "execution_count": 6,
   "metadata": {},
   "outputs": [
    {
     "data": {
      "text/plain": [
       "15"
      ]
     },
     "execution_count": 6,
     "metadata": {},
     "output_type": "execute_result"
    }
   ],
   "source": [
    "#combien de modèle différents\n",
    "avions['type_model'].nunique()"
   ]
  },
  {
   "cell_type": "code",
   "execution_count": 7,
   "metadata": {},
   "outputs": [
    {
     "data": {
      "text/plain": [
       "type_model\n",
       "A320      15\n",
       "A321      11\n",
       "A330      20\n",
       "A340      16\n",
       "A350      22\n",
       "A380      17\n",
       "B737      13\n",
       "B747      21\n",
       "B757      11\n",
       "B767      13\n",
       "B777      14\n",
       "CRJ700    15\n",
       "CRJ900    13\n",
       "E170      16\n",
       "E175      14\n",
       "Name: ref_aero, dtype: int64"
      ]
     },
     "execution_count": 7,
     "metadata": {},
     "output_type": "execute_result"
    }
   ],
   "source": [
    "#repartition du nombre d'avions par modèle\n",
    "avions.groupby('type_model')['ref_aero'].count()"
   ]
  },
  {
   "cell_type": "markdown",
   "metadata": {},
   "source": [
    "Tous les modèles qui commencent par A... c'est Airbus\n",
    "Tous les modèles qui commencent par B... c'est Boeing\n",
    "Tous les modèles qui commencent par CRJ... c'est Bombardier (ent. canadienne) -- avions de transport régional biréacteur\n",
    "Tous les modèles qui commencent par E... c'est Embraer (constructeur brésilien) -- avions destiné aux vols courts et aux connexions"
   ]
  },
  {
   "cell_type": "code",
   "execution_count": 8,
   "metadata": {},
   "outputs": [
    {
     "data": {
      "text/html": [
       "<div>\n",
       "<style scoped>\n",
       "    .dataframe tbody tr th:only-of-type {\n",
       "        vertical-align: middle;\n",
       "    }\n",
       "\n",
       "    .dataframe tbody tr th {\n",
       "        vertical-align: top;\n",
       "    }\n",
       "\n",
       "    .dataframe thead th {\n",
       "        text-align: right;\n",
       "    }\n",
       "</style>\n",
       "<table border=\"1\" class=\"dataframe\">\n",
       "  <thead>\n",
       "    <tr style=\"text-align: right;\">\n",
       "      <th></th>\n",
       "      <th>type_model</th>\n",
       "      <th>ref_aero</th>\n",
       "    </tr>\n",
       "  </thead>\n",
       "  <tbody>\n",
       "    <tr>\n",
       "      <th>0</th>\n",
       "      <td>A320</td>\n",
       "      <td>15</td>\n",
       "    </tr>\n",
       "  </tbody>\n",
       "</table>\n",
       "</div>"
      ],
      "text/plain": [
       "  type_model  ref_aero\n",
       "0       A320        15"
      ]
     },
     "execution_count": 8,
     "metadata": {},
     "output_type": "execute_result"
    }
   ],
   "source": [
    "# graphique de repartition du nombre d'avions par modèle\n",
    "avions_types = avions.groupby('type_model')['ref_aero'].count()\n",
    "avions_types = avions_types.reset_index()\n",
    "avions_types.head(1)"
   ]
  },
  {
   "cell_type": "code",
   "execution_count": 9,
   "metadata": {},
   "outputs": [
    {
     "name": "stdout",
     "output_type": "stream",
     "text": [
      "<class 'pandas.core.frame.DataFrame'>\n",
      "RangeIndex: 15 entries, 0 to 14\n",
      "Data columns (total 2 columns):\n",
      " #   Column      Non-Null Count  Dtype \n",
      "---  ------      --------------  ----- \n",
      " 0   type_model  15 non-null     object\n",
      " 1   ref_aero    15 non-null     int64 \n",
      "dtypes: int64(1), object(1)\n",
      "memory usage: 372.0+ bytes\n"
     ]
    }
   ],
   "source": [
    "avions_types.info()"
   ]
  },
  {
   "cell_type": "code",
   "execution_count": 10,
   "metadata": {},
   "outputs": [],
   "source": [
    "avions_types['type_model'] = avions_types['type_model'].astype(str)"
   ]
  },
  {
   "cell_type": "code",
   "execution_count": 11,
   "metadata": {},
   "outputs": [],
   "source": [
    "avions_types['constructeurs'] = ''"
   ]
  },
  {
   "cell_type": "code",
   "execution_count": 12,
   "metadata": {},
   "outputs": [],
   "source": [
    "for index, row in avions_types.iterrows():\n",
    "    if row['type_model'].startswith('A'):\n",
    "        avions_types.at[index, 'constructeurs'] = 'AIRBUS'\n",
    "    if row['type_model'].startswith('B'):\n",
    "        avions_types.at[index, 'constructeurs'] = 'BOEING'\n",
    "    if row['type_model'].startswith('CRJ'):\n",
    "        avions_types.at[index, 'constructeurs'] = 'BOMBARDIER'\n",
    "    if row['type_model'].startswith('E'):\n",
    "        avions_types.at[index, 'constructeurs'] = 'EMBRAER'"
   ]
  },
  {
   "cell_type": "code",
   "execution_count": 13,
   "metadata": {},
   "outputs": [
    {
     "data": {
      "text/html": [
       "<div>\n",
       "<style scoped>\n",
       "    .dataframe tbody tr th:only-of-type {\n",
       "        vertical-align: middle;\n",
       "    }\n",
       "\n",
       "    .dataframe tbody tr th {\n",
       "        vertical-align: top;\n",
       "    }\n",
       "\n",
       "    .dataframe thead th {\n",
       "        text-align: right;\n",
       "    }\n",
       "</style>\n",
       "<table border=\"1\" class=\"dataframe\">\n",
       "  <thead>\n",
       "    <tr style=\"text-align: right;\">\n",
       "      <th></th>\n",
       "      <th>type_model</th>\n",
       "      <th>ref_aero</th>\n",
       "      <th>constructeurs</th>\n",
       "    </tr>\n",
       "  </thead>\n",
       "  <tbody>\n",
       "    <tr>\n",
       "      <th>0</th>\n",
       "      <td>A320</td>\n",
       "      <td>15</td>\n",
       "      <td>AIRBUS</td>\n",
       "    </tr>\n",
       "  </tbody>\n",
       "</table>\n",
       "</div>"
      ],
      "text/plain": [
       "  type_model  ref_aero constructeurs\n",
       "0       A320        15        AIRBUS"
      ]
     },
     "execution_count": 13,
     "metadata": {},
     "output_type": "execute_result"
    }
   ],
   "source": [
    "avions_types.head(1)"
   ]
  },
  {
   "cell_type": "code",
   "execution_count": 14,
   "metadata": {},
   "outputs": [
    {
     "data": {
      "image/png": "[encoded data removed]",
      "text/plain": [
       "<Figure size 640x480 with 1 Axes>"
      ]
     },
     "metadata": {},
     "output_type": "display_data"
    }
   ],
   "source": [
    "sns.barplot(data=avions_types, x='type_model', y='ref_aero', hue='constructeurs')\n",
    "plt.xticks(rotation=45)\n",
    "plt.title(\"Répatition de la flotte de la compagnie selon les types d'appareil\")\n",
    "plt.xlabel(\"type d'appareils\")\n",
    "plt.ylabel(\"nombre d'appareils\");"
   ]
  },
  {
   "cell_type": "code",
   "execution_count": 15,
   "metadata": {},
   "outputs": [
    {
     "data": {
      "text/html": [
       "<div>\n",
       "<style scoped>\n",
       "    .dataframe tbody tr th:only-of-type {\n",
       "        vertical-align: middle;\n",
       "    }\n",
       "\n",
       "    .dataframe tbody tr th {\n",
       "        vertical-align: top;\n",
       "    }\n",
       "\n",
       "    .dataframe thead th {\n",
       "        text-align: right;\n",
       "    }\n",
       "</style>\n",
       "<table border=\"1\" class=\"dataframe\">\n",
       "  <thead>\n",
       "    <tr style=\"text-align: right;\">\n",
       "      <th></th>\n",
       "      <th>constructeurs</th>\n",
       "      <th>nb_avions</th>\n",
       "    </tr>\n",
       "  </thead>\n",
       "  <tbody>\n",
       "    <tr>\n",
       "      <th>0</th>\n",
       "      <td>AIRBUS</td>\n",
       "      <td>101</td>\n",
       "    </tr>\n",
       "    <tr>\n",
       "      <th>1</th>\n",
       "      <td>BOEING</td>\n",
       "      <td>72</td>\n",
       "    </tr>\n",
       "    <tr>\n",
       "      <th>2</th>\n",
       "      <td>BOMBARDIER</td>\n",
       "      <td>28</td>\n",
       "    </tr>\n",
       "    <tr>\n",
       "      <th>3</th>\n",
       "      <td>EMBRAER</td>\n",
       "      <td>30</td>\n",
       "    </tr>\n",
       "  </tbody>\n",
       "</table>\n",
       "</div>"
      ],
      "text/plain": [
       "  constructeurs  nb_avions\n",
       "0        AIRBUS        101\n",
       "1        BOEING         72\n",
       "2    BOMBARDIER         28\n",
       "3       EMBRAER         30"
      ]
     },
     "execution_count": 15,
     "metadata": {},
     "output_type": "execute_result"
    }
   ],
   "source": [
    "marques_avions = avions_types.groupby('constructeurs').agg(nb_avions=('ref_aero', 'sum'))\n",
    "marques_avions = marques_avions.reset_index()\n",
    "marques_avions"
   ]
  },
  {
   "cell_type": "code",
   "execution_count": 16,
   "metadata": {},
   "outputs": [
    {
     "data": {
      "image/png": "[encoded data removed]",
      "text/plain": [
       "<Figure size 640x480 with 1 Axes>"
      ]
     },
     "metadata": {},
     "output_type": "display_data"
    }
   ],
   "source": [
    "sns.barplot(data=marques_avions, x='constructeurs', y='nb_avions') ;"
   ]
  },
  {
   "cell_type": "code",
   "execution_count": 17,
   "metadata": {},
   "outputs": [
    {
     "name": "stdout",
     "output_type": "stream",
     "text": [
      "<class 'pandas.core.frame.DataFrame'>\n",
      "RangeIndex: 231 entries, 0 to 230\n",
      "Data columns (total 6 columns):\n",
      " #   Column          Non-Null Count  Dtype \n",
      "---  ------          --------------  ----- \n",
      " 0   ref_aero        231 non-null    object\n",
      " 1   type_model      231 non-null    object\n",
      " 2   debut_service   231 non-null    object\n",
      " 3   last_maint      231 non-null    object\n",
      " 4   en_maintenance  231 non-null    bool  \n",
      " 5   end_maint       15 non-null     object\n",
      "dtypes: bool(1), object(5)\n",
      "memory usage: 9.4+ KB\n"
     ]
    }
   ],
   "source": [
    "avions.info()"
   ]
  },
  {
   "cell_type": "code",
   "execution_count": 18,
   "metadata": {},
   "outputs": [],
   "source": [
    "from datetime import datetime"
   ]
  },
  {
   "cell_type": "code",
   "execution_count": 19,
   "metadata": {},
   "outputs": [],
   "source": [
    "avions['last_maint'] = avions['last_maint'].str.replace(' 00:00:00', '')"
   ]
  },
  {
   "cell_type": "code",
   "execution_count": 20,
   "metadata": {},
   "outputs": [],
   "source": [
    "#transformer les colonnes dates du df en format datetime\n",
    "avions['debut_service'] = pd.to_datetime(avions['debut_service'])\n",
    "avions['last_maint'] = pd.to_datetime(avions['last_maint'])\n",
    "avions['end_maint'] = pd.to_datetime(avions['end_maint'])"
   ]
  },
  {
   "cell_type": "code",
   "execution_count": 21,
   "metadata": {},
   "outputs": [
    {
     "data": {
      "text/plain": [
       "Timestamp('2024-06-14 13:50:37.315654')"
      ]
     },
     "execution_count": 21,
     "metadata": {},
     "output_type": "execute_result"
    }
   ],
   "source": [
    "auj = datetime.today()\n",
    "auj = pd.to_datetime(auj)\n",
    "auj"
   ]
  },
  {
   "cell_type": "code",
   "execution_count": 22,
   "metadata": {},
   "outputs": [],
   "source": [
    "avions['age'] = 0"
   ]
  },
  {
   "cell_type": "code",
   "execution_count": 23,
   "metadata": {},
   "outputs": [],
   "source": [
    "#calculer l'age de chaque appareil (par rapport à la date d'aujourd'hui)\n",
    "for index, row in avions.iterrows():\n",
    "    avions.at[index, 'age'] = (auj - row['debut_service']).days // 365.2425"
   ]
  },
  {
   "cell_type": "code",
   "execution_count": 24,
   "metadata": {},
   "outputs": [
    {
     "data": {
      "text/html": [
       "<div>\n",
       "<style scoped>\n",
       "    .dataframe tbody tr th:only-of-type {\n",
       "        vertical-align: middle;\n",
       "    }\n",
       "\n",
       "    .dataframe tbody tr th {\n",
       "        vertical-align: top;\n",
       "    }\n",
       "\n",
       "    .dataframe thead th {\n",
       "        text-align: right;\n",
       "    }\n",
       "</style>\n",
       "<table border=\"1\" class=\"dataframe\">\n",
       "  <thead>\n",
       "    <tr style=\"text-align: right;\">\n",
       "      <th></th>\n",
       "      <th>ref_aero</th>\n",
       "      <th>type_model</th>\n",
       "      <th>debut_service</th>\n",
       "      <th>last_maint</th>\n",
       "      <th>en_maintenance</th>\n",
       "      <th>end_maint</th>\n",
       "      <th>age</th>\n",
       "    </tr>\n",
       "  </thead>\n",
       "  <tbody>\n",
       "    <tr>\n",
       "      <th>0</th>\n",
       "      <td>E170_6353</td>\n",
       "      <td>E170</td>\n",
       "      <td>2000-03-17</td>\n",
       "      <td>2024-03-27</td>\n",
       "      <td>False</td>\n",
       "      <td>NaT</td>\n",
       "      <td>24</td>\n",
       "    </tr>\n",
       "  </tbody>\n",
       "</table>\n",
       "</div>"
      ],
      "text/plain": [
       "    ref_aero type_model debut_service last_maint  en_maintenance end_maint  \\\n",
       "0  E170_6353       E170    2000-03-17 2024-03-27           False       NaT   \n",
       "\n",
       "   age  \n",
       "0   24  "
      ]
     },
     "execution_count": 24,
     "metadata": {},
     "output_type": "execute_result"
    }
   ],
   "source": [
    "avions.head(1)"
   ]
  },
  {
   "cell_type": "code",
   "execution_count": 25,
   "metadata": {},
   "outputs": [
    {
     "data": {
      "text/plain": [
       "12.887445887445887"
      ]
     },
     "execution_count": 25,
     "metadata": {},
     "output_type": "execute_result"
    }
   ],
   "source": [
    "#moyenne d'age des appareils\n",
    "avions['age'].mean()"
   ]
  },
  {
   "cell_type": "code",
   "execution_count": 26,
   "metadata": {},
   "outputs": [],
   "source": [
    "avions['constructeurs'] = ''\n",
    "for index, row in avions.iterrows():\n",
    "    if row['type_model'].startswith('A'):\n",
    "        avions.at[index, 'constructeurs'] = 'AIRBUS'\n",
    "    if row['type_model'].startswith('B'):\n",
    "        avions.at[index, 'constructeurs'] = 'BOEING'\n",
    "    if row['type_model'].startswith('CRJ'):\n",
    "        avions.at[index, 'constructeurs'] = 'BOMBARDIER'\n",
    "    if row['type_model'].startswith('E'):\n",
    "        avions.at[index, 'constructeurs'] = 'EMBRAER'"
   ]
  },
  {
   "cell_type": "code",
   "execution_count": 27,
   "metadata": {},
   "outputs": [
    {
     "data": {
      "text/plain": [
       "constructeurs\n",
       "AIRBUS        12.009901\n",
       "BOEING        13.277778\n",
       "BOMBARDIER    14.392857\n",
       "EMBRAER       13.500000\n",
       "Name: age, dtype: float64"
      ]
     },
     "execution_count": 27,
     "metadata": {},
     "output_type": "execute_result"
    }
   ],
   "source": [
    "#voir la moyenne d'age des avions par marques puis par modèle\n",
    "avions.groupby('constructeurs')['age'].mean()"
   ]
  },
  {
   "cell_type": "code",
   "execution_count": 28,
   "metadata": {},
   "outputs": [
    {
     "data": {
      "text/plain": [
       "constructeurs  type_model\n",
       "AIRBUS         A320          11.866667\n",
       "               A321          14.181818\n",
       "               A330          11.050000\n",
       "               A340          12.687500\n",
       "               A350          11.727273\n",
       "               A380          11.588235\n",
       "BOEING         B737          13.769231\n",
       "               B747          13.476190\n",
       "               B757          14.727273\n",
       "               B767          12.153846\n",
       "               B777          12.428571\n",
       "BOMBARDIER     CRJ700        13.333333\n",
       "               CRJ900        15.615385\n",
       "EMBRAER        E170          14.312500\n",
       "               E175          12.571429\n",
       "Name: age, dtype: float64"
      ]
     },
     "execution_count": 28,
     "metadata": {},
     "output_type": "execute_result"
    }
   ],
   "source": [
    "avions.groupby(['constructeurs', 'type_model'])['age'].mean()"
   ]
  },
  {
   "cell_type": "markdown",
   "metadata": {},
   "source": [
    "Le dernier Boeing 727 assurant des vols réguliers de transport de passagers a pris sa retraite après plus de 38 ans d'activité.\n",
    "A l'inverse un 777-200LR s'appête à être détruit au Royaume Uni après seulement 11 ans d'activité.\n",
    "La durée de vie opérationnelle d'un avion commercial est régie par de multiples facteurs qui dépassent les seuls aspects liés à la maintenance.\n",
    "\n",
    "En aviation, on a l’habitude de dire qu’un avion au sol est un avion qui coûte de l’argent. Plus il est en vol, plus il rapporte.\n",
    "Les avions court-courriers enchainent atterrissages et décollages de nombreuses fois par jour. A l’opposé, les avions-long-courriers passent beaucoup plus de temps dans les airs pour un temps de rotation plus longs. Alors lequel de ces deux appareils est soumis à davantage de contraintes structurelles ? La réponse n’est pas aussi tranchée.\n",
    "Les avions court-courriers et moyen-courriers sont soumis à des contraintes différentes mais chacun d’eux a été conçu pour une utilisation qui lui est propre.\n",
    "Leur durée de vie est comparable, 25 ans en moyenne. Le court-courrier va utiliser davantage de pneus en raison des atterrissages-décollages répétés. En revanche le nombre de cycles, c’est à dire le nombre de vols qu’ils peuvent effectuer, est logiquement bien différent."
   ]
  },
  {
   "cell_type": "markdown",
   "metadata": {},
   "source": [
    "chez AF-KLM : Au 31 décembre 2023, l'âge moyen de la flotte en exploitation est de 13,5 ans dont 11,1 ans pour la flotte long-courrier et 17,1 ans pour la flotte moyen-courrier\n",
    "chez Iberia : 9.60 ans\n",
    "chez British  : 13.50\n",
    "chez EMIRATES la moyenne d'age est de 10.30\n",
    "chez QATAR : 8.80 ans\n",
    "chez SINGAPOR AIRLINES la moyenne est de 7.2 ans (max 20.50 et mini 4.3)\n",
    "chez CATHAY : 10.80\n",
    "chez DELTA 15.20, United : 16.20 et American 13.40\n",
    "chez ETHIOPIAN : 8.30 ans\n",
    "chez RAM : 12.9 ans\n",
    "chez MK : 10.60"
   ]
  },
  {
   "cell_type": "markdown",
   "metadata": {},
   "source": [
    "notre compagnie a donc une flotte légèrement plus vieillissante que la moyenne"
   ]
  },
  {
   "cell_type": "code",
   "execution_count": 29,
   "metadata": {},
   "outputs": [
    {
     "data": {
      "text/plain": [
       "count                              231\n",
       "mean     2024-04-11 03:19:28.831168768\n",
       "min                2023-07-02 00:00:00\n",
       "25%                2024-02-20 00:00:00\n",
       "50%                2024-05-31 00:00:00\n",
       "75%                2024-06-01 00:00:00\n",
       "max                2024-06-02 00:00:00\n",
       "Name: last_maint, dtype: object"
      ]
     },
     "execution_count": 29,
     "metadata": {},
     "output_type": "execute_result"
    }
   ],
   "source": [
    "#afficher la derniere maintenance\n",
    "#afficher la plus vieille maintenance\n",
    "#y a t'il des avions sans date de derniere maintenance ?\n",
    "avions['last_maint'].describe()"
   ]
  },
  {
   "cell_type": "markdown",
   "metadata": {},
   "source": [
    "50% des appareils ont été révisé le 31/05/2024, soit y a 2 semaines"
   ]
  },
  {
   "cell_type": "code",
   "execution_count": 30,
   "metadata": {},
   "outputs": [
    {
     "data": {
      "text/plain": [
       "count                               15\n",
       "mean     2024-06-05 07:48:59.999999744\n",
       "min                2024-06-03 14:13:00\n",
       "25%                2024-06-03 14:13:00\n",
       "50%                2024-06-03 14:13:00\n",
       "75%                2024-06-03 14:13:00\n",
       "max                2024-06-16 14:13:00\n",
       "Name: end_maint, dtype: object"
      ]
     },
     "execution_count": 30,
     "metadata": {},
     "output_type": "execute_result"
    }
   ],
   "source": [
    "avions['end_maint'].describe()"
   ]
  },
  {
   "cell_type": "markdown",
   "metadata": {},
   "source": [
    "seulement 15 avions sur 231 sont actuellement en maintenance"
   ]
  },
  {
   "cell_type": "code",
   "execution_count": 31,
   "metadata": {},
   "outputs": [
    {
     "data": {
      "text/html": [
       "<div>\n",
       "<style scoped>\n",
       "    .dataframe tbody tr th:only-of-type {\n",
       "        vertical-align: middle;\n",
       "    }\n",
       "\n",
       "    .dataframe tbody tr th {\n",
       "        vertical-align: top;\n",
       "    }\n",
       "\n",
       "    .dataframe thead th {\n",
       "        text-align: right;\n",
       "    }\n",
       "</style>\n",
       "<table border=\"1\" class=\"dataframe\">\n",
       "  <thead>\n",
       "    <tr style=\"text-align: right;\">\n",
       "      <th></th>\n",
       "      <th>ref_aero</th>\n",
       "      <th>type_model</th>\n",
       "      <th>debut_service</th>\n",
       "      <th>last_maint</th>\n",
       "      <th>en_maintenance</th>\n",
       "      <th>end_maint</th>\n",
       "      <th>age</th>\n",
       "      <th>constructeurs</th>\n",
       "    </tr>\n",
       "  </thead>\n",
       "  <tbody>\n",
       "    <tr>\n",
       "      <th>2</th>\n",
       "      <td>CRJ700_6943</td>\n",
       "      <td>CRJ700</td>\n",
       "      <td>2015-01-29</td>\n",
       "      <td>2024-06-02</td>\n",
       "      <td>True</td>\n",
       "      <td>2024-06-03 14:13:00</td>\n",
       "      <td>9</td>\n",
       "      <td>BOMBARDIER</td>\n",
       "    </tr>\n",
       "    <tr>\n",
       "      <th>54</th>\n",
       "      <td>CRJ900_4821</td>\n",
       "      <td>CRJ900</td>\n",
       "      <td>2001-09-22</td>\n",
       "      <td>2024-06-02</td>\n",
       "      <td>True</td>\n",
       "      <td>2024-06-03 14:13:00</td>\n",
       "      <td>22</td>\n",
       "      <td>BOMBARDIER</td>\n",
       "    </tr>\n",
       "    <tr>\n",
       "      <th>64</th>\n",
       "      <td>A330_2602</td>\n",
       "      <td>A330</td>\n",
       "      <td>2011-06-02</td>\n",
       "      <td>2024-06-02</td>\n",
       "      <td>True</td>\n",
       "      <td>2024-06-03 14:13:00</td>\n",
       "      <td>13</td>\n",
       "      <td>AIRBUS</td>\n",
       "    </tr>\n",
       "    <tr>\n",
       "      <th>79</th>\n",
       "      <td>B757_4595</td>\n",
       "      <td>B757</td>\n",
       "      <td>2007-05-01</td>\n",
       "      <td>2024-06-02</td>\n",
       "      <td>True</td>\n",
       "      <td>2024-06-03 14:13:00</td>\n",
       "      <td>17</td>\n",
       "      <td>BOEING</td>\n",
       "    </tr>\n",
       "    <tr>\n",
       "      <th>93</th>\n",
       "      <td>B757_2518</td>\n",
       "      <td>B757</td>\n",
       "      <td>2006-05-09</td>\n",
       "      <td>2024-06-02</td>\n",
       "      <td>True</td>\n",
       "      <td>2024-06-16 14:13:00</td>\n",
       "      <td>18</td>\n",
       "      <td>BOEING</td>\n",
       "    </tr>\n",
       "    <tr>\n",
       "      <th>95</th>\n",
       "      <td>A330_2982</td>\n",
       "      <td>A330</td>\n",
       "      <td>2009-07-26</td>\n",
       "      <td>2024-06-02</td>\n",
       "      <td>True</td>\n",
       "      <td>2024-06-03 14:13:00</td>\n",
       "      <td>14</td>\n",
       "      <td>AIRBUS</td>\n",
       "    </tr>\n",
       "    <tr>\n",
       "      <th>116</th>\n",
       "      <td>E170_2943</td>\n",
       "      <td>E170</td>\n",
       "      <td>2004-11-23</td>\n",
       "      <td>2024-06-02</td>\n",
       "      <td>True</td>\n",
       "      <td>2024-06-03 14:13:00</td>\n",
       "      <td>19</td>\n",
       "      <td>EMBRAER</td>\n",
       "    </tr>\n",
       "    <tr>\n",
       "      <th>126</th>\n",
       "      <td>B777_3944</td>\n",
       "      <td>B777</td>\n",
       "      <td>2003-10-29</td>\n",
       "      <td>2024-06-02</td>\n",
       "      <td>True</td>\n",
       "      <td>2024-06-03 14:13:00</td>\n",
       "      <td>20</td>\n",
       "      <td>BOEING</td>\n",
       "    </tr>\n",
       "    <tr>\n",
       "      <th>130</th>\n",
       "      <td>A380_6924</td>\n",
       "      <td>A380</td>\n",
       "      <td>2009-01-21</td>\n",
       "      <td>2024-06-02</td>\n",
       "      <td>True</td>\n",
       "      <td>2024-06-03 14:13:00</td>\n",
       "      <td>15</td>\n",
       "      <td>AIRBUS</td>\n",
       "    </tr>\n",
       "    <tr>\n",
       "      <th>143</th>\n",
       "      <td>A340_1047</td>\n",
       "      <td>A340</td>\n",
       "      <td>2017-07-30</td>\n",
       "      <td>2024-06-02</td>\n",
       "      <td>True</td>\n",
       "      <td>2024-06-03 14:13:00</td>\n",
       "      <td>6</td>\n",
       "      <td>AIRBUS</td>\n",
       "    </tr>\n",
       "    <tr>\n",
       "      <th>148</th>\n",
       "      <td>A340_3887</td>\n",
       "      <td>A340</td>\n",
       "      <td>2017-10-26</td>\n",
       "      <td>2024-06-02</td>\n",
       "      <td>True</td>\n",
       "      <td>2024-06-03 14:13:00</td>\n",
       "      <td>6</td>\n",
       "      <td>AIRBUS</td>\n",
       "    </tr>\n",
       "    <tr>\n",
       "      <th>160</th>\n",
       "      <td>CRJ700_1442</td>\n",
       "      <td>CRJ700</td>\n",
       "      <td>2011-12-29</td>\n",
       "      <td>2024-06-02</td>\n",
       "      <td>True</td>\n",
       "      <td>2024-06-16 14:13:00</td>\n",
       "      <td>12</td>\n",
       "      <td>BOMBARDIER</td>\n",
       "    </tr>\n",
       "    <tr>\n",
       "      <th>181</th>\n",
       "      <td>E170_0081</td>\n",
       "      <td>E170</td>\n",
       "      <td>2019-09-02</td>\n",
       "      <td>2024-06-02</td>\n",
       "      <td>True</td>\n",
       "      <td>2024-06-03 14:13:00</td>\n",
       "      <td>4</td>\n",
       "      <td>EMBRAER</td>\n",
       "    </tr>\n",
       "    <tr>\n",
       "      <th>188</th>\n",
       "      <td>A330_6979</td>\n",
       "      <td>A330</td>\n",
       "      <td>2008-04-03</td>\n",
       "      <td>2024-06-02</td>\n",
       "      <td>True</td>\n",
       "      <td>2024-06-03 14:13:00</td>\n",
       "      <td>16</td>\n",
       "      <td>AIRBUS</td>\n",
       "    </tr>\n",
       "    <tr>\n",
       "      <th>222</th>\n",
       "      <td>A321_4232</td>\n",
       "      <td>A321</td>\n",
       "      <td>2015-07-30</td>\n",
       "      <td>2024-06-02</td>\n",
       "      <td>True</td>\n",
       "      <td>2024-06-03 14:13:00</td>\n",
       "      <td>8</td>\n",
       "      <td>AIRBUS</td>\n",
       "    </tr>\n",
       "  </tbody>\n",
       "</table>\n",
       "</div>"
      ],
      "text/plain": [
       "        ref_aero type_model debut_service last_maint  en_maintenance  \\\n",
       "2    CRJ700_6943     CRJ700    2015-01-29 2024-06-02            True   \n",
       "54   CRJ900_4821     CRJ900    2001-09-22 2024-06-02            True   \n",
       "64     A330_2602       A330    2011-06-02 2024-06-02            True   \n",
       "79     B757_4595       B757    2007-05-01 2024-06-02            True   \n",
       "93     B757_2518       B757    2006-05-09 2024-06-02            True   \n",
       "95     A330_2982       A330    2009-07-26 2024-06-02            True   \n",
       "116    E170_2943       E170    2004-11-23 2024-06-02            True   \n",
       "126    B777_3944       B777    2003-10-29 2024-06-02            True   \n",
       "130    A380_6924       A380    2009-01-21 2024-06-02            True   \n",
       "143    A340_1047       A340    2017-07-30 2024-06-02            True   \n",
       "148    A340_3887       A340    2017-10-26 2024-06-02            True   \n",
       "160  CRJ700_1442     CRJ700    2011-12-29 2024-06-02            True   \n",
       "181    E170_0081       E170    2019-09-02 2024-06-02            True   \n",
       "188    A330_6979       A330    2008-04-03 2024-06-02            True   \n",
       "222    A321_4232       A321    2015-07-30 2024-06-02            True   \n",
       "\n",
       "              end_maint  age constructeurs  \n",
       "2   2024-06-03 14:13:00    9    BOMBARDIER  \n",
       "54  2024-06-03 14:13:00   22    BOMBARDIER  \n",
       "64  2024-06-03 14:13:00   13        AIRBUS  \n",
       "79  2024-06-03 14:13:00   17        BOEING  \n",
       "93  2024-06-16 14:13:00   18        BOEING  \n",
       "95  2024-06-03 14:13:00   14        AIRBUS  \n",
       "116 2024-06-03 14:13:00   19       EMBRAER  \n",
       "126 2024-06-03 14:13:00   20        BOEING  \n",
       "130 2024-06-03 14:13:00   15        AIRBUS  \n",
       "143 2024-06-03 14:13:00    6        AIRBUS  \n",
       "148 2024-06-03 14:13:00    6        AIRBUS  \n",
       "160 2024-06-16 14:13:00   12    BOMBARDIER  \n",
       "181 2024-06-03 14:13:00    4       EMBRAER  \n",
       "188 2024-06-03 14:13:00   16        AIRBUS  \n",
       "222 2024-06-03 14:13:00    8        AIRBUS  "
      ]
     },
     "execution_count": 31,
     "metadata": {},
     "output_type": "execute_result"
    }
   ],
   "source": [
    "#afficher ces avions\n",
    "avions.loc[avions['en_maintenance'] == True, :]"
   ]
  },
  {
   "cell_type": "markdown",
   "metadata": {},
   "source": [
    "la grande majorité des maintenance sont de courte durée : 1 jour\n",
    "seulement 2 avions sont cloués au sol pour 2 semaines. B757_2518 et CRJ700_1442"
   ]
  },
  {
   "cell_type": "markdown",
   "metadata": {},
   "source": [
    "COMPOSANTS"
   ]
  },
  {
   "cell_type": "code",
   "execution_count": 32,
   "metadata": {},
   "outputs": [
    {
     "data": {
      "text/html": [
       "<div>\n",
       "<style scoped>\n",
       "    .dataframe tbody tr th:only-of-type {\n",
       "        vertical-align: middle;\n",
       "    }\n",
       "\n",
       "    .dataframe tbody tr th {\n",
       "        vertical-align: top;\n",
       "    }\n",
       "\n",
       "    .dataframe thead th {\n",
       "        text-align: right;\n",
       "    }\n",
       "</style>\n",
       "<table border=\"1\" class=\"dataframe\">\n",
       "  <thead>\n",
       "    <tr style=\"text-align: right;\">\n",
       "      <th></th>\n",
       "      <th>ref_compo</th>\n",
       "      <th>categorie</th>\n",
       "      <th>aero</th>\n",
       "      <th>desc</th>\n",
       "      <th>lifespan</th>\n",
       "      <th>taux_usure_actuel</th>\n",
       "      <th>cout</th>\n",
       "    </tr>\n",
       "  </thead>\n",
       "  <tbody>\n",
       "    <tr>\n",
       "      <th>0</th>\n",
       "      <td>AILA320-A320_1884-20</td>\n",
       "      <td>Composants Majeurs</td>\n",
       "      <td>A320_1884</td>\n",
       "      <td>Ailerons</td>\n",
       "      <td>10524</td>\n",
       "      <td>23.392968</td>\n",
       "      <td>10290</td>\n",
       "    </tr>\n",
       "  </tbody>\n",
       "</table>\n",
       "</div>"
      ],
      "text/plain": [
       "              ref_compo           categorie       aero      desc  lifespan  \\\n",
       "0  AILA320-A320_1884-20  Composants Majeurs  A320_1884  Ailerons     10524   \n",
       "\n",
       "   taux_usure_actuel   cout  \n",
       "0          23.392968  10290  "
      ]
     },
     "execution_count": 32,
     "metadata": {},
     "output_type": "execute_result"
    }
   ],
   "source": [
    "composants.head(1)"
   ]
  },
  {
   "cell_type": "code",
   "execution_count": 33,
   "metadata": {},
   "outputs": [
    {
     "data": {
      "text/plain": [
       "3"
      ]
     },
     "execution_count": 33,
     "metadata": {},
     "output_type": "execute_result"
    }
   ],
   "source": [
    "#combien de catégories de composants\n",
    "composants['categorie'].nunique()"
   ]
  },
  {
   "cell_type": "code",
   "execution_count": 34,
   "metadata": {},
   "outputs": [
    {
     "data": {
      "text/plain": [
       "categorie\n",
       "Composants Majeurs        3696\n",
       "Composants Critiques      3465\n",
       "Composants Secondaires    3234\n",
       "Name: count, dtype: int64"
      ]
     },
     "execution_count": 34,
     "metadata": {},
     "output_type": "execute_result"
    }
   ],
   "source": [
    "#quelles sont t'elles ?\n",
    "composants['categorie'].value_counts()"
   ]
  },
  {
   "cell_type": "code",
   "execution_count": 35,
   "metadata": {},
   "outputs": [
    {
     "data": {
      "text/plain": [
       "categorie\n",
       "Composants Majeurs        0.355556\n",
       "Composants Critiques      0.333333\n",
       "Composants Secondaires    0.311111\n",
       "Name: proportion, dtype: float64"
      ]
     },
     "execution_count": 35,
     "metadata": {},
     "output_type": "execute_result"
    }
   ],
   "source": [
    "composants['categorie'].value_counts(normalize=True)"
   ]
  },
  {
   "cell_type": "markdown",
   "metadata": {},
   "source": [
    "les catégories semblent bien proportionnées. 1/3 des composants pour chacune des 3 catégories"
   ]
  },
  {
   "cell_type": "code",
   "execution_count": 36,
   "metadata": {},
   "outputs": [
    {
     "data": {
      "text/plain": [
       "44"
      ]
     },
     "execution_count": 36,
     "metadata": {},
     "output_type": "execute_result"
    }
   ],
   "source": [
    "#combien de types de composants (avec desc)\n",
    "composants['desc'].nunique()"
   ]
  },
  {
   "cell_type": "code",
   "execution_count": 37,
   "metadata": {},
   "outputs": [
    {
     "data": {
      "text/plain": [
       "desc\n",
       "Système de conditionnement d'air               462\n",
       "Ailerons                                       231\n",
       "Autopilote                                     231\n",
       "Système de surveillance du trafic aérien       231\n",
       "Système hydraulique principal                  231\n",
       "Système anti-givre                             231\n",
       "Système de navigation                          231\n",
       "Système de contrôle des surfaces de vol        231\n",
       "Système de pressurisation                      231\n",
       "Système d'extinction d'incendie                231\n",
       "Système de divertissement en vol               231\n",
       "Système d'annonce publique                     231\n",
       "Systèmes d'oxygène d'urgence                   231\n",
       "Système d'approvisionnement en eau             231\n",
       "Système de contrôle de vol                     231\n",
       "Système de communication radio                 231\n",
       "Système de gestion de carburant                231\n",
       "Système d'alerte de proximité au sol (GPWS)    231\n",
       "Toilettes                                      231\n",
       "Train d'atterrissage principal                 231\n",
       "Train d'atterrissage avant                     231\n",
       "Système d'atterrissage automatique             231\n",
       "Système de gestion électrique                  231\n",
       "Système de commande des gaz                    231\n",
       "Gouvernail de direction                        231\n",
       "Détecteurs de fumée                            231\n",
       "Éclairage de cabine                            231\n",
       "Éclairage d'urgence                            231\n",
       "Éclairage de la cabine                         231\n",
       "Empennage                                      231\n",
       "Flaps                                          231\n",
       "Freins                                         231\n",
       "Générateur électrique                          231\n",
       "Hublots                                        231\n",
       "Spoilers                                       231\n",
       "Ordinateur de vol                              231\n",
       "Porte cargo                                    231\n",
       "Portes passagers                               231\n",
       "Radar météorologique                           231\n",
       "Réacteur gauche                                231\n",
       "Réacteur droit                                 231\n",
       "Siège pilote                                   231\n",
       "Siège copilote                                 231\n",
       "Unité de gestion de l'air                      231\n",
       "Name: count, dtype: int64"
      ]
     },
     "execution_count": 37,
     "metadata": {},
     "output_type": "execute_result"
    }
   ],
   "source": [
    "#quelles sont t'ils ?\n",
    "composants['desc'].value_counts()"
   ]
  },
  {
   "cell_type": "markdown",
   "metadata": {},
   "source": [
    "A l'exception des systèmes de conditionnement d'air, il y a autant de type de composants que d'avion. \n",
    "On peut en conclure que chaque avion a un composant de chaque type (44) + systèmes de conditionnement d'air (+1)"
   ]
  },
  {
   "cell_type": "code",
   "execution_count": 38,
   "metadata": {},
   "outputs": [
    {
     "data": {
      "text/plain": [
       "aero\n",
       "A320_1884    45\n",
       "A320_1930    45\n",
       "A320_2237    45\n",
       "A320_2497    45\n",
       "A320_2562    45\n",
       "             ..\n",
       "E175_4558    45\n",
       "E175_5414    45\n",
       "E175_5586    45\n",
       "E175_6729    45\n",
       "E175_6879    45\n",
       "Name: desc, Length: 231, dtype: int64"
      ]
     },
     "execution_count": 38,
     "metadata": {},
     "output_type": "execute_result"
    }
   ],
   "source": [
    "composants.groupby('aero')['desc'].count()"
   ]
  },
  {
   "cell_type": "code",
   "execution_count": 39,
   "metadata": {},
   "outputs": [
    {
     "data": {
      "text/plain": [
       "categorie               desc                                       \n",
       "Composants Critiques    Autopilote                                     231\n",
       "                        Ordinateur de vol                              231\n",
       "                        Système de gestion de carburant                231\n",
       "                        Radar météorologique                           231\n",
       "                        Réacteur droit                                 231\n",
       "                        Réacteur gauche                                231\n",
       "                        Système d'alerte de proximité au sol (GPWS)    231\n",
       "                        Système d'atterrissage automatique             231\n",
       "                        Système de commande des gaz                    231\n",
       "                        Système de communication radio                 231\n",
       "                        Système de contrôle de vol                     231\n",
       "                        Système de gestion électrique                  231\n",
       "                        Système de navigation                          231\n",
       "                        Système de surveillance du trafic aérien       231\n",
       "                        Unité de gestion de l'air                      231\n",
       "Composants Majeurs      Système de conditionnement d'air               462\n",
       "                        Système de contrôle des surfaces de vol        231\n",
       "                        Système de pressurisation                      231\n",
       "                        Système hydraulique principal                  231\n",
       "                        Train d'atterrissage avant                     231\n",
       "                        Train d'atterrissage principal                 231\n",
       "                        Système d'extinction d'incendie                231\n",
       "                        Système anti-givre                             231\n",
       "                        Spoilers                                       231\n",
       "                        Générateur électrique                          231\n",
       "                        Ailerons                                       231\n",
       "                        Empennage                                      231\n",
       "                        Flaps                                          231\n",
       "                        Freins                                         231\n",
       "                        Gouvernail de direction                        231\n",
       "Composants Secondaires  Détecteurs de fumée                            231\n",
       "                        Hublots                                        231\n",
       "                        Porte cargo                                    231\n",
       "                        Portes passagers                               231\n",
       "                        Siège copilote                                 231\n",
       "                        Siège pilote                                   231\n",
       "                        Système d'annonce publique                     231\n",
       "                        Système d'approvisionnement en eau             231\n",
       "                        Système de divertissement en vol               231\n",
       "                        Systèmes d'oxygène d'urgence                   231\n",
       "                        Toilettes                                      231\n",
       "                        Éclairage d'urgence                            231\n",
       "                        Éclairage de cabine                            231\n",
       "                        Éclairage de la cabine                         231\n",
       "Name: count, dtype: int64"
      ]
     },
     "execution_count": 39,
     "metadata": {},
     "output_type": "execute_result"
    }
   ],
   "source": [
    "#ventilation des types de composants selon les 3 catégories\n",
    "composants.groupby('categorie')['desc'].value_counts()"
   ]
  },
  {
   "cell_type": "code",
   "execution_count": 40,
   "metadata": {},
   "outputs": [
    {
     "data": {
      "text/plain": [
       "count    10395.000000\n",
       "mean     11420.044444\n",
       "std       5763.305465\n",
       "min       2021.000000\n",
       "25%       4801.000000\n",
       "50%      12664.000000\n",
       "75%      16266.000000\n",
       "max      19492.000000\n",
       "Name: cout, dtype: float64"
      ]
     },
     "execution_count": 40,
     "metadata": {},
     "output_type": "execute_result"
    }
   ],
   "source": [
    "#quels sont les couts de ces composants ??\n",
    "composants['cout'].describe()"
   ]
  },
  {
   "cell_type": "markdown",
   "metadata": {},
   "source": [
    "cout mini = 2000 euro\n",
    "cout maxi = 19500 euro\n",
    "Q2 ou médiane 12500 euro"
   ]
  },
  {
   "cell_type": "code",
   "execution_count": 45,
   "metadata": {},
   "outputs": [
    {
     "data": {
      "image/png": "[encoded data removed]",
      "text/plain": [
       "<Figure size 640x480 with 1 Axes>"
      ]
     },
     "metadata": {},
     "output_type": "display_data"
    }
   ],
   "source": [
    "plt.boxplot(composants['cout'], vert=False)\n",
    "plt.xlabel('cout')\n",
    "plt.title('Distribution des couts des composants');"
   ]
  },
  {
   "cell_type": "code",
   "execution_count": 64,
   "metadata": {},
   "outputs": [
    {
     "data": {
      "image/png": "[encoded data removed]",
      "text/plain": [
       "<Figure size 640x480 with 1 Axes>"
      ]
     },
     "metadata": {},
     "output_type": "display_data"
    }
   ],
   "source": [
    "sns.boxplot(data=composants, x='categorie', y='cout') ;"
   ]
  },
  {
   "cell_type": "code",
   "execution_count": 46,
   "metadata": {},
   "outputs": [
    {
     "data": {
      "text/plain": [
       "count    10395.000000\n",
       "mean     13571.933333\n",
       "std       8481.016341\n",
       "min      10023.000000\n",
       "25%      11015.000000\n",
       "50%      12643.000000\n",
       "75%      13626.000000\n",
       "max      68978.000000\n",
       "Name: lifespan, dtype: float64"
      ]
     },
     "execution_count": 46,
     "metadata": {},
     "output_type": "execute_result"
    }
   ],
   "source": [
    "#quelles sont les valeur de la durée de vie des composants\n",
    "composants['lifespan'].describe()"
   ]
  },
  {
   "cell_type": "markdown",
   "metadata": {},
   "source": [
    "probablement un outlier sur lifespan max"
   ]
  },
  {
   "cell_type": "code",
   "execution_count": 48,
   "metadata": {},
   "outputs": [
    {
     "data": {
      "image/png": "[encoded data removed]",
      "text/plain": [
       "<Figure size 640x480 with 1 Axes>"
      ]
     },
     "metadata": {},
     "output_type": "display_data"
    }
   ],
   "source": [
    "plt.boxplot(composants['lifespan'], vert=False)\n",
    "plt.xlabel('durée de vie')\n",
    "plt.title('Distribution de la durée de vie des composants');"
   ]
  },
  {
   "cell_type": "code",
   "execution_count": 49,
   "metadata": {},
   "outputs": [
    {
     "data": {
      "text/html": [
       "<div>\n",
       "<style scoped>\n",
       "    .dataframe tbody tr th:only-of-type {\n",
       "        vertical-align: middle;\n",
       "    }\n",
       "\n",
       "    .dataframe tbody tr th {\n",
       "        vertical-align: top;\n",
       "    }\n",
       "\n",
       "    .dataframe thead th {\n",
       "        text-align: right;\n",
       "    }\n",
       "</style>\n",
       "<table border=\"1\" class=\"dataframe\">\n",
       "  <thead>\n",
       "    <tr style=\"text-align: right;\">\n",
       "      <th></th>\n",
       "      <th>ref_compo</th>\n",
       "      <th>categorie</th>\n",
       "      <th>aero</th>\n",
       "      <th>desc</th>\n",
       "      <th>lifespan</th>\n",
       "      <th>taux_usure_actuel</th>\n",
       "      <th>cout</th>\n",
       "    </tr>\n",
       "  </thead>\n",
       "  <tbody>\n",
       "    <tr>\n",
       "      <th>2541</th>\n",
       "      <td>HUBA320-A320_1884-42</td>\n",
       "      <td>Composants Secondaires</td>\n",
       "      <td>A320_1884</td>\n",
       "      <td>Hublots</td>\n",
       "      <td>68978</td>\n",
       "      <td>21.496196</td>\n",
       "      <td>3593</td>\n",
       "    </tr>\n",
       "    <tr>\n",
       "      <th>2542</th>\n",
       "      <td>HUBA320-A320_1930-42</td>\n",
       "      <td>Composants Secondaires</td>\n",
       "      <td>A320_1930</td>\n",
       "      <td>Hublots</td>\n",
       "      <td>68978</td>\n",
       "      <td>42.278162</td>\n",
       "      <td>3593</td>\n",
       "    </tr>\n",
       "    <tr>\n",
       "      <th>2543</th>\n",
       "      <td>HUBA320-A320_2237-42</td>\n",
       "      <td>Composants Secondaires</td>\n",
       "      <td>A320_2237</td>\n",
       "      <td>Hublots</td>\n",
       "      <td>68978</td>\n",
       "      <td>13.603570</td>\n",
       "      <td>3593</td>\n",
       "    </tr>\n",
       "    <tr>\n",
       "      <th>2544</th>\n",
       "      <td>HUBA320-A320_2497-42</td>\n",
       "      <td>Composants Secondaires</td>\n",
       "      <td>A320_2497</td>\n",
       "      <td>Hublots</td>\n",
       "      <td>68978</td>\n",
       "      <td>39.611668</td>\n",
       "      <td>3593</td>\n",
       "    </tr>\n",
       "    <tr>\n",
       "      <th>2545</th>\n",
       "      <td>HUBA320-A320_2562-42</td>\n",
       "      <td>Composants Secondaires</td>\n",
       "      <td>A320_2562</td>\n",
       "      <td>Hublots</td>\n",
       "      <td>68978</td>\n",
       "      <td>14.287878</td>\n",
       "      <td>3593</td>\n",
       "    </tr>\n",
       "    <tr>\n",
       "      <th>...</th>\n",
       "      <td>...</td>\n",
       "      <td>...</td>\n",
       "      <td>...</td>\n",
       "      <td>...</td>\n",
       "      <td>...</td>\n",
       "      <td>...</td>\n",
       "      <td>...</td>\n",
       "    </tr>\n",
       "    <tr>\n",
       "      <th>2767</th>\n",
       "      <td>HUBE175-E175_4558-42</td>\n",
       "      <td>Composants Secondaires</td>\n",
       "      <td>E175_4558</td>\n",
       "      <td>Hublots</td>\n",
       "      <td>68978</td>\n",
       "      <td>5.078538</td>\n",
       "      <td>3593</td>\n",
       "    </tr>\n",
       "    <tr>\n",
       "      <th>2768</th>\n",
       "      <td>HUBE175-E175_5414-42</td>\n",
       "      <td>Composants Secondaires</td>\n",
       "      <td>E175_5414</td>\n",
       "      <td>Hublots</td>\n",
       "      <td>68978</td>\n",
       "      <td>47.851384</td>\n",
       "      <td>3593</td>\n",
       "    </tr>\n",
       "    <tr>\n",
       "      <th>2769</th>\n",
       "      <td>HUBE175-E175_5586-42</td>\n",
       "      <td>Composants Secondaires</td>\n",
       "      <td>E175_5586</td>\n",
       "      <td>Hublots</td>\n",
       "      <td>68978</td>\n",
       "      <td>58.251448</td>\n",
       "      <td>3593</td>\n",
       "    </tr>\n",
       "    <tr>\n",
       "      <th>2770</th>\n",
       "      <td>HUBE175-E175_6729-42</td>\n",
       "      <td>Composants Secondaires</td>\n",
       "      <td>E175_6729</td>\n",
       "      <td>Hublots</td>\n",
       "      <td>68978</td>\n",
       "      <td>24.912690</td>\n",
       "      <td>3593</td>\n",
       "    </tr>\n",
       "    <tr>\n",
       "      <th>2771</th>\n",
       "      <td>HUBE175-E175_6879-42</td>\n",
       "      <td>Composants Secondaires</td>\n",
       "      <td>E175_6879</td>\n",
       "      <td>Hublots</td>\n",
       "      <td>68978</td>\n",
       "      <td>13.322548</td>\n",
       "      <td>3593</td>\n",
       "    </tr>\n",
       "  </tbody>\n",
       "</table>\n",
       "<p>231 rows × 7 columns</p>\n",
       "</div>"
      ],
      "text/plain": [
       "                 ref_compo               categorie       aero     desc  \\\n",
       "2541  HUBA320-A320_1884-42  Composants Secondaires  A320_1884  Hublots   \n",
       "2542  HUBA320-A320_1930-42  Composants Secondaires  A320_1930  Hublots   \n",
       "2543  HUBA320-A320_2237-42  Composants Secondaires  A320_2237  Hublots   \n",
       "2544  HUBA320-A320_2497-42  Composants Secondaires  A320_2497  Hublots   \n",
       "2545  HUBA320-A320_2562-42  Composants Secondaires  A320_2562  Hublots   \n",
       "...                    ...                     ...        ...      ...   \n",
       "2767  HUBE175-E175_4558-42  Composants Secondaires  E175_4558  Hublots   \n",
       "2768  HUBE175-E175_5414-42  Composants Secondaires  E175_5414  Hublots   \n",
       "2769  HUBE175-E175_5586-42  Composants Secondaires  E175_5586  Hublots   \n",
       "2770  HUBE175-E175_6729-42  Composants Secondaires  E175_6729  Hublots   \n",
       "2771  HUBE175-E175_6879-42  Composants Secondaires  E175_6879  Hublots   \n",
       "\n",
       "      lifespan  taux_usure_actuel  cout  \n",
       "2541     68978          21.496196  3593  \n",
       "2542     68978          42.278162  3593  \n",
       "2543     68978          13.603570  3593  \n",
       "2544     68978          39.611668  3593  \n",
       "2545     68978          14.287878  3593  \n",
       "...        ...                ...   ...  \n",
       "2767     68978           5.078538  3593  \n",
       "2768     68978          47.851384  3593  \n",
       "2769     68978          58.251448  3593  \n",
       "2770     68978          24.912690  3593  \n",
       "2771     68978          13.322548  3593  \n",
       "\n",
       "[231 rows x 7 columns]"
      ]
     },
     "execution_count": 49,
     "metadata": {},
     "output_type": "execute_result"
    }
   ],
   "source": [
    "composants.loc[composants['lifespan'] > 60000, :]"
   ]
  },
  {
   "cell_type": "code",
   "execution_count": 50,
   "metadata": {},
   "outputs": [
    {
     "data": {
      "text/plain": [
       "2920"
      ]
     },
     "execution_count": 50,
     "metadata": {},
     "output_type": "execute_result"
    }
   ],
   "source": [
    "#8h par jour pendant 365 jours\n",
    "365 * 8"
   ]
  },
  {
   "cell_type": "code",
   "execution_count": 51,
   "metadata": {},
   "outputs": [
    {
     "data": {
      "text/plain": [
       "23.622602739726027"
      ]
     },
     "execution_count": 51,
     "metadata": {},
     "output_type": "execute_result"
    }
   ],
   "source": [
    "68978/2920"
   ]
  },
  {
   "cell_type": "markdown",
   "metadata": {},
   "source": [
    "le hublot serait-il programmé pour durer env. 23 ans à raison d'un vol de 8h par jour tous les jours, tous les ans ? "
   ]
  },
  {
   "cell_type": "code",
   "execution_count": 54,
   "metadata": {},
   "outputs": [
    {
     "data": {
      "image/png": "[encoded data removed]",
      "text/plain": [
       "<Figure size 640x480 with 1 Axes>"
      ]
     },
     "metadata": {},
     "output_type": "display_data"
    }
   ],
   "source": [
    "#refaire le boxplot lifespan sans les hublot\n",
    "plt.boxplot(composants.loc[composants['desc'] != 'Hublots', 'lifespan'], vert=False)\n",
    "plt.xlabel('durée de vie')\n",
    "plt.title('Distribution de la durée de vie des composants - hors hublots');"
   ]
  },
  {
   "cell_type": "code",
   "execution_count": 58,
   "metadata": {},
   "outputs": [
    {
     "data": {
      "text/html": [
       "<div>\n",
       "<style scoped>\n",
       "    .dataframe tbody tr th:only-of-type {\n",
       "        vertical-align: middle;\n",
       "    }\n",
       "\n",
       "    .dataframe tbody tr th {\n",
       "        vertical-align: top;\n",
       "    }\n",
       "\n",
       "    .dataframe thead th {\n",
       "        text-align: right;\n",
       "    }\n",
       "</style>\n",
       "<table border=\"1\" class=\"dataframe\">\n",
       "  <thead>\n",
       "    <tr style=\"text-align: right;\">\n",
       "      <th></th>\n",
       "      <th>categorie</th>\n",
       "      <th>lifespan</th>\n",
       "    </tr>\n",
       "  </thead>\n",
       "  <tbody>\n",
       "    <tr>\n",
       "      <th>0</th>\n",
       "      <td>Composants Majeurs</td>\n",
       "      <td>10524</td>\n",
       "    </tr>\n",
       "    <tr>\n",
       "      <th>1</th>\n",
       "      <td>Composants Majeurs</td>\n",
       "      <td>10524</td>\n",
       "    </tr>\n",
       "    <tr>\n",
       "      <th>2</th>\n",
       "      <td>Composants Majeurs</td>\n",
       "      <td>10524</td>\n",
       "    </tr>\n",
       "  </tbody>\n",
       "</table>\n",
       "</div>"
      ],
      "text/plain": [
       "            categorie  lifespan\n",
       "0  Composants Majeurs     10524\n",
       "1  Composants Majeurs     10524\n",
       "2  Composants Majeurs     10524"
      ]
     },
     "execution_count": 58,
     "metadata": {},
     "output_type": "execute_result"
    }
   ],
   "source": [
    "df_lifespan_vs_cat = composants.loc[(composants['desc'] != 'Hublots'), ['categorie', 'lifespan']]\n",
    "df_lifespan_vs_cat.groupby('categorie')\n",
    "df_lifespan_vs_cat.head(3)\n",
    "#plt.xlabel('durée de vie')\n",
    "#plt.title('Distribution de la durée de vie des composants - hors hublots');"
   ]
  },
  {
   "cell_type": "code",
   "execution_count": 62,
   "metadata": {},
   "outputs": [
    {
     "data": {
      "image/png": "[encoded data removed]",
      "text/plain": [
       "<Figure size 640x480 with 1 Axes>"
      ]
     },
     "metadata": {},
     "output_type": "display_data"
    }
   ],
   "source": [
    "#refaire boxplot pour chaque categorie\n",
    "sns.boxplot(data=df_lifespan_vs_cat, x='categorie', y='lifespan');"
   ]
  },
  {
   "cell_type": "code",
   "execution_count": 65,
   "metadata": {},
   "outputs": [
    {
     "data": {
      "text/plain": [
       "count    10395.000000\n",
       "mean        31.158009\n",
       "std         17.291988\n",
       "min          0.110000\n",
       "25%         16.396194\n",
       "50%         31.213105\n",
       "75%         46.005899\n",
       "max         68.910930\n",
       "Name: taux_usure_actuel, dtype: float64"
      ]
     },
     "execution_count": 65,
     "metadata": {},
     "output_type": "execute_result"
    }
   ],
   "source": [
    "#etude de la variable usure\n",
    "composants['taux_usure_actuel'].describe()"
   ]
  },
  {
   "cell_type": "code",
   "execution_count": 69,
   "metadata": {},
   "outputs": [
    {
     "data": {
      "image/png": "[encoded data removed]",
      "text/plain": [
       "<Figure size 640x480 with 1 Axes>"
      ]
     },
     "metadata": {},
     "output_type": "display_data"
    }
   ],
   "source": [
    "plt.boxplot(composants['taux_usure_actuel'])\n",
    "plt.title(\"Distribution des valeurs de taux d'usure des composants\");"
   ]
  },
  {
   "cell_type": "markdown",
   "metadata": {},
   "source": [
    "pour rappel en maintenance préventive les pièces sont toutes remplacées à partir de 75% d'usure\n",
    "la grande majorité des pièces est bien en-deça de ces valeurs"
   ]
  },
  {
   "cell_type": "code",
   "execution_count": 71,
   "metadata": {},
   "outputs": [
    {
     "data": {
      "text/html": [
       "<div>\n",
       "<style scoped>\n",
       "    .dataframe tbody tr th:only-of-type {\n",
       "        vertical-align: middle;\n",
       "    }\n",
       "\n",
       "    .dataframe tbody tr th {\n",
       "        vertical-align: top;\n",
       "    }\n",
       "\n",
       "    .dataframe thead th {\n",
       "        text-align: right;\n",
       "    }\n",
       "</style>\n",
       "<table border=\"1\" class=\"dataframe\">\n",
       "  <thead>\n",
       "    <tr style=\"text-align: right;\">\n",
       "      <th></th>\n",
       "      <th>ref_compo</th>\n",
       "      <th>categorie</th>\n",
       "      <th>aero</th>\n",
       "      <th>desc</th>\n",
       "      <th>lifespan</th>\n",
       "      <th>taux_usure_actuel</th>\n",
       "      <th>cout</th>\n",
       "    </tr>\n",
       "  </thead>\n",
       "  <tbody>\n",
       "    <tr>\n",
       "      <th>2608</th>\n",
       "      <td>HUBA350-A350_1889-42</td>\n",
       "      <td>Composants Secondaires</td>\n",
       "      <td>A350_1889</td>\n",
       "      <td>Hublots</td>\n",
       "      <td>68978</td>\n",
       "      <td>66.458524</td>\n",
       "      <td>3593</td>\n",
       "    </tr>\n",
       "    <tr>\n",
       "      <th>2631</th>\n",
       "      <td>HUBA380-A380_2079-42</td>\n",
       "      <td>Composants Secondaires</td>\n",
       "      <td>A380_2079</td>\n",
       "      <td>Hublots</td>\n",
       "      <td>68978</td>\n",
       "      <td>66.633492</td>\n",
       "      <td>3593</td>\n",
       "    </tr>\n",
       "    <tr>\n",
       "      <th>2647</th>\n",
       "      <td>HUBB737-B737_1524-42</td>\n",
       "      <td>Composants Secondaires</td>\n",
       "      <td>B737_1524</td>\n",
       "      <td>Hublots</td>\n",
       "      <td>68978</td>\n",
       "      <td>68.782612</td>\n",
       "      <td>3593</td>\n",
       "    </tr>\n",
       "    <tr>\n",
       "      <th>2664</th>\n",
       "      <td>HUBB747-B747_3165-42</td>\n",
       "      <td>Composants Secondaires</td>\n",
       "      <td>B747_3165</td>\n",
       "      <td>Hublots</td>\n",
       "      <td>68978</td>\n",
       "      <td>65.417140</td>\n",
       "      <td>3593</td>\n",
       "    </tr>\n",
       "    <tr>\n",
       "      <th>2680</th>\n",
       "      <td>HUBB757-B757_2908-42</td>\n",
       "      <td>Composants Secondaires</td>\n",
       "      <td>B757_2908</td>\n",
       "      <td>Hublots</td>\n",
       "      <td>68978</td>\n",
       "      <td>68.910930</td>\n",
       "      <td>3593</td>\n",
       "    </tr>\n",
       "    <tr>\n",
       "      <th>2681</th>\n",
       "      <td>HUBB757-B757_4533-42</td>\n",
       "      <td>Composants Secondaires</td>\n",
       "      <td>B757_4533</td>\n",
       "      <td>Hublots</td>\n",
       "      <td>68978</td>\n",
       "      <td>65.020284</td>\n",
       "      <td>3593</td>\n",
       "    </tr>\n",
       "    <tr>\n",
       "      <th>2685</th>\n",
       "      <td>HUBB757-B757_6477-42</td>\n",
       "      <td>Composants Secondaires</td>\n",
       "      <td>B757_6477</td>\n",
       "      <td>Hublots</td>\n",
       "      <td>68978</td>\n",
       "      <td>66.866182</td>\n",
       "      <td>3593</td>\n",
       "    </tr>\n",
       "    <tr>\n",
       "      <th>2704</th>\n",
       "      <td>HUBB777-B777_3776-42</td>\n",
       "      <td>Composants Secondaires</td>\n",
       "      <td>B777_3776</td>\n",
       "      <td>Hublots</td>\n",
       "      <td>68978</td>\n",
       "      <td>67.847942</td>\n",
       "      <td>3593</td>\n",
       "    </tr>\n",
       "    <tr>\n",
       "      <th>2707</th>\n",
       "      <td>HUBB777-B777_4962-42</td>\n",
       "      <td>Composants Secondaires</td>\n",
       "      <td>B777_4962</td>\n",
       "      <td>Hublots</td>\n",
       "      <td>68978</td>\n",
       "      <td>67.871228</td>\n",
       "      <td>3593</td>\n",
       "    </tr>\n",
       "  </tbody>\n",
       "</table>\n",
       "</div>"
      ],
      "text/plain": [
       "                 ref_compo               categorie       aero     desc  \\\n",
       "2608  HUBA350-A350_1889-42  Composants Secondaires  A350_1889  Hublots   \n",
       "2631  HUBA380-A380_2079-42  Composants Secondaires  A380_2079  Hublots   \n",
       "2647  HUBB737-B737_1524-42  Composants Secondaires  B737_1524  Hublots   \n",
       "2664  HUBB747-B747_3165-42  Composants Secondaires  B747_3165  Hublots   \n",
       "2680  HUBB757-B757_2908-42  Composants Secondaires  B757_2908  Hublots   \n",
       "2681  HUBB757-B757_4533-42  Composants Secondaires  B757_4533  Hublots   \n",
       "2685  HUBB757-B757_6477-42  Composants Secondaires  B757_6477  Hublots   \n",
       "2704  HUBB777-B777_3776-42  Composants Secondaires  B777_3776  Hublots   \n",
       "2707  HUBB777-B777_4962-42  Composants Secondaires  B777_4962  Hublots   \n",
       "\n",
       "      lifespan  taux_usure_actuel  cout  \n",
       "2608     68978          66.458524  3593  \n",
       "2631     68978          66.633492  3593  \n",
       "2647     68978          68.782612  3593  \n",
       "2664     68978          65.417140  3593  \n",
       "2680     68978          68.910930  3593  \n",
       "2681     68978          65.020284  3593  \n",
       "2685     68978          66.866182  3593  \n",
       "2704     68978          67.847942  3593  \n",
       "2707     68978          67.871228  3593  "
      ]
     },
     "execution_count": 71,
     "metadata": {},
     "output_type": "execute_result"
    }
   ],
   "source": [
    "#voir quelles sont les pièces qui se rapprochent de 70% de tx d'usure\n",
    "composants.loc[composants['taux_usure_actuel'] >= 65, :]"
   ]
  },
  {
   "cell_type": "markdown",
   "metadata": {},
   "source": [
    "ce sont donc les hublots qui sont les pièces les plus usées mais ce sont aussi ces mêmes pièces qui ont une durée de vie la plus longue"
   ]
  },
  {
   "cell_type": "code",
   "execution_count": 75,
   "metadata": {},
   "outputs": [],
   "source": [
    "old_compo = composants.loc[(composants['taux_usure_actuel'] <= 65) & (composants['taux_usure_actuel'] >= 60), :]"
   ]
  },
  {
   "cell_type": "markdown",
   "metadata": {},
   "source": [
    "tableau des composants les plus usés par catégorie et nombre d'avion concernés"
   ]
  },
  {
   "cell_type": "code",
   "execution_count": 87,
   "metadata": {},
   "outputs": [
    {
     "data": {
      "text/html": [
       "<div>\n",
       "<style scoped>\n",
       "    .dataframe tbody tr th:only-of-type {\n",
       "        vertical-align: middle;\n",
       "    }\n",
       "\n",
       "    .dataframe tbody tr th {\n",
       "        vertical-align: top;\n",
       "    }\n",
       "\n",
       "    .dataframe thead th {\n",
       "        text-align: right;\n",
       "    }\n",
       "</style>\n",
       "<table border=\"1\" class=\"dataframe\">\n",
       "  <thead>\n",
       "    <tr style=\"text-align: right;\">\n",
       "      <th></th>\n",
       "      <th></th>\n",
       "      <th>aero</th>\n",
       "      <th>taux_usure_actuel</th>\n",
       "    </tr>\n",
       "    <tr>\n",
       "      <th>categorie</th>\n",
       "      <th>desc</th>\n",
       "      <th></th>\n",
       "      <th></th>\n",
       "    </tr>\n",
       "  </thead>\n",
       "  <tbody>\n",
       "    <tr>\n",
       "      <th rowspan=\"15\" valign=\"top\">Composants Critiques</th>\n",
       "      <th>Réacteur droit</th>\n",
       "      <td>6</td>\n",
       "      <td>60.503763</td>\n",
       "    </tr>\n",
       "    <tr>\n",
       "      <th>Système d'atterrissage automatique</th>\n",
       "      <td>6</td>\n",
       "      <td>60.979419</td>\n",
       "    </tr>\n",
       "    <tr>\n",
       "      <th>Système de gestion électrique</th>\n",
       "      <td>6</td>\n",
       "      <td>60.647860</td>\n",
       "    </tr>\n",
       "    <tr>\n",
       "      <th>Radar météorologique</th>\n",
       "      <td>5</td>\n",
       "      <td>60.814993</td>\n",
       "    </tr>\n",
       "    <tr>\n",
       "      <th>Système de commande des gaz</th>\n",
       "      <td>5</td>\n",
       "      <td>60.858026</td>\n",
       "    </tr>\n",
       "    <tr>\n",
       "      <th>Système de gestion de carburant</th>\n",
       "      <td>5</td>\n",
       "      <td>60.820101</td>\n",
       "    </tr>\n",
       "    <tr>\n",
       "      <th>Réacteur gauche</th>\n",
       "      <td>4</td>\n",
       "      <td>60.542788</td>\n",
       "    </tr>\n",
       "    <tr>\n",
       "      <th>Système de contrôle de vol</th>\n",
       "      <td>4</td>\n",
       "      <td>60.506950</td>\n",
       "    </tr>\n",
       "    <tr>\n",
       "      <th>Autopilote</th>\n",
       "      <td>3</td>\n",
       "      <td>61.047813</td>\n",
       "    </tr>\n",
       "    <tr>\n",
       "      <th>Système d'alerte de proximité au sol (GPWS)</th>\n",
       "      <td>3</td>\n",
       "      <td>60.299711</td>\n",
       "    </tr>\n",
       "    <tr>\n",
       "      <th>Unité de gestion de l'air</th>\n",
       "      <td>3</td>\n",
       "      <td>60.738667</td>\n",
       "    </tr>\n",
       "    <tr>\n",
       "      <th>Système de communication radio</th>\n",
       "      <td>2</td>\n",
       "      <td>61.071070</td>\n",
       "    </tr>\n",
       "    <tr>\n",
       "      <th>Système de navigation</th>\n",
       "      <td>2</td>\n",
       "      <td>60.676953</td>\n",
       "    </tr>\n",
       "    <tr>\n",
       "      <th>Système de surveillance du trafic aérien</th>\n",
       "      <td>2</td>\n",
       "      <td>60.927312</td>\n",
       "    </tr>\n",
       "    <tr>\n",
       "      <th>Ordinateur de vol</th>\n",
       "      <td>1</td>\n",
       "      <td>60.149237</td>\n",
       "    </tr>\n",
       "    <tr>\n",
       "      <th rowspan=\"13\" valign=\"top\">Composants Majeurs</th>\n",
       "      <th>Générateur électrique</th>\n",
       "      <td>9</td>\n",
       "      <td>60.887464</td>\n",
       "    </tr>\n",
       "    <tr>\n",
       "      <th>Système de conditionnement d'air</th>\n",
       "      <td>8</td>\n",
       "      <td>60.665062</td>\n",
       "    </tr>\n",
       "    <tr>\n",
       "      <th>Système de contrôle des surfaces de vol</th>\n",
       "      <td>7</td>\n",
       "      <td>60.471679</td>\n",
       "    </tr>\n",
       "    <tr>\n",
       "      <th>Système hydraulique principal</th>\n",
       "      <td>7</td>\n",
       "      <td>60.477644</td>\n",
       "    </tr>\n",
       "    <tr>\n",
       "      <th>Spoilers</th>\n",
       "      <td>6</td>\n",
       "      <td>60.650842</td>\n",
       "    </tr>\n",
       "    <tr>\n",
       "      <th>Ailerons</th>\n",
       "      <td>5</td>\n",
       "      <td>60.359675</td>\n",
       "    </tr>\n",
       "    <tr>\n",
       "      <th>Système de pressurisation</th>\n",
       "      <td>5</td>\n",
       "      <td>60.707870</td>\n",
       "    </tr>\n",
       "    <tr>\n",
       "      <th>Gouvernail de direction</th>\n",
       "      <td>4</td>\n",
       "      <td>60.853713</td>\n",
       "    </tr>\n",
       "    <tr>\n",
       "      <th>Système d'extinction d'incendie</th>\n",
       "      <td>4</td>\n",
       "      <td>61.058824</td>\n",
       "    </tr>\n",
       "    <tr>\n",
       "      <th>Empennage</th>\n",
       "      <td>3</td>\n",
       "      <td>60.405629</td>\n",
       "    </tr>\n",
       "    <tr>\n",
       "      <th>Flaps</th>\n",
       "      <td>2</td>\n",
       "      <td>60.493025</td>\n",
       "    </tr>\n",
       "    <tr>\n",
       "      <th>Système anti-givre</th>\n",
       "      <td>2</td>\n",
       "      <td>61.497015</td>\n",
       "    </tr>\n",
       "    <tr>\n",
       "      <th>Train d'atterrissage avant</th>\n",
       "      <td>1</td>\n",
       "      <td>61.481716</td>\n",
       "    </tr>\n",
       "    <tr>\n",
       "      <th rowspan=\"14\" valign=\"top\">Composants Secondaires</th>\n",
       "      <th>Hublots</th>\n",
       "      <td>12</td>\n",
       "      <td>62.955039</td>\n",
       "    </tr>\n",
       "    <tr>\n",
       "      <th>Portes passagers</th>\n",
       "      <td>8</td>\n",
       "      <td>60.662421</td>\n",
       "    </tr>\n",
       "    <tr>\n",
       "      <th>Porte cargo</th>\n",
       "      <td>6</td>\n",
       "      <td>60.718989</td>\n",
       "    </tr>\n",
       "    <tr>\n",
       "      <th>Toilettes</th>\n",
       "      <td>6</td>\n",
       "      <td>60.862113</td>\n",
       "    </tr>\n",
       "    <tr>\n",
       "      <th>Éclairage d'urgence</th>\n",
       "      <td>5</td>\n",
       "      <td>60.718566</td>\n",
       "    </tr>\n",
       "    <tr>\n",
       "      <th>Siège copilote</th>\n",
       "      <td>4</td>\n",
       "      <td>61.180250</td>\n",
       "    </tr>\n",
       "    <tr>\n",
       "      <th>Système d'annonce publique</th>\n",
       "      <td>4</td>\n",
       "      <td>60.879867</td>\n",
       "    </tr>\n",
       "    <tr>\n",
       "      <th>Éclairage de cabine</th>\n",
       "      <td>4</td>\n",
       "      <td>60.856396</td>\n",
       "    </tr>\n",
       "    <tr>\n",
       "      <th>Siège pilote</th>\n",
       "      <td>3</td>\n",
       "      <td>60.375858</td>\n",
       "    </tr>\n",
       "    <tr>\n",
       "      <th>Système d'approvisionnement en eau</th>\n",
       "      <td>3</td>\n",
       "      <td>60.853085</td>\n",
       "    </tr>\n",
       "    <tr>\n",
       "      <th>Systèmes d'oxygène d'urgence</th>\n",
       "      <td>3</td>\n",
       "      <td>60.507893</td>\n",
       "    </tr>\n",
       "    <tr>\n",
       "      <th>Détecteurs de fumée</th>\n",
       "      <td>2</td>\n",
       "      <td>60.239899</td>\n",
       "    </tr>\n",
       "    <tr>\n",
       "      <th>Système de divertissement en vol</th>\n",
       "      <td>2</td>\n",
       "      <td>61.003388</td>\n",
       "    </tr>\n",
       "    <tr>\n",
       "      <th>Éclairage de la cabine</th>\n",
       "      <td>2</td>\n",
       "      <td>60.373116</td>\n",
       "    </tr>\n",
       "  </tbody>\n",
       "</table>\n",
       "</div>"
      ],
      "text/plain": [
       "                                                                    aero  \\\n",
       "categorie              desc                                                \n",
       "Composants Critiques   Réacteur droit                                  6   \n",
       "                       Système d'atterrissage automatique              6   \n",
       "                       Système de gestion électrique                   6   \n",
       "                       Radar météorologique                            5   \n",
       "                       Système de commande des gaz                     5   \n",
       "                       Système de gestion de carburant                 5   \n",
       "                       Réacteur gauche                                 4   \n",
       "                       Système de contrôle de vol                      4   \n",
       "                       Autopilote                                      3   \n",
       "                       Système d'alerte de proximité au sol (GPWS)     3   \n",
       "                       Unité de gestion de l'air                       3   \n",
       "                       Système de communication radio                  2   \n",
       "                       Système de navigation                           2   \n",
       "                       Système de surveillance du trafic aérien        2   \n",
       "                       Ordinateur de vol                               1   \n",
       "Composants Majeurs     Générateur électrique                           9   \n",
       "                       Système de conditionnement d'air                8   \n",
       "                       Système de contrôle des surfaces de vol         7   \n",
       "                       Système hydraulique principal                   7   \n",
       "                       Spoilers                                        6   \n",
       "                       Ailerons                                        5   \n",
       "                       Système de pressurisation                       5   \n",
       "                       Gouvernail de direction                         4   \n",
       "                       Système d'extinction d'incendie                 4   \n",
       "                       Empennage                                       3   \n",
       "                       Flaps                                           2   \n",
       "                       Système anti-givre                              2   \n",
       "                       Train d'atterrissage avant                      1   \n",
       "Composants Secondaires Hublots                                        12   \n",
       "                       Portes passagers                                8   \n",
       "                       Porte cargo                                     6   \n",
       "                       Toilettes                                       6   \n",
       "                       Éclairage d'urgence                             5   \n",
       "                       Siège copilote                                  4   \n",
       "                       Système d'annonce publique                      4   \n",
       "                       Éclairage de cabine                             4   \n",
       "                       Siège pilote                                    3   \n",
       "                       Système d'approvisionnement en eau              3   \n",
       "                       Systèmes d'oxygène d'urgence                    3   \n",
       "                       Détecteurs de fumée                             2   \n",
       "                       Système de divertissement en vol                2   \n",
       "                       Éclairage de la cabine                          2   \n",
       "\n",
       "                                                                    taux_usure_actuel  \n",
       "categorie              desc                                                            \n",
       "Composants Critiques   Réacteur droit                                       60.503763  \n",
       "                       Système d'atterrissage automatique                   60.979419  \n",
       "                       Système de gestion électrique                        60.647860  \n",
       "                       Radar météorologique                                 60.814993  \n",
       "                       Système de commande des gaz                          60.858026  \n",
       "                       Système de gestion de carburant                      60.820101  \n",
       "                       Réacteur gauche                                      60.542788  \n",
       "                       Système de contrôle de vol                           60.506950  \n",
       "                       Autopilote                                           61.047813  \n",
       "                       Système d'alerte de proximité au sol (GPWS)          60.299711  \n",
       "                       Unité de gestion de l'air                            60.738667  \n",
       "                       Système de communication radio                       61.071070  \n",
       "                       Système de navigation                                60.676953  \n",
       "                       Système de surveillance du trafic aérien             60.927312  \n",
       "                       Ordinateur de vol                                    60.149237  \n",
       "Composants Majeurs     Générateur électrique                                60.887464  \n",
       "                       Système de conditionnement d'air                     60.665062  \n",
       "                       Système de contrôle des surfaces de vol              60.471679  \n",
       "                       Système hydraulique principal                        60.477644  \n",
       "                       Spoilers                                             60.650842  \n",
       "                       Ailerons                                             60.359675  \n",
       "                       Système de pressurisation                            60.707870  \n",
       "                       Gouvernail de direction                              60.853713  \n",
       "                       Système d'extinction d'incendie                      61.058824  \n",
       "                       Empennage                                            60.405629  \n",
       "                       Flaps                                                60.493025  \n",
       "                       Système anti-givre                                   61.497015  \n",
       "                       Train d'atterrissage avant                           61.481716  \n",
       "Composants Secondaires Hublots                                              62.955039  \n",
       "                       Portes passagers                                     60.662421  \n",
       "                       Porte cargo                                          60.718989  \n",
       "                       Toilettes                                            60.862113  \n",
       "                       Éclairage d'urgence                                  60.718566  \n",
       "                       Siège copilote                                       61.180250  \n",
       "                       Système d'annonce publique                           60.879867  \n",
       "                       Éclairage de cabine                                  60.856396  \n",
       "                       Siège pilote                                         60.375858  \n",
       "                       Système d'approvisionnement en eau                   60.853085  \n",
       "                       Systèmes d'oxygène d'urgence                         60.507893  \n",
       "                       Détecteurs de fumée                                  60.239899  \n",
       "                       Système de divertissement en vol                     61.003388  \n",
       "                       Éclairage de la cabine                               60.373116  "
      ]
     },
     "execution_count": 87,
     "metadata": {},
     "output_type": "execute_result"
    }
   ],
   "source": [
    "old_compo.pivot_table(index=['categorie', 'desc'], aggfunc={'taux_usure_actuel':'mean', 'aero':'count'}).sort_values(['categorie','aero'], ascending=[True,False])"
   ]
  },
  {
   "cell_type": "code",
   "execution_count": 90,
   "metadata": {},
   "outputs": [
    {
     "data": {
      "text/html": [
       "<div>\n",
       "<style scoped>\n",
       "    .dataframe tbody tr th:only-of-type {\n",
       "        vertical-align: middle;\n",
       "    }\n",
       "\n",
       "    .dataframe tbody tr th {\n",
       "        vertical-align: top;\n",
       "    }\n",
       "\n",
       "    .dataframe thead th {\n",
       "        text-align: right;\n",
       "    }\n",
       "</style>\n",
       "<table border=\"1\" class=\"dataframe\">\n",
       "  <thead>\n",
       "    <tr style=\"text-align: right;\">\n",
       "      <th></th>\n",
       "      <th>categorie</th>\n",
       "      <th>desc</th>\n",
       "      <th>aero</th>\n",
       "      <th>taux_usure_actuel</th>\n",
       "    </tr>\n",
       "  </thead>\n",
       "  <tbody>\n",
       "    <tr>\n",
       "      <th>0</th>\n",
       "      <td>Composants Critiques</td>\n",
       "      <td>Réacteur droit</td>\n",
       "      <td>6</td>\n",
       "      <td>60.503763</td>\n",
       "    </tr>\n",
       "    <tr>\n",
       "      <th>1</th>\n",
       "      <td>Composants Critiques</td>\n",
       "      <td>Système d'atterrissage automatique</td>\n",
       "      <td>6</td>\n",
       "      <td>60.979419</td>\n",
       "    </tr>\n",
       "    <tr>\n",
       "      <th>2</th>\n",
       "      <td>Composants Critiques</td>\n",
       "      <td>Système de gestion électrique</td>\n",
       "      <td>6</td>\n",
       "      <td>60.647860</td>\n",
       "    </tr>\n",
       "    <tr>\n",
       "      <th>3</th>\n",
       "      <td>Composants Critiques</td>\n",
       "      <td>Radar météorologique</td>\n",
       "      <td>5</td>\n",
       "      <td>60.814993</td>\n",
       "    </tr>\n",
       "    <tr>\n",
       "      <th>4</th>\n",
       "      <td>Composants Critiques</td>\n",
       "      <td>Système de commande des gaz</td>\n",
       "      <td>5</td>\n",
       "      <td>60.858026</td>\n",
       "    </tr>\n",
       "  </tbody>\n",
       "</table>\n",
       "</div>"
      ],
      "text/plain": [
       "              categorie                                desc  aero  \\\n",
       "0  Composants Critiques                      Réacteur droit     6   \n",
       "1  Composants Critiques  Système d'atterrissage automatique     6   \n",
       "2  Composants Critiques       Système de gestion électrique     6   \n",
       "3  Composants Critiques                Radar météorologique     5   \n",
       "4  Composants Critiques         Système de commande des gaz     5   \n",
       "\n",
       "   taux_usure_actuel  \n",
       "0          60.503763  \n",
       "1          60.979419  \n",
       "2          60.647860  \n",
       "3          60.814993  \n",
       "4          60.858026  "
      ]
     },
     "execution_count": 90,
     "metadata": {},
     "output_type": "execute_result"
    }
   ],
   "source": [
    "warning_compo = old_compo.pivot_table(index=['categorie', 'desc'], aggfunc={'taux_usure_actuel':'mean', 'aero':'count'}).sort_values(['categorie','aero'], ascending=[True,False])\n",
    "warning_compo = warning_compo.reset_index()\n",
    "warning_compo.head()"
   ]
  },
  {
   "cell_type": "code",
   "execution_count": 122,
   "metadata": {},
   "outputs": [
    {
     "data": {
      "image/png": "[encoded data removed]",
      "text/plain": [
       "<Figure size 640x480 with 1 Axes>"
      ]
     },
     "metadata": {},
     "output_type": "display_data"
    }
   ],
   "source": [
    "sns.barplot(data=warning_compo.loc[warning_compo['categorie'] == 'Composants Critiques', :], x='desc', y='aero')\n",
    "plt.xticks(rotation='vertical')\n",
    "plt.xlabel('nom des composants')\n",
    "plt.ylabel('nombre avions concerné')\n",
    "plt.title('Composants Critiques');"
   ]
  },
  {
   "cell_type": "code",
   "execution_count": 123,
   "metadata": {},
   "outputs": [
    {
     "data": {
      "image/png": "[encoded data removed]",
      "text/plain": [
       "<Figure size 640x480 with 1 Axes>"
      ]
     },
     "metadata": {},
     "output_type": "display_data"
    }
   ],
   "source": [
    "sns.barplot(data=warning_compo.loc[warning_compo['categorie'] == 'Composants Majeurs', :], x='desc', y='aero')\n",
    "plt.xticks(rotation='vertical')\n",
    "plt.xlabel('nom des composants')\n",
    "plt.ylabel('nombre avions concerné')\n",
    "plt.title('Composants Majeurs');"
   ]
  },
  {
   "cell_type": "code",
   "execution_count": 124,
   "metadata": {},
   "outputs": [
    {
     "data": {
      "image/png": "[encoded data removed]",
      "text/plain": [
       "<Figure size 640x480 with 1 Axes>"
      ]
     },
     "metadata": {},
     "output_type": "display_data"
    }
   ],
   "source": [
    "sns.barplot(data=warning_compo.loc[warning_compo['categorie'] == 'Composants Secondaires', :], x='desc', y='aero')\n",
    "plt.xticks(rotation='vertical')\n",
    "plt.xlabel('nom des composants')\n",
    "plt.ylabel('nombre avions concerné')\n",
    "plt.title('Composants Secondaires');"
   ]
  }
 ],
 "metadata": {
  "kernelspec": {
   "display_name": "base",
   "language": "python",
   "name": "python3"
  },
  "language_info": {
   "codemirror_mode": {
    "name": "ipython",
    "version": 3
   },
   "file_extension": ".py",
   "mimetype": "text/x-python",
   "name": "python",
   "nbconvert_exporter": "python",
   "pygments_lexer": "ipython3",
   "version": "3.11.5"
  }
 },
 "nbformat": 4,
 "nbformat_minor": 2
}
