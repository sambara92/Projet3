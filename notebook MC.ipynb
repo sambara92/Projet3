{
 "cells": [
  {
   "cell_type": "code",
   "execution_count": 1,
   "metadata": {},
   "outputs": [],
   "source": [
    "import pandas as pd"
   ]
  },
  {
   "cell_type": "markdown",
   "metadata": {},
   "source": [
    "BDD composants et aeronefs sont statiques\n",
    "BDD log vol et degrations sont maj quotidiennement"
   ]
  },
  {
   "cell_type": "code",
   "execution_count": 2,
   "metadata": {},
   "outputs": [],
   "source": [
    "aeronefs = pd.read_csv(r\"C:\\Users\\MAITE\\Wild Code School\\SkyAnalytics\\BDD\\aeronefs_2024-06-02.csv\")\n",
    "composants = pd.read_csv(r\"C:\\Users\\MAITE\\Wild Code School\\SkyAnalytics\\BDD\\composants_2024-06-02.csv\")\n",
    "degra_06_02 = pd.read_csv(r\"C:\\Users\\MAITE\\Wild Code School\\SkyAnalytics\\BDD\\degradations_2024-06-02.csv\")\n",
    "log_vols_06_02 = pd.read_csv(r\"C:\\Users\\MAITE\\Wild Code School\\SkyAnalytics\\BDD\\logs_vols_2024-06-02.csv\")"
   ]
  },
  {
   "cell_type": "markdown",
   "metadata": {},
   "source": [
    "http://sc-e.fr/docs/logs_vols_'\n",
    "link_degra = 'http://sc-e.fr/docs/degradations_'"
   ]
  },
  {
   "cell_type": "code",
   "execution_count": 3,
   "metadata": {},
   "outputs": [],
   "source": [
    "degra_06_03 = pd.read_csv(r'http://sc-e.fr/docs/degradations_2024-06-03.csv')\n",
    "log_vols_06_03 = pd.read_csv(r'http://sc-e.fr/docs/logs_vols_2024-06-03.csv')"
   ]
  },
  {
   "cell_type": "code",
   "execution_count": 6,
   "metadata": {},
   "outputs": [
    {
     "data": {
      "text/plain": [
       "(232, 6)"
      ]
     },
     "execution_count": 6,
     "metadata": {},
     "output_type": "execute_result"
    }
   ],
   "source": [
    "aeronefs.shape"
   ]
  },
  {
   "cell_type": "code",
   "execution_count": 7,
   "metadata": {},
   "outputs": [
    {
     "data": {
      "text/plain": [
       "(99, 6)"
      ]
     },
     "execution_count": 7,
     "metadata": {},
     "output_type": "execute_result"
    }
   ],
   "source": [
    "log_vols_06_02.shape"
   ]
  },
  {
   "cell_type": "code",
   "execution_count": 9,
   "metadata": {},
   "outputs": [
    {
     "data": {
      "text/plain": [
       "(77, 6)"
      ]
     },
     "execution_count": 9,
     "metadata": {},
     "output_type": "execute_result"
    }
   ],
   "source": [
    "log_vols_06_03.shape"
   ]
  },
  {
   "cell_type": "code",
   "execution_count": 10,
   "metadata": {},
   "outputs": [
    {
     "data": {
      "text/plain": [
       "(10440, 7)"
      ]
     },
     "execution_count": 10,
     "metadata": {},
     "output_type": "execute_result"
    }
   ],
   "source": [
    "composants.shape"
   ]
  },
  {
   "cell_type": "code",
   "execution_count": 11,
   "metadata": {},
   "outputs": [
    {
     "data": {
      "text/plain": [
       "(10530, 6)"
      ]
     },
     "execution_count": 11,
     "metadata": {},
     "output_type": "execute_result"
    }
   ],
   "source": [
    "degra_06_02.shape"
   ]
  },
  {
   "cell_type": "code",
   "execution_count": 12,
   "metadata": {},
   "outputs": [
    {
     "data": {
      "text/plain": [
       "(10530, 6)"
      ]
     },
     "execution_count": 12,
     "metadata": {},
     "output_type": "execute_result"
    }
   ],
   "source": [
    "degra_06_03.shape"
   ]
  },
  {
   "cell_type": "code",
   "execution_count": 4,
   "metadata": {},
   "outputs": [
    {
     "data": {
      "text/html": [
       "<div>\n",
       "<style scoped>\n",
       "    .dataframe tbody tr th:only-of-type {\n",
       "        vertical-align: middle;\n",
       "    }\n",
       "\n",
       "    .dataframe tbody tr th {\n",
       "        vertical-align: top;\n",
       "    }\n",
       "\n",
       "    .dataframe thead th {\n",
       "        text-align: right;\n",
       "    }\n",
       "</style>\n",
       "<table border=\"1\" class=\"dataframe\">\n",
       "  <thead>\n",
       "    <tr style=\"text-align: right;\">\n",
       "      <th></th>\n",
       "      <th>ref_deg</th>\n",
       "      <th>linked_aero</th>\n",
       "      <th>compo_concerned</th>\n",
       "      <th>usure_nouvelle</th>\n",
       "      <th>measure_day</th>\n",
       "      <th>need_replacement</th>\n",
       "    </tr>\n",
       "  </thead>\n",
       "  <tbody>\n",
       "    <tr>\n",
       "      <th>0</th>\n",
       "      <td>D003661</td>\n",
       "      <td>E170_6353</td>\n",
       "      <td>REAE170-E170_6353-0</td>\n",
       "      <td>53.308375</td>\n",
       "      <td>2024-06-01</td>\n",
       "      <td>False</td>\n",
       "    </tr>\n",
       "    <tr>\n",
       "      <th>1</th>\n",
       "      <td>D009402</td>\n",
       "      <td>E170_6353</td>\n",
       "      <td>REAE170-E170_6353-1</td>\n",
       "      <td>50.111950</td>\n",
       "      <td>2024-06-01</td>\n",
       "      <td>False</td>\n",
       "    </tr>\n",
       "    <tr>\n",
       "      <th>2</th>\n",
       "      <td>D000812</td>\n",
       "      <td>E170_6353</td>\n",
       "      <td>SYSE170-E170_6353-2</td>\n",
       "      <td>16.730575</td>\n",
       "      <td>2024-06-01</td>\n",
       "      <td>False</td>\n",
       "    </tr>\n",
       "    <tr>\n",
       "      <th>3</th>\n",
       "      <td>D006665</td>\n",
       "      <td>E170_6353</td>\n",
       "      <td>ORDE170-E170_6353-3</td>\n",
       "      <td>6.653075</td>\n",
       "      <td>2024-06-01</td>\n",
       "      <td>False</td>\n",
       "    </tr>\n",
       "    <tr>\n",
       "      <th>4</th>\n",
       "      <td>D001163</td>\n",
       "      <td>E170_6353</td>\n",
       "      <td>AUTE170-E170_6353-4</td>\n",
       "      <td>42.033525</td>\n",
       "      <td>2024-06-01</td>\n",
       "      <td>False</td>\n",
       "    </tr>\n",
       "  </tbody>\n",
       "</table>\n",
       "</div>"
      ],
      "text/plain": [
       "   ref_deg linked_aero      compo_concerned  usure_nouvelle measure_day  \\\n",
       "0  D003661   E170_6353  REAE170-E170_6353-0       53.308375  2024-06-01   \n",
       "1  D009402   E170_6353  REAE170-E170_6353-1       50.111950  2024-06-01   \n",
       "2  D000812   E170_6353  SYSE170-E170_6353-2       16.730575  2024-06-01   \n",
       "3  D006665   E170_6353  ORDE170-E170_6353-3        6.653075  2024-06-01   \n",
       "4  D001163   E170_6353  AUTE170-E170_6353-4       42.033525  2024-06-01   \n",
       "\n",
       "   need_replacement  \n",
       "0             False  \n",
       "1             False  \n",
       "2             False  \n",
       "3             False  \n",
       "4             False  "
      ]
     },
     "execution_count": 4,
     "metadata": {},
     "output_type": "execute_result"
    }
   ],
   "source": [
    "degra_06_02.head()"
   ]
  },
  {
   "cell_type": "code",
   "execution_count": 5,
   "metadata": {},
   "outputs": [
    {
     "data": {
      "text/html": [
       "<div>\n",
       "<style scoped>\n",
       "    .dataframe tbody tr th:only-of-type {\n",
       "        vertical-align: middle;\n",
       "    }\n",
       "\n",
       "    .dataframe tbody tr th {\n",
       "        vertical-align: top;\n",
       "    }\n",
       "\n",
       "    .dataframe thead th {\n",
       "        text-align: right;\n",
       "    }\n",
       "</style>\n",
       "<table border=\"1\" class=\"dataframe\">\n",
       "  <thead>\n",
       "    <tr style=\"text-align: right;\">\n",
       "      <th></th>\n",
       "      <th>ref_deg</th>\n",
       "      <th>linked_aero</th>\n",
       "      <th>compo_concerned</th>\n",
       "      <th>usure_nouvelle</th>\n",
       "      <th>measure_day</th>\n",
       "      <th>need_replacement</th>\n",
       "    </tr>\n",
       "  </thead>\n",
       "  <tbody>\n",
       "    <tr>\n",
       "      <th>0</th>\n",
       "      <td>D003661</td>\n",
       "      <td>E170_6353</td>\n",
       "      <td>REAE170-E170_6353-0</td>\n",
       "      <td>53.308375</td>\n",
       "      <td>2024-06-01</td>\n",
       "      <td>False</td>\n",
       "    </tr>\n",
       "    <tr>\n",
       "      <th>1</th>\n",
       "      <td>D009402</td>\n",
       "      <td>E170_6353</td>\n",
       "      <td>REAE170-E170_6353-1</td>\n",
       "      <td>50.111950</td>\n",
       "      <td>2024-06-01</td>\n",
       "      <td>False</td>\n",
       "    </tr>\n",
       "    <tr>\n",
       "      <th>2</th>\n",
       "      <td>D000812</td>\n",
       "      <td>E170_6353</td>\n",
       "      <td>SYSE170-E170_6353-2</td>\n",
       "      <td>16.730575</td>\n",
       "      <td>2024-06-01</td>\n",
       "      <td>False</td>\n",
       "    </tr>\n",
       "    <tr>\n",
       "      <th>3</th>\n",
       "      <td>D006665</td>\n",
       "      <td>E170_6353</td>\n",
       "      <td>ORDE170-E170_6353-3</td>\n",
       "      <td>6.653075</td>\n",
       "      <td>2024-06-01</td>\n",
       "      <td>False</td>\n",
       "    </tr>\n",
       "    <tr>\n",
       "      <th>4</th>\n",
       "      <td>D001163</td>\n",
       "      <td>E170_6353</td>\n",
       "      <td>AUTE170-E170_6353-4</td>\n",
       "      <td>42.033525</td>\n",
       "      <td>2024-06-01</td>\n",
       "      <td>False</td>\n",
       "    </tr>\n",
       "  </tbody>\n",
       "</table>\n",
       "</div>"
      ],
      "text/plain": [
       "   ref_deg linked_aero      compo_concerned  usure_nouvelle measure_day  \\\n",
       "0  D003661   E170_6353  REAE170-E170_6353-0       53.308375  2024-06-01   \n",
       "1  D009402   E170_6353  REAE170-E170_6353-1       50.111950  2024-06-01   \n",
       "2  D000812   E170_6353  SYSE170-E170_6353-2       16.730575  2024-06-01   \n",
       "3  D006665   E170_6353  ORDE170-E170_6353-3        6.653075  2024-06-01   \n",
       "4  D001163   E170_6353  AUTE170-E170_6353-4       42.033525  2024-06-01   \n",
       "\n",
       "   need_replacement  \n",
       "0             False  \n",
       "1             False  \n",
       "2             False  \n",
       "3             False  \n",
       "4             False  "
      ]
     },
     "execution_count": 5,
     "metadata": {},
     "output_type": "execute_result"
    }
   ],
   "source": [
    "degra_06_03.head()"
   ]
  },
  {
   "cell_type": "code",
   "execution_count": 13,
   "metadata": {},
   "outputs": [
    {
     "data": {
      "text/html": [
       "<div>\n",
       "<style scoped>\n",
       "    .dataframe tbody tr th:only-of-type {\n",
       "        vertical-align: middle;\n",
       "    }\n",
       "\n",
       "    .dataframe tbody tr th {\n",
       "        vertical-align: top;\n",
       "    }\n",
       "\n",
       "    .dataframe thead th {\n",
       "        text-align: right;\n",
       "    }\n",
       "</style>\n",
       "<table border=\"1\" class=\"dataframe\">\n",
       "  <thead>\n",
       "    <tr style=\"text-align: right;\">\n",
       "      <th></th>\n",
       "      <th>ref_compo</th>\n",
       "      <th>categorie</th>\n",
       "      <th>aero</th>\n",
       "      <th>desc</th>\n",
       "      <th>lifespan</th>\n",
       "      <th>taux_usure_actuel</th>\n",
       "      <th>cout</th>\n",
       "    </tr>\n",
       "  </thead>\n",
       "  <tbody>\n",
       "    <tr>\n",
       "      <th>0</th>\n",
       "      <td>REAE170-E170_6353-0</td>\n",
       "      <td>Composants Critiques</td>\n",
       "      <td>E170_6353</td>\n",
       "      <td>Réacteur gauche</td>\n",
       "      <td>13045</td>\n",
       "      <td>53.308375</td>\n",
       "      <td>15552</td>\n",
       "    </tr>\n",
       "    <tr>\n",
       "      <th>1</th>\n",
       "      <td>REAE170-E170_6353-1</td>\n",
       "      <td>Composants Critiques</td>\n",
       "      <td>E170_6353</td>\n",
       "      <td>Réacteur droit</td>\n",
       "      <td>13626</td>\n",
       "      <td>50.111950</td>\n",
       "      <td>17559</td>\n",
       "    </tr>\n",
       "    <tr>\n",
       "      <th>2</th>\n",
       "      <td>SYSE170-E170_6353-2</td>\n",
       "      <td>Composants Critiques</td>\n",
       "      <td>E170_6353</td>\n",
       "      <td>Système de navigation</td>\n",
       "      <td>10541</td>\n",
       "      <td>16.730575</td>\n",
       "      <td>16514</td>\n",
       "    </tr>\n",
       "  </tbody>\n",
       "</table>\n",
       "</div>"
      ],
      "text/plain": [
       "             ref_compo             categorie       aero  \\\n",
       "0  REAE170-E170_6353-0  Composants Critiques  E170_6353   \n",
       "1  REAE170-E170_6353-1  Composants Critiques  E170_6353   \n",
       "2  SYSE170-E170_6353-2  Composants Critiques  E170_6353   \n",
       "\n",
       "                    desc  lifespan  taux_usure_actuel   cout  \n",
       "0        Réacteur gauche     13045          53.308375  15552  \n",
       "1         Réacteur droit     13626          50.111950  17559  \n",
       "2  Système de navigation     10541          16.730575  16514  "
      ]
     },
     "execution_count": 13,
     "metadata": {},
     "output_type": "execute_result"
    }
   ],
   "source": [
    "composants.head(3)"
   ]
  },
  {
   "cell_type": "code",
   "execution_count": 14,
   "metadata": {},
   "outputs": [],
   "source": [
    "liste_composants = composants['ref_compo'].tolist()"
   ]
  },
  {
   "cell_type": "code",
   "execution_count": 21,
   "metadata": {},
   "outputs": [
    {
     "data": {
      "text/plain": [
       "ref_compo            0\n",
       "categorie            0\n",
       "aero                 0\n",
       "desc                 0\n",
       "lifespan             0\n",
       "taux_usure_actuel    0\n",
       "cout                 0\n",
       "dtype: int64"
      ]
     },
     "execution_count": 21,
     "metadata": {},
     "output_type": "execute_result"
    }
   ],
   "source": [
    "composants.isna().sum()"
   ]
  },
  {
   "cell_type": "code",
   "execution_count": 16,
   "metadata": {},
   "outputs": [
    {
     "data": {
      "text/plain": [
       "10440"
      ]
     },
     "execution_count": 16,
     "metadata": {},
     "output_type": "execute_result"
    }
   ],
   "source": [
    "len(liste_composants)"
   ]
  },
  {
   "cell_type": "code",
   "execution_count": 19,
   "metadata": {},
   "outputs": [
    {
     "data": {
      "text/html": [
       "<div>\n",
       "<style scoped>\n",
       "    .dataframe tbody tr th:only-of-type {\n",
       "        vertical-align: middle;\n",
       "    }\n",
       "\n",
       "    .dataframe tbody tr th {\n",
       "        vertical-align: top;\n",
       "    }\n",
       "\n",
       "    .dataframe thead th {\n",
       "        text-align: right;\n",
       "    }\n",
       "</style>\n",
       "<table border=\"1\" class=\"dataframe\">\n",
       "  <thead>\n",
       "    <tr style=\"text-align: right;\">\n",
       "      <th></th>\n",
       "      <th>ref_deg</th>\n",
       "      <th>linked_aero</th>\n",
       "      <th>compo_concerned</th>\n",
       "      <th>usure_nouvelle</th>\n",
       "      <th>measure_day</th>\n",
       "      <th>need_replacement</th>\n",
       "    </tr>\n",
       "  </thead>\n",
       "  <tbody>\n",
       "  </tbody>\n",
       "</table>\n",
       "</div>"
      ],
      "text/plain": [
       "Empty DataFrame\n",
       "Columns: [ref_deg, linked_aero, compo_concerned, usure_nouvelle, measure_day, need_replacement]\n",
       "Index: []"
      ]
     },
     "execution_count": 19,
     "metadata": {},
     "output_type": "execute_result"
    }
   ],
   "source": [
    "degra_06_03.loc[degra_06_03['compo_concerned'].isin(liste_composants) == False, :]"
   ]
  },
  {
   "cell_type": "code",
   "execution_count": 24,
   "metadata": {},
   "outputs": [],
   "source": [
    "degra_06_02['doublon'] = degra_06_02.duplicated(subset='compo_concerned', keep='first')"
   ]
  },
  {
   "cell_type": "code",
   "execution_count": 31,
   "metadata": {},
   "outputs": [
    {
     "data": {
      "text/html": [
       "<div>\n",
       "<style scoped>\n",
       "    .dataframe tbody tr th:only-of-type {\n",
       "        vertical-align: middle;\n",
       "    }\n",
       "\n",
       "    .dataframe tbody tr th {\n",
       "        vertical-align: top;\n",
       "    }\n",
       "\n",
       "    .dataframe thead th {\n",
       "        text-align: right;\n",
       "    }\n",
       "</style>\n",
       "<table border=\"1\" class=\"dataframe\">\n",
       "  <thead>\n",
       "    <tr style=\"text-align: right;\">\n",
       "      <th></th>\n",
       "      <th>ref_deg</th>\n",
       "      <th>linked_aero</th>\n",
       "      <th>compo_concerned</th>\n",
       "      <th>usure_nouvelle</th>\n",
       "      <th>measure_day</th>\n",
       "      <th>need_replacement</th>\n",
       "      <th>doublon</th>\n",
       "    </tr>\n",
       "  </thead>\n",
       "  <tbody>\n",
       "    <tr>\n",
       "      <th>1845</th>\n",
       "      <td>D008183</td>\n",
       "      <td>E170_5551</td>\n",
       "      <td>REAE170-E170_5551-0</td>\n",
       "      <td>32.09</td>\n",
       "      <td>2023-08-23 00:00:00</td>\n",
       "      <td>False</td>\n",
       "      <td>True</td>\n",
       "    </tr>\n",
       "    <tr>\n",
       "      <th>1846</th>\n",
       "      <td>D004196</td>\n",
       "      <td>E170_5551</td>\n",
       "      <td>REAE170-E170_5551-1</td>\n",
       "      <td>40.52</td>\n",
       "      <td>2023-08-23 00:00:00</td>\n",
       "      <td>False</td>\n",
       "      <td>True</td>\n",
       "    </tr>\n",
       "    <tr>\n",
       "      <th>1847</th>\n",
       "      <td>D004463</td>\n",
       "      <td>E170_5551</td>\n",
       "      <td>SYSE170-E170_5551-2</td>\n",
       "      <td>1.35</td>\n",
       "      <td>2023-08-23 00:00:00</td>\n",
       "      <td>False</td>\n",
       "      <td>True</td>\n",
       "    </tr>\n",
       "    <tr>\n",
       "      <th>1848</th>\n",
       "      <td>D001692</td>\n",
       "      <td>E170_5551</td>\n",
       "      <td>ORDE170-E170_5551-3</td>\n",
       "      <td>34.47</td>\n",
       "      <td>2023-08-23 00:00:00</td>\n",
       "      <td>False</td>\n",
       "      <td>True</td>\n",
       "    </tr>\n",
       "    <tr>\n",
       "      <th>1849</th>\n",
       "      <td>D003661</td>\n",
       "      <td>E170_5551</td>\n",
       "      <td>AUTE170-E170_5551-4</td>\n",
       "      <td>23.19</td>\n",
       "      <td>2023-08-23 00:00:00</td>\n",
       "      <td>False</td>\n",
       "      <td>True</td>\n",
       "    </tr>\n",
       "    <tr>\n",
       "      <th>...</th>\n",
       "      <td>...</td>\n",
       "      <td>...</td>\n",
       "      <td>...</td>\n",
       "      <td>...</td>\n",
       "      <td>...</td>\n",
       "      <td>...</td>\n",
       "      <td>...</td>\n",
       "    </tr>\n",
       "    <tr>\n",
       "      <th>10480</th>\n",
       "      <td>D001482</td>\n",
       "      <td>E170_5551</td>\n",
       "      <td>SYSE170-E170_5551-40</td>\n",
       "      <td>43.96</td>\n",
       "      <td>2023-08-23 00:00:00</td>\n",
       "      <td>False</td>\n",
       "      <td>True</td>\n",
       "    </tr>\n",
       "    <tr>\n",
       "      <th>10481</th>\n",
       "      <td>D006878</td>\n",
       "      <td>E170_5551</td>\n",
       "      <td>PORE170-E170_5551-41</td>\n",
       "      <td>9.30</td>\n",
       "      <td>2023-08-23 00:00:00</td>\n",
       "      <td>False</td>\n",
       "      <td>True</td>\n",
       "    </tr>\n",
       "    <tr>\n",
       "      <th>10482</th>\n",
       "      <td>D000419</td>\n",
       "      <td>E170_5551</td>\n",
       "      <td>HUBE170-E170_5551-42</td>\n",
       "      <td>40.04</td>\n",
       "      <td>2023-08-23 00:00:00</td>\n",
       "      <td>False</td>\n",
       "      <td>True</td>\n",
       "    </tr>\n",
       "    <tr>\n",
       "      <th>10483</th>\n",
       "      <td>D009981</td>\n",
       "      <td>E170_5551</td>\n",
       "      <td>ECLE170-E170_5551-43</td>\n",
       "      <td>56.67</td>\n",
       "      <td>2023-08-23 00:00:00</td>\n",
       "      <td>False</td>\n",
       "      <td>True</td>\n",
       "    </tr>\n",
       "    <tr>\n",
       "      <th>10484</th>\n",
       "      <td>D005733</td>\n",
       "      <td>E170_5551</td>\n",
       "      <td>SYSE170-E170_5551-44</td>\n",
       "      <td>40.56</td>\n",
       "      <td>2023-08-23 00:00:00</td>\n",
       "      <td>False</td>\n",
       "      <td>True</td>\n",
       "    </tr>\n",
       "  </tbody>\n",
       "</table>\n",
       "<p>135 rows × 7 columns</p>\n",
       "</div>"
      ],
      "text/plain": [
       "       ref_deg linked_aero       compo_concerned  usure_nouvelle  \\\n",
       "1845   D008183   E170_5551   REAE170-E170_5551-0           32.09   \n",
       "1846   D004196   E170_5551   REAE170-E170_5551-1           40.52   \n",
       "1847   D004463   E170_5551   SYSE170-E170_5551-2            1.35   \n",
       "1848   D001692   E170_5551   ORDE170-E170_5551-3           34.47   \n",
       "1849   D003661   E170_5551   AUTE170-E170_5551-4           23.19   \n",
       "...        ...         ...                   ...             ...   \n",
       "10480  D001482   E170_5551  SYSE170-E170_5551-40           43.96   \n",
       "10481  D006878   E170_5551  PORE170-E170_5551-41            9.30   \n",
       "10482  D000419   E170_5551  HUBE170-E170_5551-42           40.04   \n",
       "10483  D009981   E170_5551  ECLE170-E170_5551-43           56.67   \n",
       "10484  D005733   E170_5551  SYSE170-E170_5551-44           40.56   \n",
       "\n",
       "               measure_day  need_replacement  doublon  \n",
       "1845   2023-08-23 00:00:00             False     True  \n",
       "1846   2023-08-23 00:00:00             False     True  \n",
       "1847   2023-08-23 00:00:00             False     True  \n",
       "1848   2023-08-23 00:00:00             False     True  \n",
       "1849   2023-08-23 00:00:00             False     True  \n",
       "...                    ...               ...      ...  \n",
       "10480  2023-08-23 00:00:00             False     True  \n",
       "10481  2023-08-23 00:00:00             False     True  \n",
       "10482  2023-08-23 00:00:00             False     True  \n",
       "10483  2023-08-23 00:00:00             False     True  \n",
       "10484  2023-08-23 00:00:00             False     True  \n",
       "\n",
       "[135 rows x 7 columns]"
      ]
     },
     "execution_count": 31,
     "metadata": {},
     "output_type": "execute_result"
    }
   ],
   "source": [
    "degra_06_02.loc[degra_06_02['doublon'] == True, :]"
   ]
  },
  {
   "cell_type": "code",
   "execution_count": 30,
   "metadata": {},
   "outputs": [
    {
     "data": {
      "text/plain": [
       "45"
      ]
     },
     "execution_count": 30,
     "metadata": {},
     "output_type": "execute_result"
    }
   ],
   "source": [
    "degra_06_02.loc[degra_06_02['doublon'] == True, 'compo_concerned'].nunique()"
   ]
  },
  {
   "cell_type": "code",
   "execution_count": null,
   "metadata": {},
   "outputs": [],
   "source": [
    "#135 doublons sur composants dont 45 présents plus de 2 fois"
   ]
  },
  {
   "cell_type": "code",
   "execution_count": 32,
   "metadata": {},
   "outputs": [],
   "source": [
    "liste_compo_dbl = degra_06_02.loc[degra_06_02['doublon'] == True, 'compo_concerned'].tolist()"
   ]
  },
  {
   "cell_type": "code",
   "execution_count": 35,
   "metadata": {},
   "outputs": [
    {
     "data": {
      "text/html": [
       "<div>\n",
       "<style scoped>\n",
       "    .dataframe tbody tr th:only-of-type {\n",
       "        vertical-align: middle;\n",
       "    }\n",
       "\n",
       "    .dataframe tbody tr th {\n",
       "        vertical-align: top;\n",
       "    }\n",
       "\n",
       "    .dataframe thead th {\n",
       "        text-align: right;\n",
       "    }\n",
       "</style>\n",
       "<table border=\"1\" class=\"dataframe\">\n",
       "  <thead>\n",
       "    <tr style=\"text-align: right;\">\n",
       "      <th></th>\n",
       "      <th>ref_deg</th>\n",
       "      <th>linked_aero</th>\n",
       "      <th>compo_concerned</th>\n",
       "      <th>usure_nouvelle</th>\n",
       "      <th>measure_day</th>\n",
       "      <th>need_replacement</th>\n",
       "      <th>doublon</th>\n",
       "    </tr>\n",
       "  </thead>\n",
       "  <tbody>\n",
       "    <tr>\n",
       "      <th>1865</th>\n",
       "      <td>D000073</td>\n",
       "      <td>E170_5551</td>\n",
       "      <td>AILE170-E170_5551-20</td>\n",
       "      <td>43.460000</td>\n",
       "      <td>2023-08-23 00:00:00</td>\n",
       "      <td>False</td>\n",
       "      <td>True</td>\n",
       "    </tr>\n",
       "    <tr>\n",
       "      <th>10460</th>\n",
       "      <td>D008842</td>\n",
       "      <td>E170_5551</td>\n",
       "      <td>AILE170-E170_5551-20</td>\n",
       "      <td>43.460000</td>\n",
       "      <td>2023-08-23 00:00:00</td>\n",
       "      <td>False</td>\n",
       "      <td>True</td>\n",
       "    </tr>\n",
       "    <tr>\n",
       "      <th>10415</th>\n",
       "      <td>D003913</td>\n",
       "      <td>E170_5551</td>\n",
       "      <td>AILE170-E170_5551-20</td>\n",
       "      <td>43.460000</td>\n",
       "      <td>2023-08-23 00:00:00</td>\n",
       "      <td>False</td>\n",
       "      <td>True</td>\n",
       "    </tr>\n",
       "    <tr>\n",
       "      <th>1820</th>\n",
       "      <td>D000369</td>\n",
       "      <td>E170_5551</td>\n",
       "      <td>AILE170-E170_5551-20</td>\n",
       "      <td>44.575544</td>\n",
       "      <td>2024-06-01</td>\n",
       "      <td>False</td>\n",
       "      <td>False</td>\n",
       "    </tr>\n",
       "    <tr>\n",
       "      <th>10444</th>\n",
       "      <td>D007717</td>\n",
       "      <td>E170_5551</td>\n",
       "      <td>AUTE170-E170_5551-4</td>\n",
       "      <td>23.190000</td>\n",
       "      <td>2023-08-23 00:00:00</td>\n",
       "      <td>False</td>\n",
       "      <td>True</td>\n",
       "    </tr>\n",
       "    <tr>\n",
       "      <th>...</th>\n",
       "      <td>...</td>\n",
       "      <td>...</td>\n",
       "      <td>...</td>\n",
       "      <td>...</td>\n",
       "      <td>...</td>\n",
       "      <td>...</td>\n",
       "      <td>...</td>\n",
       "    </tr>\n",
       "    <tr>\n",
       "      <th>10413</th>\n",
       "      <td>D002397</td>\n",
       "      <td>E170_5551</td>\n",
       "      <td>TRAE170-E170_5551-18</td>\n",
       "      <td>42.160000</td>\n",
       "      <td>2023-08-23 00:00:00</td>\n",
       "      <td>False</td>\n",
       "      <td>True</td>\n",
       "    </tr>\n",
       "    <tr>\n",
       "      <th>10406</th>\n",
       "      <td>D006204</td>\n",
       "      <td>E170_5551</td>\n",
       "      <td>UNIE170-E170_5551-11</td>\n",
       "      <td>28.330000</td>\n",
       "      <td>2023-08-23 00:00:00</td>\n",
       "      <td>False</td>\n",
       "      <td>True</td>\n",
       "    </tr>\n",
       "    <tr>\n",
       "      <th>1856</th>\n",
       "      <td>D002933</td>\n",
       "      <td>E170_5551</td>\n",
       "      <td>UNIE170-E170_5551-11</td>\n",
       "      <td>28.330000</td>\n",
       "      <td>2023-08-23 00:00:00</td>\n",
       "      <td>False</td>\n",
       "      <td>True</td>\n",
       "    </tr>\n",
       "    <tr>\n",
       "      <th>1811</th>\n",
       "      <td>D000346</td>\n",
       "      <td>E170_5551</td>\n",
       "      <td>UNIE170-E170_5551-11</td>\n",
       "      <td>29.731744</td>\n",
       "      <td>2024-06-01</td>\n",
       "      <td>False</td>\n",
       "      <td>False</td>\n",
       "    </tr>\n",
       "    <tr>\n",
       "      <th>10451</th>\n",
       "      <td>D008510</td>\n",
       "      <td>E170_5551</td>\n",
       "      <td>UNIE170-E170_5551-11</td>\n",
       "      <td>28.330000</td>\n",
       "      <td>2023-08-23 00:00:00</td>\n",
       "      <td>False</td>\n",
       "      <td>True</td>\n",
       "    </tr>\n",
       "  </tbody>\n",
       "</table>\n",
       "<p>180 rows × 7 columns</p>\n",
       "</div>"
      ],
      "text/plain": [
       "       ref_deg linked_aero       compo_concerned  usure_nouvelle  \\\n",
       "1865   D000073   E170_5551  AILE170-E170_5551-20       43.460000   \n",
       "10460  D008842   E170_5551  AILE170-E170_5551-20       43.460000   \n",
       "10415  D003913   E170_5551  AILE170-E170_5551-20       43.460000   \n",
       "1820   D000369   E170_5551  AILE170-E170_5551-20       44.575544   \n",
       "10444  D007717   E170_5551   AUTE170-E170_5551-4       23.190000   \n",
       "...        ...         ...                   ...             ...   \n",
       "10413  D002397   E170_5551  TRAE170-E170_5551-18       42.160000   \n",
       "10406  D006204   E170_5551  UNIE170-E170_5551-11       28.330000   \n",
       "1856   D002933   E170_5551  UNIE170-E170_5551-11       28.330000   \n",
       "1811   D000346   E170_5551  UNIE170-E170_5551-11       29.731744   \n",
       "10451  D008510   E170_5551  UNIE170-E170_5551-11       28.330000   \n",
       "\n",
       "               measure_day  need_replacement  doublon  \n",
       "1865   2023-08-23 00:00:00             False     True  \n",
       "10460  2023-08-23 00:00:00             False     True  \n",
       "10415  2023-08-23 00:00:00             False     True  \n",
       "1820            2024-06-01             False    False  \n",
       "10444  2023-08-23 00:00:00             False     True  \n",
       "...                    ...               ...      ...  \n",
       "10413  2023-08-23 00:00:00             False     True  \n",
       "10406  2023-08-23 00:00:00             False     True  \n",
       "1856   2023-08-23 00:00:00             False     True  \n",
       "1811            2024-06-01             False    False  \n",
       "10451  2023-08-23 00:00:00             False     True  \n",
       "\n",
       "[180 rows x 7 columns]"
      ]
     },
     "execution_count": 35,
     "metadata": {},
     "output_type": "execute_result"
    }
   ],
   "source": [
    "degra_06_02.loc[degra_06_02['compo_concerned'].isin(liste_compo_dbl), :].sort_values('compo_concerned')"
   ]
  },
  {
   "cell_type": "markdown",
   "metadata": {},
   "source": [
    "Question pour JO : pourquoi certaine pièces sont présentes plusieurs fois dans le dataset dégradations pour le même jour de mesure et la même usure ? "
   ]
  },
  {
   "cell_type": "code",
   "execution_count": 3,
   "metadata": {},
   "outputs": [],
   "source": [
    "degra_06_03.to_csv(r'C:\\Users\\MAITE\\Wild Code School\\SkyAnalytics\\BDD\\degra_2024-06_03.csv', index=False)\n",
    "log_vols_06_03.to_csv(r'C:\\Users\\MAITE\\Wild Code School\\SkyAnalytics\\BDD\\logs_vols_2024-06_03.csv', index=False)"
   ]
  },
  {
   "cell_type": "code",
   "execution_count": 60,
   "metadata": {},
   "outputs": [],
   "source": [
    "#new df avec que les avions en maintenance\n",
    "avion_maint = aeronefs.loc[aeronefs['en_maintenance'] == True, :]"
   ]
  },
  {
   "cell_type": "code",
   "execution_count": 62,
   "metadata": {},
   "outputs": [],
   "source": [
    "#liste des ID avion en maintenance\n",
    "liste_avion_maint = avion_maint['ref_aero'].tolist()"
   ]
  },
  {
   "cell_type": "code",
   "execution_count": 237,
   "metadata": {},
   "outputs": [
    {
     "data": {
      "text/plain": [
       "15"
      ]
     },
     "execution_count": 237,
     "metadata": {},
     "output_type": "execute_result"
    }
   ],
   "source": [
    "len(liste_avion_maint)"
   ]
  },
  {
   "cell_type": "code",
   "execution_count": 4,
   "metadata": {},
   "outputs": [
    {
     "name": "stdout",
     "output_type": "stream",
     "text": [
      "<class 'pandas.core.frame.DataFrame'>\n",
      "RangeIndex: 232 entries, 0 to 231\n",
      "Data columns (total 6 columns):\n",
      " #   Column          Non-Null Count  Dtype \n",
      "---  ------          --------------  ----- \n",
      " 0   ref_aero        232 non-null    object\n",
      " 1   type_model      232 non-null    object\n",
      " 2   debut_service   232 non-null    object\n",
      " 3   last_maint      232 non-null    object\n",
      " 4   en_maintenance  232 non-null    bool  \n",
      " 5   end_maint       39 non-null     object\n",
      "dtypes: bool(1), object(5)\n",
      "memory usage: 9.4+ KB\n"
     ]
    }
   ],
   "source": [
    "aeronefs.info()"
   ]
  },
  {
   "cell_type": "code",
   "execution_count": 5,
   "metadata": {},
   "outputs": [
    {
     "data": {
      "text/plain": [
       "ref_aero            0\n",
       "type_model          0\n",
       "debut_service       0\n",
       "last_maint          0\n",
       "en_maintenance      0\n",
       "end_maint         193\n",
       "dtype: int64"
      ]
     },
     "execution_count": 5,
     "metadata": {},
     "output_type": "execute_result"
    }
   ],
   "source": [
    "aeronefs.isna().sum()"
   ]
  },
  {
   "cell_type": "code",
   "execution_count": 6,
   "metadata": {},
   "outputs": [
    {
     "name": "stdout",
     "output_type": "stream",
     "text": [
      "<class 'pandas.core.frame.DataFrame'>\n",
      "RangeIndex: 10440 entries, 0 to 10439\n",
      "Data columns (total 7 columns):\n",
      " #   Column             Non-Null Count  Dtype  \n",
      "---  ------             --------------  -----  \n",
      " 0   ref_compo          10440 non-null  object \n",
      " 1   categorie          10440 non-null  object \n",
      " 2   aero               10440 non-null  object \n",
      " 3   desc               10440 non-null  object \n",
      " 4   lifespan           10440 non-null  int64  \n",
      " 5   taux_usure_actuel  10440 non-null  float64\n",
      " 6   cout               10440 non-null  int64  \n",
      "dtypes: float64(1), int64(2), object(4)\n",
      "memory usage: 571.1+ KB\n"
     ]
    }
   ],
   "source": [
    "composants.info()"
   ]
  },
  {
   "cell_type": "code",
   "execution_count": 7,
   "metadata": {},
   "outputs": [
    {
     "data": {
      "text/plain": [
       "(10440, 7)"
      ]
     },
     "execution_count": 7,
     "metadata": {},
     "output_type": "execute_result"
    }
   ],
   "source": [
    "composants.shape"
   ]
  },
  {
   "cell_type": "code",
   "execution_count": 8,
   "metadata": {},
   "outputs": [
    {
     "data": {
      "text/plain": [
       "ref_compo            0\n",
       "categorie            0\n",
       "aero                 0\n",
       "desc                 0\n",
       "lifespan             0\n",
       "taux_usure_actuel    0\n",
       "cout                 0\n",
       "dtype: int64"
      ]
     },
     "execution_count": 8,
     "metadata": {},
     "output_type": "execute_result"
    }
   ],
   "source": [
    "composants.isna().sum()"
   ]
  },
  {
   "cell_type": "code",
   "execution_count": 14,
   "metadata": {},
   "outputs": [
    {
     "name": "stdout",
     "output_type": "stream",
     "text": [
      "<class 'pandas.core.frame.DataFrame'>\n",
      "RangeIndex: 53 entries, 0 to 52\n",
      "Data columns (total 6 columns):\n",
      " #   Column       Non-Null Count  Dtype  \n",
      "---  ------       --------------  -----  \n",
      " 0   ref_vol      53 non-null     object \n",
      " 1   aero_linked  53 non-null     object \n",
      " 2   jour_vol     53 non-null     object \n",
      " 3   time_en_air  53 non-null     float64\n",
      " 4   sensor_data  53 non-null     object \n",
      " 5   etat_voyant  53 non-null     int64  \n",
      "dtypes: float64(1), int64(1), object(4)\n",
      "memory usage: 2.6+ KB\n"
     ]
    }
   ],
   "source": [
    "log_vols.info()"
   ]
  },
  {
   "cell_type": "code",
   "execution_count": 15,
   "metadata": {},
   "outputs": [
    {
     "data": {
      "text/plain": [
       "(53, 6)"
      ]
     },
     "execution_count": 15,
     "metadata": {},
     "output_type": "execute_result"
    }
   ],
   "source": [
    "log_vols.shape"
   ]
  },
  {
   "cell_type": "code",
   "execution_count": 16,
   "metadata": {},
   "outputs": [
    {
     "data": {
      "text/plain": [
       "ref_vol        0\n",
       "aero_linked    0\n",
       "jour_vol       0\n",
       "time_en_air    0\n",
       "sensor_data    0\n",
       "etat_voyant    0\n",
       "dtype: int64"
      ]
     },
     "execution_count": 16,
     "metadata": {},
     "output_type": "execute_result"
    }
   ],
   "source": [
    "log_vols.isna().sum()"
   ]
  },
  {
   "cell_type": "code",
   "execution_count": 20,
   "metadata": {},
   "outputs": [
    {
     "data": {
      "text/plain": [
       "count    53.000000\n",
       "mean      0.264151\n",
       "std       0.524439\n",
       "min       0.000000\n",
       "25%       0.000000\n",
       "50%       0.000000\n",
       "75%       0.000000\n",
       "max       2.000000\n",
       "Name: etat_voyant, dtype: float64"
      ]
     },
     "execution_count": 20,
     "metadata": {},
     "output_type": "execute_result"
    }
   ],
   "source": [
    "#stats descriptives du voyant par avion\n",
    "log_vols['etat_voyant'].describe()"
   ]
  },
  {
   "cell_type": "code",
   "execution_count": 21,
   "metadata": {},
   "outputs": [
    {
     "data": {
      "text/html": [
       "<div>\n",
       "<style scoped>\n",
       "    .dataframe tbody tr th:only-of-type {\n",
       "        vertical-align: middle;\n",
       "    }\n",
       "\n",
       "    .dataframe tbody tr th {\n",
       "        vertical-align: top;\n",
       "    }\n",
       "\n",
       "    .dataframe thead th {\n",
       "        text-align: right;\n",
       "    }\n",
       "</style>\n",
       "<table border=\"1\" class=\"dataframe\">\n",
       "  <thead>\n",
       "    <tr style=\"text-align: right;\">\n",
       "      <th></th>\n",
       "      <th>ref_vol</th>\n",
       "      <th>aero_linked</th>\n",
       "      <th>jour_vol</th>\n",
       "      <th>time_en_air</th>\n",
       "      <th>sensor_data</th>\n",
       "      <th>etat_voyant</th>\n",
       "    </tr>\n",
       "  </thead>\n",
       "  <tbody>\n",
       "    <tr>\n",
       "      <th>2</th>\n",
       "      <td>V03712533</td>\n",
       "      <td>A350_4582</td>\n",
       "      <td>2023-11-07</td>\n",
       "      <td>3.7</td>\n",
       "      <td>{'temp': '29.4°C', 'pressure': '852.2 hPa', 'v...</td>\n",
       "      <td>1</td>\n",
       "    </tr>\n",
       "    <tr>\n",
       "      <th>14</th>\n",
       "      <td>V06344697</td>\n",
       "      <td>B747_2485</td>\n",
       "      <td>2023-11-07</td>\n",
       "      <td>8.3</td>\n",
       "      <td>{'temp': '-14.8°C', 'pressure': '989.0 hPa', '...</td>\n",
       "      <td>1</td>\n",
       "    </tr>\n",
       "    <tr>\n",
       "      <th>16</th>\n",
       "      <td>V03479117</td>\n",
       "      <td>B777_2456</td>\n",
       "      <td>2023-11-07</td>\n",
       "      <td>5.8</td>\n",
       "      <td>{'temp': '-12.3°C', 'pressure': '1064.4 hPa', ...</td>\n",
       "      <td>1</td>\n",
       "    </tr>\n",
       "    <tr>\n",
       "      <th>20</th>\n",
       "      <td>V07611514</td>\n",
       "      <td>E170_5207</td>\n",
       "      <td>2023-11-07</td>\n",
       "      <td>12.7</td>\n",
       "      <td>{'temp': '-23.8°C', 'pressure': '960.0 hPa', '...</td>\n",
       "      <td>1</td>\n",
       "    </tr>\n",
       "    <tr>\n",
       "      <th>23</th>\n",
       "      <td>V05610202</td>\n",
       "      <td>B767_3269</td>\n",
       "      <td>2023-11-07</td>\n",
       "      <td>1.1</td>\n",
       "      <td>{'temp': '-17.1°C', 'pressure': '876.8 hPa', '...</td>\n",
       "      <td>1</td>\n",
       "    </tr>\n",
       "    <tr>\n",
       "      <th>24</th>\n",
       "      <td>V07886109</td>\n",
       "      <td>A350_4856</td>\n",
       "      <td>2023-11-07</td>\n",
       "      <td>5.5</td>\n",
       "      <td>{'temp': '-17.2°C', 'pressure': '998.4 hPa', '...</td>\n",
       "      <td>1</td>\n",
       "    </tr>\n",
       "    <tr>\n",
       "      <th>29</th>\n",
       "      <td>V00094798</td>\n",
       "      <td>A321_6685</td>\n",
       "      <td>2023-11-07</td>\n",
       "      <td>6.1</td>\n",
       "      <td>{'temp': '-13.5°C', 'pressure': '841.5 hPa', '...</td>\n",
       "      <td>1</td>\n",
       "    </tr>\n",
       "    <tr>\n",
       "      <th>36</th>\n",
       "      <td>V07043690</td>\n",
       "      <td>CRJ900_5738</td>\n",
       "      <td>2023-11-07</td>\n",
       "      <td>8.1</td>\n",
       "      <td>{'temp': '-18.5°C', 'pressure': '1032.0 hPa', ...</td>\n",
       "      <td>2</td>\n",
       "    </tr>\n",
       "    <tr>\n",
       "      <th>37</th>\n",
       "      <td>V09716960</td>\n",
       "      <td>A330_3390</td>\n",
       "      <td>2023-11-07</td>\n",
       "      <td>4.0</td>\n",
       "      <td>{'temp': '-12.1°C', 'pressure': '972.9 hPa', '...</td>\n",
       "      <td>1</td>\n",
       "    </tr>\n",
       "    <tr>\n",
       "      <th>41</th>\n",
       "      <td>V04957815</td>\n",
       "      <td>A330_3862</td>\n",
       "      <td>2023-11-07</td>\n",
       "      <td>3.6</td>\n",
       "      <td>{'temp': '-12.3°C', 'pressure': '982.1 hPa', '...</td>\n",
       "      <td>1</td>\n",
       "    </tr>\n",
       "    <tr>\n",
       "      <th>49</th>\n",
       "      <td>V09909851</td>\n",
       "      <td>B767_5913</td>\n",
       "      <td>2023-11-07</td>\n",
       "      <td>5.5</td>\n",
       "      <td>{'temp': '-12.4°C', 'pressure': '926.4 hPa', '...</td>\n",
       "      <td>1</td>\n",
       "    </tr>\n",
       "    <tr>\n",
       "      <th>52</th>\n",
       "      <td>V01878640</td>\n",
       "      <td>A340_6409</td>\n",
       "      <td>2023-11-07</td>\n",
       "      <td>6.9</td>\n",
       "      <td>{'temp': '4.7°C', 'pressure': '918.5 hPa', 'vi...</td>\n",
       "      <td>2</td>\n",
       "    </tr>\n",
       "  </tbody>\n",
       "</table>\n",
       "</div>"
      ],
      "text/plain": [
       "      ref_vol  aero_linked    jour_vol  time_en_air  \\\n",
       "2   V03712533    A350_4582  2023-11-07          3.7   \n",
       "14  V06344697    B747_2485  2023-11-07          8.3   \n",
       "16  V03479117    B777_2456  2023-11-07          5.8   \n",
       "20  V07611514    E170_5207  2023-11-07         12.7   \n",
       "23  V05610202    B767_3269  2023-11-07          1.1   \n",
       "24  V07886109    A350_4856  2023-11-07          5.5   \n",
       "29  V00094798    A321_6685  2023-11-07          6.1   \n",
       "36  V07043690  CRJ900_5738  2023-11-07          8.1   \n",
       "37  V09716960    A330_3390  2023-11-07          4.0   \n",
       "41  V04957815    A330_3862  2023-11-07          3.6   \n",
       "49  V09909851    B767_5913  2023-11-07          5.5   \n",
       "52  V01878640    A340_6409  2023-11-07          6.9   \n",
       "\n",
       "                                          sensor_data  etat_voyant  \n",
       "2   {'temp': '29.4°C', 'pressure': '852.2 hPa', 'v...            1  \n",
       "14  {'temp': '-14.8°C', 'pressure': '989.0 hPa', '...            1  \n",
       "16  {'temp': '-12.3°C', 'pressure': '1064.4 hPa', ...            1  \n",
       "20  {'temp': '-23.8°C', 'pressure': '960.0 hPa', '...            1  \n",
       "23  {'temp': '-17.1°C', 'pressure': '876.8 hPa', '...            1  \n",
       "24  {'temp': '-17.2°C', 'pressure': '998.4 hPa', '...            1  \n",
       "29  {'temp': '-13.5°C', 'pressure': '841.5 hPa', '...            1  \n",
       "36  {'temp': '-18.5°C', 'pressure': '1032.0 hPa', ...            2  \n",
       "37  {'temp': '-12.1°C', 'pressure': '972.9 hPa', '...            1  \n",
       "41  {'temp': '-12.3°C', 'pressure': '982.1 hPa', '...            1  \n",
       "49  {'temp': '-12.4°C', 'pressure': '926.4 hPa', '...            1  \n",
       "52  {'temp': '4.7°C', 'pressure': '918.5 hPa', 'vi...            2  "
      ]
     },
     "execution_count": 21,
     "metadata": {},
     "output_type": "execute_result"
    }
   ],
   "source": [
    "#nb et detail des appareils avec voyant allumés (différent de 0)\n",
    "log_vols.loc[log_vols['etat_voyant'] > 0, :]"
   ]
  },
  {
   "cell_type": "code",
   "execution_count": 11,
   "metadata": {},
   "outputs": [
    {
     "data": {
      "text/plain": [
       "\"{'temp': '-5.7°C', 'pressure': '930.6 hPa', 'vibrations': '3.1163905014858932 m/s²'}\""
      ]
     },
     "execution_count": 11,
     "metadata": {},
     "output_type": "execute_result"
    }
   ],
   "source": [
    "#composition des données 'sensor'\n",
    "log_vols.iloc[0, 4]"
   ]
  },
  {
   "cell_type": "code",
   "execution_count": 22,
   "metadata": {},
   "outputs": [
    {
     "name": "stdout",
     "output_type": "stream",
     "text": [
      "<class 'pandas.core.frame.DataFrame'>\n",
      "RangeIndex: 10530 entries, 0 to 10529\n",
      "Data columns (total 6 columns):\n",
      " #   Column            Non-Null Count  Dtype  \n",
      "---  ------            --------------  -----  \n",
      " 0   ref_deg           10530 non-null  object \n",
      " 1   linked_aero       10530 non-null  object \n",
      " 2   compo_concerned   10530 non-null  object \n",
      " 3   usure_nouvelle    10530 non-null  float64\n",
      " 4   measure_day       10530 non-null  object \n",
      " 5   need_replacement  10530 non-null  bool   \n",
      "dtypes: bool(1), float64(1), object(4)\n",
      "memory usage: 421.7+ KB\n"
     ]
    }
   ],
   "source": [
    "degradations.info()"
   ]
  },
  {
   "cell_type": "code",
   "execution_count": 23,
   "metadata": {},
   "outputs": [
    {
     "data": {
      "text/plain": [
       "(10530, 6)"
      ]
     },
     "execution_count": 23,
     "metadata": {},
     "output_type": "execute_result"
    }
   ],
   "source": [
    "degradations.shape"
   ]
  },
  {
   "cell_type": "code",
   "execution_count": 24,
   "metadata": {},
   "outputs": [
    {
     "data": {
      "text/plain": [
       "ref_deg             0\n",
       "linked_aero         0\n",
       "compo_concerned     0\n",
       "usure_nouvelle      0\n",
       "measure_day         0\n",
       "need_replacement    0\n",
       "dtype: int64"
      ]
     },
     "execution_count": 24,
     "metadata": {},
     "output_type": "execute_result"
    }
   ],
   "source": [
    "degradations.isna().sum()"
   ]
  },
  {
   "cell_type": "code",
   "execution_count": 27,
   "metadata": {},
   "outputs": [
    {
     "data": {
      "text/html": [
       "<div>\n",
       "<style scoped>\n",
       "    .dataframe tbody tr th:only-of-type {\n",
       "        vertical-align: middle;\n",
       "    }\n",
       "\n",
       "    .dataframe tbody tr th {\n",
       "        vertical-align: top;\n",
       "    }\n",
       "\n",
       "    .dataframe thead th {\n",
       "        text-align: right;\n",
       "    }\n",
       "</style>\n",
       "<table border=\"1\" class=\"dataframe\">\n",
       "  <thead>\n",
       "    <tr style=\"text-align: right;\">\n",
       "      <th></th>\n",
       "      <th>ref_deg</th>\n",
       "      <th>linked_aero</th>\n",
       "      <th>compo_concerned</th>\n",
       "      <th>usure_nouvelle</th>\n",
       "      <th>measure_day</th>\n",
       "      <th>need_replacement</th>\n",
       "    </tr>\n",
       "  </thead>\n",
       "  <tbody>\n",
       "  </tbody>\n",
       "</table>\n",
       "</div>"
      ],
      "text/plain": [
       "Empty DataFrame\n",
       "Columns: [ref_deg, linked_aero, compo_concerned, usure_nouvelle, measure_day, need_replacement]\n",
       "Index: []"
      ]
     },
     "execution_count": 27,
     "metadata": {},
     "output_type": "execute_result"
    }
   ],
   "source": [
    "#a ce jour aucun composant n'est étiquetés comme ayant besoin d'être remplacé malgré le fait que 15 appareils soient en maintenance en cours\n",
    "degradations.loc[degradations['need_replacement'] == True, :]"
   ]
  },
  {
   "cell_type": "markdown",
   "metadata": {},
   "source": [
    "Question à poser à Jo : la colonne 'need_remplacement' dans la BDD degradation se met elle à jour après une journée de vol de l'appareil \n",
    "OU BIEN s'agit il d'une donnée qui se met à jour selon un taux d'usure programmé (comme par ex : 75%) ? "
   ]
  },
  {
   "cell_type": "code",
   "execution_count": 28,
   "metadata": {},
   "outputs": [
    {
     "data": {
      "text/plain": [
       "count    10530.000000\n",
       "mean        43.583697\n",
       "std         17.867596\n",
       "min          0.360468\n",
       "25%         28.407234\n",
       "50%         43.463762\n",
       "75%         58.912478\n",
       "max         90.783195\n",
       "Name: usure_nouvelle, dtype: float64"
      ]
     },
     "execution_count": 28,
     "metadata": {},
     "output_type": "execute_result"
    }
   ],
   "source": [
    "degradations['usure_nouvelle'].describe()"
   ]
  },
  {
   "cell_type": "code",
   "execution_count": 32,
   "metadata": {},
   "outputs": [
    {
     "data": {
      "text/plain": [
       "231"
      ]
     },
     "execution_count": 32,
     "metadata": {},
     "output_type": "execute_result"
    }
   ],
   "source": [
    "aeronefs['ref_aero'].nunique()"
   ]
  },
  {
   "cell_type": "code",
   "execution_count": 39,
   "metadata": {},
   "outputs": [],
   "source": [
    "aeronefs['last_maint'] = pd.to_datetime(aeronefs['last_maint'], format='mixed')"
   ]
  },
  {
   "cell_type": "code",
   "execution_count": 44,
   "metadata": {},
   "outputs": [
    {
     "data": {
      "text/html": [
       "<div>\n",
       "<style scoped>\n",
       "    .dataframe tbody tr th:only-of-type {\n",
       "        vertical-align: middle;\n",
       "    }\n",
       "\n",
       "    .dataframe tbody tr th {\n",
       "        vertical-align: top;\n",
       "    }\n",
       "\n",
       "    .dataframe thead th {\n",
       "        text-align: right;\n",
       "    }\n",
       "</style>\n",
       "<table border=\"1\" class=\"dataframe\">\n",
       "  <thead>\n",
       "    <tr style=\"text-align: right;\">\n",
       "      <th></th>\n",
       "      <th>ref_aero</th>\n",
       "      <th>type_model</th>\n",
       "      <th>debut_service</th>\n",
       "      <th>last_maint</th>\n",
       "      <th>en_maintenance</th>\n",
       "      <th>end_maint</th>\n",
       "    </tr>\n",
       "  </thead>\n",
       "  <tbody>\n",
       "  </tbody>\n",
       "</table>\n",
       "</div>"
      ],
      "text/plain": [
       "Empty DataFrame\n",
       "Columns: [ref_aero, type_model, debut_service, last_maint, en_maintenance, end_maint]\n",
       "Index: []"
      ]
     },
     "execution_count": 44,
     "metadata": {},
     "output_type": "execute_result"
    }
   ],
   "source": [
    "aeronefs.loc[aeronefs['last_maint'] > '2024-06-03', :]"
   ]
  },
  {
   "cell_type": "code",
   "execution_count": 34,
   "metadata": {},
   "outputs": [
    {
     "data": {
      "text/html": [
       "<div>\n",
       "<style scoped>\n",
       "    .dataframe tbody tr th:only-of-type {\n",
       "        vertical-align: middle;\n",
       "    }\n",
       "\n",
       "    .dataframe tbody tr th {\n",
       "        vertical-align: top;\n",
       "    }\n",
       "\n",
       "    .dataframe thead th {\n",
       "        text-align: right;\n",
       "    }\n",
       "</style>\n",
       "<table border=\"1\" class=\"dataframe\">\n",
       "  <thead>\n",
       "    <tr style=\"text-align: right;\">\n",
       "      <th></th>\n",
       "      <th>ref_aero</th>\n",
       "      <th>type_model</th>\n",
       "      <th>debut_service</th>\n",
       "      <th>last_maint</th>\n",
       "      <th>en_maintenance</th>\n",
       "      <th>end_maint</th>\n",
       "    </tr>\n",
       "  </thead>\n",
       "  <tbody>\n",
       "    <tr>\n",
       "      <th>93</th>\n",
       "      <td>B757_2518</td>\n",
       "      <td>B757</td>\n",
       "      <td>2006-05-09</td>\n",
       "      <td>2024-06-02</td>\n",
       "      <td>True</td>\n",
       "      <td>2024-06-16 14:13:00</td>\n",
       "    </tr>\n",
       "  </tbody>\n",
       "</table>\n",
       "</div>"
      ],
      "text/plain": [
       "     ref_aero type_model debut_service  last_maint  en_maintenance  \\\n",
       "93  B757_2518       B757    2006-05-09  2024-06-02            True   \n",
       "\n",
       "              end_maint  \n",
       "93  2024-06-16 14:13:00  "
      ]
     },
     "execution_count": 34,
     "metadata": {},
     "output_type": "execute_result"
    }
   ],
   "source": [
    "aeronefs.loc[aeronefs['ref_aero'] == 'B757_2518', :]"
   ]
  },
  {
   "cell_type": "markdown",
   "metadata": {},
   "source": [
    "la colonne last_maint ne contient que des dates passées et/ou actuelles mais pas de maintenance préventive"
   ]
  },
  {
   "cell_type": "code",
   "execution_count": 58,
   "metadata": {},
   "outputs": [
    {
     "data": {
      "text/plain": [
       "categorie\n",
       "Composants Majeurs        3712\n",
       "Composants Critiques      3480\n",
       "Composants Secondaires    3248\n",
       "Name: count, dtype: int64"
      ]
     },
     "execution_count": 58,
     "metadata": {},
     "output_type": "execute_result"
    }
   ],
   "source": [
    "composants['categorie'].value_counts()"
   ]
  },
  {
   "cell_type": "code",
   "execution_count": 63,
   "metadata": {},
   "outputs": [
    {
     "data": {
      "text/plain": [
       "['CRJ700_6943',\n",
       " 'CRJ900_4821',\n",
       " 'A330_2602',\n",
       " 'B757_4595',\n",
       " 'B757_2518',\n",
       " 'A330_2982',\n",
       " 'E170_2943',\n",
       " 'B777_3944',\n",
       " 'A380_6924',\n",
       " 'A340_1047',\n",
       " 'A340_3887',\n",
       " 'CRJ700_1442',\n",
       " 'E170_0081',\n",
       " 'A330_6979',\n",
       " 'A321_4232']"
      ]
     },
     "execution_count": 63,
     "metadata": {},
     "output_type": "execute_result"
    }
   ],
   "source": [
    "liste_avion_maint"
   ]
  },
  {
   "cell_type": "code",
   "execution_count": 71,
   "metadata": {},
   "outputs": [
    {
     "data": {
      "text/html": [
       "<div>\n",
       "<style scoped>\n",
       "    .dataframe tbody tr th:only-of-type {\n",
       "        vertical-align: middle;\n",
       "    }\n",
       "\n",
       "    .dataframe tbody tr th {\n",
       "        vertical-align: top;\n",
       "    }\n",
       "\n",
       "    .dataframe thead th {\n",
       "        text-align: right;\n",
       "    }\n",
       "</style>\n",
       "<table border=\"1\" class=\"dataframe\">\n",
       "  <thead>\n",
       "    <tr style=\"text-align: right;\">\n",
       "      <th></th>\n",
       "      <th>ref_compo</th>\n",
       "      <th>categorie</th>\n",
       "      <th>aero</th>\n",
       "      <th>desc</th>\n",
       "      <th>lifespan</th>\n",
       "      <th>taux_usure_actuel</th>\n",
       "      <th>cout</th>\n",
       "    </tr>\n",
       "  </thead>\n",
       "  <tbody>\n",
       "    <tr>\n",
       "      <th>8187</th>\n",
       "      <td>HUBE170-E170_0081-42</td>\n",
       "      <td>Composants Secondaires</td>\n",
       "      <td>E170_0081</td>\n",
       "      <td>Hublots</td>\n",
       "      <td>68978</td>\n",
       "      <td>62.131746</td>\n",
       "      <td>3593</td>\n",
       "    </tr>\n",
       "    <tr>\n",
       "      <th>8160</th>\n",
       "      <td>SYSE170-E170_0081-15</td>\n",
       "      <td>Composants Majeurs</td>\n",
       "      <td>E170_0081</td>\n",
       "      <td>Système hydraulique principal</td>\n",
       "      <td>14811</td>\n",
       "      <td>60.224227</td>\n",
       "      <td>14197</td>\n",
       "    </tr>\n",
       "    <tr>\n",
       "      <th>8159</th>\n",
       "      <td>SYSE170-E170_0081-14</td>\n",
       "      <td>Composants Critiques</td>\n",
       "      <td>E170_0081</td>\n",
       "      <td>Système de surveillance du trafic aérien</td>\n",
       "      <td>10023</td>\n",
       "      <td>58.531311</td>\n",
       "      <td>17135</td>\n",
       "    </tr>\n",
       "    <tr>\n",
       "      <th>8145</th>\n",
       "      <td>REAE170-E170_0081-0</td>\n",
       "      <td>Composants Critiques</td>\n",
       "      <td>E170_0081</td>\n",
       "      <td>Réacteur gauche</td>\n",
       "      <td>13045</td>\n",
       "      <td>56.313565</td>\n",
       "      <td>15552</td>\n",
       "    </tr>\n",
       "    <tr>\n",
       "      <th>8162</th>\n",
       "      <td>TRAE170-E170_0081-17</td>\n",
       "      <td>Composants Majeurs</td>\n",
       "      <td>E170_0081</td>\n",
       "      <td>Train d'atterrissage principal</td>\n",
       "      <td>10389</td>\n",
       "      <td>55.152173</td>\n",
       "      <td>12512</td>\n",
       "    </tr>\n",
       "    <tr>\n",
       "      <th>8153</th>\n",
       "      <td>SYSE170-E170_0081-8</td>\n",
       "      <td>Composants Critiques</td>\n",
       "      <td>E170_0081</td>\n",
       "      <td>Système de gestion de carburant</td>\n",
       "      <td>13219</td>\n",
       "      <td>53.593483</td>\n",
       "      <td>18351</td>\n",
       "    </tr>\n",
       "    <tr>\n",
       "      <th>8164</th>\n",
       "      <td>SYSE170-E170_0081-19</td>\n",
       "      <td>Composants Majeurs</td>\n",
       "      <td>E170_0081</td>\n",
       "      <td>Système anti-givre</td>\n",
       "      <td>14807</td>\n",
       "      <td>52.303999</td>\n",
       "      <td>13366</td>\n",
       "    </tr>\n",
       "    <tr>\n",
       "      <th>8158</th>\n",
       "      <td>SYSE170-E170_0081-13</td>\n",
       "      <td>Composants Critiques</td>\n",
       "      <td>E170_0081</td>\n",
       "      <td>Système d'atterrissage automatique</td>\n",
       "      <td>13537</td>\n",
       "      <td>51.901609</td>\n",
       "      <td>15045</td>\n",
       "    </tr>\n",
       "    <tr>\n",
       "      <th>8180</th>\n",
       "      <td>TOIE170-E170_0081-35</td>\n",
       "      <td>Composants Secondaires</td>\n",
       "      <td>E170_0081</td>\n",
       "      <td>Toilettes</td>\n",
       "      <td>13230</td>\n",
       "      <td>51.754110</td>\n",
       "      <td>4801</td>\n",
       "    </tr>\n",
       "    <tr>\n",
       "      <th>8146</th>\n",
       "      <td>REAE170-E170_0081-1</td>\n",
       "      <td>Composants Critiques</td>\n",
       "      <td>E170_0081</td>\n",
       "      <td>Réacteur droit</td>\n",
       "      <td>13626</td>\n",
       "      <td>51.016682</td>\n",
       "      <td>17559</td>\n",
       "    </tr>\n",
       "    <tr>\n",
       "      <th>8154</th>\n",
       "      <td>SYSE170-E170_0081-9</td>\n",
       "      <td>Composants Critiques</td>\n",
       "      <td>E170_0081</td>\n",
       "      <td>Système d'alerte de proximité au sol (GPWS)</td>\n",
       "      <td>10423</td>\n",
       "      <td>47.844111</td>\n",
       "      <td>18680</td>\n",
       "    </tr>\n",
       "    <tr>\n",
       "      <th>8183</th>\n",
       "      <td>ECLE170-E170_0081-38</td>\n",
       "      <td>Composants Secondaires</td>\n",
       "      <td>E170_0081</td>\n",
       "      <td>Éclairage d'urgence</td>\n",
       "      <td>14359</td>\n",
       "      <td>47.438463</td>\n",
       "      <td>4936</td>\n",
       "    </tr>\n",
       "    <tr>\n",
       "      <th>8166</th>\n",
       "      <td>EMPE170-E170_0081-21</td>\n",
       "      <td>Composants Majeurs</td>\n",
       "      <td>E170_0081</td>\n",
       "      <td>Empennage</td>\n",
       "      <td>13736</td>\n",
       "      <td>44.822952</td>\n",
       "      <td>10528</td>\n",
       "    </tr>\n",
       "    <tr>\n",
       "      <th>8165</th>\n",
       "      <td>AILE170-E170_0081-20</td>\n",
       "      <td>Composants Majeurs</td>\n",
       "      <td>E170_0081</td>\n",
       "      <td>Ailerons</td>\n",
       "      <td>10524</td>\n",
       "      <td>44.099868</td>\n",
       "      <td>10290</td>\n",
       "    </tr>\n",
       "    <tr>\n",
       "      <th>8186</th>\n",
       "      <td>PORE170-E170_0081-41</td>\n",
       "      <td>Composants Secondaires</td>\n",
       "      <td>E170_0081</td>\n",
       "      <td>Portes passagers</td>\n",
       "      <td>13107</td>\n",
       "      <td>44.097099</td>\n",
       "      <td>3053</td>\n",
       "    </tr>\n",
       "    <tr>\n",
       "      <th>8178</th>\n",
       "      <td>SYSE170-E170_0081-33</td>\n",
       "      <td>Composants Secondaires</td>\n",
       "      <td>E170_0081</td>\n",
       "      <td>Système de divertissement en vol</td>\n",
       "      <td>13985</td>\n",
       "      <td>43.617145</td>\n",
       "      <td>2723</td>\n",
       "    </tr>\n",
       "    <tr>\n",
       "      <th>8185</th>\n",
       "      <td>SYSE170-E170_0081-40</td>\n",
       "      <td>Composants Secondaires</td>\n",
       "      <td>E170_0081</td>\n",
       "      <td>Systèmes d'oxygène d'urgence</td>\n",
       "      <td>13038</td>\n",
       "      <td>43.053166</td>\n",
       "      <td>4745</td>\n",
       "    </tr>\n",
       "    <tr>\n",
       "      <th>8150</th>\n",
       "      <td>SYSE170-E170_0081-5</td>\n",
       "      <td>Composants Critiques</td>\n",
       "      <td>E170_0081</td>\n",
       "      <td>Système de contrôle de vol</td>\n",
       "      <td>12580</td>\n",
       "      <td>41.997060</td>\n",
       "      <td>19492</td>\n",
       "    </tr>\n",
       "    <tr>\n",
       "      <th>8188</th>\n",
       "      <td>ECLE170-E170_0081-43</td>\n",
       "      <td>Composants Secondaires</td>\n",
       "      <td>E170_0081</td>\n",
       "      <td>Éclairage de la cabine</td>\n",
       "      <td>10639</td>\n",
       "      <td>41.276423</td>\n",
       "      <td>4965</td>\n",
       "    </tr>\n",
       "    <tr>\n",
       "      <th>8151</th>\n",
       "      <td>RADE170-E170_0081-6</td>\n",
       "      <td>Composants Critiques</td>\n",
       "      <td>E170_0081</td>\n",
       "      <td>Radar météorologique</td>\n",
       "      <td>11923</td>\n",
       "      <td>41.109611</td>\n",
       "      <td>17567</td>\n",
       "    </tr>\n",
       "    <tr>\n",
       "      <th>8148</th>\n",
       "      <td>ORDE170-E170_0081-3</td>\n",
       "      <td>Composants Critiques</td>\n",
       "      <td>E170_0081</td>\n",
       "      <td>Ordinateur de vol</td>\n",
       "      <td>10441</td>\n",
       "      <td>37.905137</td>\n",
       "      <td>16047</td>\n",
       "    </tr>\n",
       "    <tr>\n",
       "      <th>8177</th>\n",
       "      <td>SIEE170-E170_0081-32</td>\n",
       "      <td>Composants Secondaires</td>\n",
       "      <td>E170_0081</td>\n",
       "      <td>Siège copilote</td>\n",
       "      <td>14200</td>\n",
       "      <td>30.309400</td>\n",
       "      <td>3722</td>\n",
       "    </tr>\n",
       "    <tr>\n",
       "      <th>8167</th>\n",
       "      <td>FLAE170-E170_0081-22</td>\n",
       "      <td>Composants Majeurs</td>\n",
       "      <td>E170_0081</td>\n",
       "      <td>Flaps</td>\n",
       "      <td>11025</td>\n",
       "      <td>29.338425</td>\n",
       "      <td>14480</td>\n",
       "    </tr>\n",
       "    <tr>\n",
       "      <th>8152</th>\n",
       "      <td>SYSE170-E170_0081-7</td>\n",
       "      <td>Composants Critiques</td>\n",
       "      <td>E170_0081</td>\n",
       "      <td>Système de communication radio</td>\n",
       "      <td>10370</td>\n",
       "      <td>29.251090</td>\n",
       "      <td>19214</td>\n",
       "    </tr>\n",
       "    <tr>\n",
       "      <th>8149</th>\n",
       "      <td>AUTE170-E170_0081-4</td>\n",
       "      <td>Composants Critiques</td>\n",
       "      <td>E170_0081</td>\n",
       "      <td>Autopilote</td>\n",
       "      <td>14847</td>\n",
       "      <td>27.506279</td>\n",
       "      <td>19362</td>\n",
       "    </tr>\n",
       "    <tr>\n",
       "      <th>8169</th>\n",
       "      <td>FREE170-E170_0081-24</td>\n",
       "      <td>Composants Majeurs</td>\n",
       "      <td>E170_0081</td>\n",
       "      <td>Freins</td>\n",
       "      <td>11015</td>\n",
       "      <td>26.107855</td>\n",
       "      <td>12664</td>\n",
       "    </tr>\n",
       "    <tr>\n",
       "      <th>8155</th>\n",
       "      <td>SYSE170-E170_0081-10</td>\n",
       "      <td>Composants Critiques</td>\n",
       "      <td>E170_0081</td>\n",
       "      <td>Système de commande des gaz</td>\n",
       "      <td>11747</td>\n",
       "      <td>23.979579</td>\n",
       "      <td>18091</td>\n",
       "    </tr>\n",
       "    <tr>\n",
       "      <th>8170</th>\n",
       "      <td>SYSE170-E170_0081-25</td>\n",
       "      <td>Composants Majeurs</td>\n",
       "      <td>E170_0081</td>\n",
       "      <td>Système de contrôle des surfaces de vol</td>\n",
       "      <td>11125</td>\n",
       "      <td>22.214125</td>\n",
       "      <td>12191</td>\n",
       "    </tr>\n",
       "    <tr>\n",
       "      <th>8174</th>\n",
       "      <td>SYSE170-E170_0081-29</td>\n",
       "      <td>Composants Majeurs</td>\n",
       "      <td>E170_0081</td>\n",
       "      <td>Système d'extinction d'incendie</td>\n",
       "      <td>11971</td>\n",
       "      <td>20.702347</td>\n",
       "      <td>10109</td>\n",
       "    </tr>\n",
       "    <tr>\n",
       "      <th>8156</th>\n",
       "      <td>UNIE170-E170_0081-11</td>\n",
       "      <td>Composants Critiques</td>\n",
       "      <td>E170_0081</td>\n",
       "      <td>Unité de gestion de l'air</td>\n",
       "      <td>13224</td>\n",
       "      <td>20.063768</td>\n",
       "      <td>17834</td>\n",
       "    </tr>\n",
       "    <tr>\n",
       "      <th>8175</th>\n",
       "      <td>ECLE170-E170_0081-30</td>\n",
       "      <td>Composants Secondaires</td>\n",
       "      <td>E170_0081</td>\n",
       "      <td>Éclairage de cabine</td>\n",
       "      <td>12779</td>\n",
       "      <td>19.258403</td>\n",
       "      <td>4788</td>\n",
       "    </tr>\n",
       "    <tr>\n",
       "      <th>8189</th>\n",
       "      <td>SYSE170-E170_0081-44</td>\n",
       "      <td>Composants Secondaires</td>\n",
       "      <td>E170_0081</td>\n",
       "      <td>Système d'approvisionnement en eau</td>\n",
       "      <td>12796</td>\n",
       "      <td>17.009372</td>\n",
       "      <td>4701</td>\n",
       "    </tr>\n",
       "    <tr>\n",
       "      <th>8161</th>\n",
       "      <td>GENE170-E170_0081-16</td>\n",
       "      <td>Composants Majeurs</td>\n",
       "      <td>E170_0081</td>\n",
       "      <td>Générateur électrique</td>\n",
       "      <td>13716</td>\n",
       "      <td>14.621812</td>\n",
       "      <td>10833</td>\n",
       "    </tr>\n",
       "    <tr>\n",
       "      <th>8147</th>\n",
       "      <td>SYSE170-E170_0081-2</td>\n",
       "      <td>Composants Critiques</td>\n",
       "      <td>E170_0081</td>\n",
       "      <td>Système de navigation</td>\n",
       "      <td>10541</td>\n",
       "      <td>14.430837</td>\n",
       "      <td>16514</td>\n",
       "    </tr>\n",
       "    <tr>\n",
       "      <th>8179</th>\n",
       "      <td>SYSE170-E170_0081-34</td>\n",
       "      <td>Composants Secondaires</td>\n",
       "      <td>E170_0081</td>\n",
       "      <td>Système d'annonce publique</td>\n",
       "      <td>13876</td>\n",
       "      <td>13.730932</td>\n",
       "      <td>2021</td>\n",
       "    </tr>\n",
       "    <tr>\n",
       "      <th>8176</th>\n",
       "      <td>SIEE170-E170_0081-31</td>\n",
       "      <td>Composants Secondaires</td>\n",
       "      <td>E170_0081</td>\n",
       "      <td>Siège pilote</td>\n",
       "      <td>12106</td>\n",
       "      <td>13.230042</td>\n",
       "      <td>2151</td>\n",
       "    </tr>\n",
       "    <tr>\n",
       "      <th>8157</th>\n",
       "      <td>SYSE170-E170_0081-12</td>\n",
       "      <td>Composants Critiques</td>\n",
       "      <td>E170_0081</td>\n",
       "      <td>Système de gestion électrique</td>\n",
       "      <td>10409</td>\n",
       "      <td>12.463313</td>\n",
       "      <td>16266</td>\n",
       "    </tr>\n",
       "    <tr>\n",
       "      <th>8181</th>\n",
       "      <td>SYSE170-E170_0081-36</td>\n",
       "      <td>Composants Majeurs</td>\n",
       "      <td>E170_0081</td>\n",
       "      <td>Système de conditionnement d'air</td>\n",
       "      <td>10343</td>\n",
       "      <td>11.079551</td>\n",
       "      <td>13453</td>\n",
       "    </tr>\n",
       "    <tr>\n",
       "      <th>8171</th>\n",
       "      <td>GOUE170-E170_0081-26</td>\n",
       "      <td>Composants Majeurs</td>\n",
       "      <td>E170_0081</td>\n",
       "      <td>Gouvernail de direction</td>\n",
       "      <td>12643</td>\n",
       "      <td>6.920651</td>\n",
       "      <td>12059</td>\n",
       "    </tr>\n",
       "    <tr>\n",
       "      <th>8172</th>\n",
       "      <td>SYSE170-E170_0081-27</td>\n",
       "      <td>Composants Majeurs</td>\n",
       "      <td>E170_0081</td>\n",
       "      <td>Système de pressurisation</td>\n",
       "      <td>11338</td>\n",
       "      <td>6.756266</td>\n",
       "      <td>13233</td>\n",
       "    </tr>\n",
       "    <tr>\n",
       "      <th>8168</th>\n",
       "      <td>SPOE170-E170_0081-23</td>\n",
       "      <td>Composants Majeurs</td>\n",
       "      <td>E170_0081</td>\n",
       "      <td>Spoilers</td>\n",
       "      <td>13426</td>\n",
       "      <td>5.145282</td>\n",
       "      <td>12456</td>\n",
       "    </tr>\n",
       "    <tr>\n",
       "      <th>8184</th>\n",
       "      <td>PORE170-E170_0081-39</td>\n",
       "      <td>Composants Secondaires</td>\n",
       "      <td>E170_0081</td>\n",
       "      <td>Porte cargo</td>\n",
       "      <td>11447</td>\n",
       "      <td>4.332479</td>\n",
       "      <td>2850</td>\n",
       "    </tr>\n",
       "    <tr>\n",
       "      <th>8163</th>\n",
       "      <td>TRAE170-E170_0081-18</td>\n",
       "      <td>Composants Majeurs</td>\n",
       "      <td>E170_0081</td>\n",
       "      <td>Train d'atterrissage avant</td>\n",
       "      <td>13964</td>\n",
       "      <td>2.205948</td>\n",
       "      <td>14173</td>\n",
       "    </tr>\n",
       "    <tr>\n",
       "      <th>8182</th>\n",
       "      <td>DETE170-E170_0081-37</td>\n",
       "      <td>Composants Secondaires</td>\n",
       "      <td>E170_0081</td>\n",
       "      <td>Détecteurs de fumée</td>\n",
       "      <td>11066</td>\n",
       "      <td>1.030762</td>\n",
       "      <td>2147</td>\n",
       "    </tr>\n",
       "    <tr>\n",
       "      <th>8173</th>\n",
       "      <td>SYSE170-E170_0081-28</td>\n",
       "      <td>Composants Majeurs</td>\n",
       "      <td>E170_0081</td>\n",
       "      <td>Système de conditionnement d'air</td>\n",
       "      <td>10343</td>\n",
       "      <td>0.819551</td>\n",
       "      <td>13453</td>\n",
       "    </tr>\n",
       "  </tbody>\n",
       "</table>\n",
       "</div>"
      ],
      "text/plain": [
       "                 ref_compo               categorie       aero  \\\n",
       "8187  HUBE170-E170_0081-42  Composants Secondaires  E170_0081   \n",
       "8160  SYSE170-E170_0081-15      Composants Majeurs  E170_0081   \n",
       "8159  SYSE170-E170_0081-14    Composants Critiques  E170_0081   \n",
       "8145   REAE170-E170_0081-0    Composants Critiques  E170_0081   \n",
       "8162  TRAE170-E170_0081-17      Composants Majeurs  E170_0081   \n",
       "8153   SYSE170-E170_0081-8    Composants Critiques  E170_0081   \n",
       "8164  SYSE170-E170_0081-19      Composants Majeurs  E170_0081   \n",
       "8158  SYSE170-E170_0081-13    Composants Critiques  E170_0081   \n",
       "8180  TOIE170-E170_0081-35  Composants Secondaires  E170_0081   \n",
       "8146   REAE170-E170_0081-1    Composants Critiques  E170_0081   \n",
       "8154   SYSE170-E170_0081-9    Composants Critiques  E170_0081   \n",
       "8183  ECLE170-E170_0081-38  Composants Secondaires  E170_0081   \n",
       "8166  EMPE170-E170_0081-21      Composants Majeurs  E170_0081   \n",
       "8165  AILE170-E170_0081-20      Composants Majeurs  E170_0081   \n",
       "8186  PORE170-E170_0081-41  Composants Secondaires  E170_0081   \n",
       "8178  SYSE170-E170_0081-33  Composants Secondaires  E170_0081   \n",
       "8185  SYSE170-E170_0081-40  Composants Secondaires  E170_0081   \n",
       "8150   SYSE170-E170_0081-5    Composants Critiques  E170_0081   \n",
       "8188  ECLE170-E170_0081-43  Composants Secondaires  E170_0081   \n",
       "8151   RADE170-E170_0081-6    Composants Critiques  E170_0081   \n",
       "8148   ORDE170-E170_0081-3    Composants Critiques  E170_0081   \n",
       "8177  SIEE170-E170_0081-32  Composants Secondaires  E170_0081   \n",
       "8167  FLAE170-E170_0081-22      Composants Majeurs  E170_0081   \n",
       "8152   SYSE170-E170_0081-7    Composants Critiques  E170_0081   \n",
       "8149   AUTE170-E170_0081-4    Composants Critiques  E170_0081   \n",
       "8169  FREE170-E170_0081-24      Composants Majeurs  E170_0081   \n",
       "8155  SYSE170-E170_0081-10    Composants Critiques  E170_0081   \n",
       "8170  SYSE170-E170_0081-25      Composants Majeurs  E170_0081   \n",
       "8174  SYSE170-E170_0081-29      Composants Majeurs  E170_0081   \n",
       "8156  UNIE170-E170_0081-11    Composants Critiques  E170_0081   \n",
       "8175  ECLE170-E170_0081-30  Composants Secondaires  E170_0081   \n",
       "8189  SYSE170-E170_0081-44  Composants Secondaires  E170_0081   \n",
       "8161  GENE170-E170_0081-16      Composants Majeurs  E170_0081   \n",
       "8147   SYSE170-E170_0081-2    Composants Critiques  E170_0081   \n",
       "8179  SYSE170-E170_0081-34  Composants Secondaires  E170_0081   \n",
       "8176  SIEE170-E170_0081-31  Composants Secondaires  E170_0081   \n",
       "8157  SYSE170-E170_0081-12    Composants Critiques  E170_0081   \n",
       "8181  SYSE170-E170_0081-36      Composants Majeurs  E170_0081   \n",
       "8171  GOUE170-E170_0081-26      Composants Majeurs  E170_0081   \n",
       "8172  SYSE170-E170_0081-27      Composants Majeurs  E170_0081   \n",
       "8168  SPOE170-E170_0081-23      Composants Majeurs  E170_0081   \n",
       "8184  PORE170-E170_0081-39  Composants Secondaires  E170_0081   \n",
       "8163  TRAE170-E170_0081-18      Composants Majeurs  E170_0081   \n",
       "8182  DETE170-E170_0081-37  Composants Secondaires  E170_0081   \n",
       "8173  SYSE170-E170_0081-28      Composants Majeurs  E170_0081   \n",
       "\n",
       "                                             desc  lifespan  \\\n",
       "8187                                      Hublots     68978   \n",
       "8160                Système hydraulique principal     14811   \n",
       "8159     Système de surveillance du trafic aérien     10023   \n",
       "8145                              Réacteur gauche     13045   \n",
       "8162               Train d'atterrissage principal     10389   \n",
       "8153              Système de gestion de carburant     13219   \n",
       "8164                           Système anti-givre     14807   \n",
       "8158           Système d'atterrissage automatique     13537   \n",
       "8180                                    Toilettes     13230   \n",
       "8146                               Réacteur droit     13626   \n",
       "8154  Système d'alerte de proximité au sol (GPWS)     10423   \n",
       "8183                          Éclairage d'urgence     14359   \n",
       "8166                                    Empennage     13736   \n",
       "8165                                     Ailerons     10524   \n",
       "8186                             Portes passagers     13107   \n",
       "8178             Système de divertissement en vol     13985   \n",
       "8185                 Systèmes d'oxygène d'urgence     13038   \n",
       "8150                   Système de contrôle de vol     12580   \n",
       "8188                       Éclairage de la cabine     10639   \n",
       "8151                         Radar météorologique     11923   \n",
       "8148                            Ordinateur de vol     10441   \n",
       "8177                               Siège copilote     14200   \n",
       "8167                                        Flaps     11025   \n",
       "8152               Système de communication radio     10370   \n",
       "8149                                   Autopilote     14847   \n",
       "8169                                       Freins     11015   \n",
       "8155                  Système de commande des gaz     11747   \n",
       "8170      Système de contrôle des surfaces de vol     11125   \n",
       "8174              Système d'extinction d'incendie     11971   \n",
       "8156                    Unité de gestion de l'air     13224   \n",
       "8175                          Éclairage de cabine     12779   \n",
       "8189           Système d'approvisionnement en eau     12796   \n",
       "8161                        Générateur électrique     13716   \n",
       "8147                        Système de navigation     10541   \n",
       "8179                   Système d'annonce publique     13876   \n",
       "8176                                 Siège pilote     12106   \n",
       "8157                Système de gestion électrique     10409   \n",
       "8181             Système de conditionnement d'air     10343   \n",
       "8171                      Gouvernail de direction     12643   \n",
       "8172                    Système de pressurisation     11338   \n",
       "8168                                     Spoilers     13426   \n",
       "8184                                  Porte cargo     11447   \n",
       "8163                   Train d'atterrissage avant     13964   \n",
       "8182                          Détecteurs de fumée     11066   \n",
       "8173             Système de conditionnement d'air     10343   \n",
       "\n",
       "      taux_usure_actuel   cout  \n",
       "8187          62.131746   3593  \n",
       "8160          60.224227  14197  \n",
       "8159          58.531311  17135  \n",
       "8145          56.313565  15552  \n",
       "8162          55.152173  12512  \n",
       "8153          53.593483  18351  \n",
       "8164          52.303999  13366  \n",
       "8158          51.901609  15045  \n",
       "8180          51.754110   4801  \n",
       "8146          51.016682  17559  \n",
       "8154          47.844111  18680  \n",
       "8183          47.438463   4936  \n",
       "8166          44.822952  10528  \n",
       "8165          44.099868  10290  \n",
       "8186          44.097099   3053  \n",
       "8178          43.617145   2723  \n",
       "8185          43.053166   4745  \n",
       "8150          41.997060  19492  \n",
       "8188          41.276423   4965  \n",
       "8151          41.109611  17567  \n",
       "8148          37.905137  16047  \n",
       "8177          30.309400   3722  \n",
       "8167          29.338425  14480  \n",
       "8152          29.251090  19214  \n",
       "8149          27.506279  19362  \n",
       "8169          26.107855  12664  \n",
       "8155          23.979579  18091  \n",
       "8170          22.214125  12191  \n",
       "8174          20.702347  10109  \n",
       "8156          20.063768  17834  \n",
       "8175          19.258403   4788  \n",
       "8189          17.009372   4701  \n",
       "8161          14.621812  10833  \n",
       "8147          14.430837  16514  \n",
       "8179          13.730932   2021  \n",
       "8176          13.230042   2151  \n",
       "8157          12.463313  16266  \n",
       "8181          11.079551  13453  \n",
       "8171           6.920651  12059  \n",
       "8172           6.756266  13233  \n",
       "8168           5.145282  12456  \n",
       "8184           4.332479   2850  \n",
       "8163           2.205948  14173  \n",
       "8182           1.030762   2147  \n",
       "8173           0.819551  13453  "
      ]
     },
     "execution_count": 71,
     "metadata": {},
     "output_type": "execute_result"
    }
   ],
   "source": [
    "composants.loc[composants['aero'] == 'E170_0081', :].sort_values('taux_usure_actuel', ascending=False)"
   ]
  },
  {
   "cell_type": "code",
   "execution_count": 75,
   "metadata": {},
   "outputs": [
    {
     "data": {
      "text/html": [
       "<div>\n",
       "<style scoped>\n",
       "    .dataframe tbody tr th:only-of-type {\n",
       "        vertical-align: middle;\n",
       "    }\n",
       "\n",
       "    .dataframe tbody tr th {\n",
       "        vertical-align: top;\n",
       "    }\n",
       "\n",
       "    .dataframe thead th {\n",
       "        text-align: right;\n",
       "    }\n",
       "</style>\n",
       "<table border=\"1\" class=\"dataframe\">\n",
       "  <thead>\n",
       "    <tr style=\"text-align: right;\">\n",
       "      <th></th>\n",
       "      <th>ref_vol</th>\n",
       "      <th>aero_linked</th>\n",
       "      <th>jour_vol</th>\n",
       "      <th>time_en_air</th>\n",
       "      <th>sensor_data</th>\n",
       "      <th>etat_voyant</th>\n",
       "    </tr>\n",
       "  </thead>\n",
       "  <tbody>\n",
       "    <tr>\n",
       "      <th>29</th>\n",
       "      <td>V01361835</td>\n",
       "      <td>E170_0081</td>\n",
       "      <td>2024-06-02</td>\n",
       "      <td>5.7</td>\n",
       "      <td>'temp': '-2.1°C', 'pressure': '988.5 hPa', 'vi...</td>\n",
       "      <td>1</td>\n",
       "    </tr>\n",
       "  </tbody>\n",
       "</table>\n",
       "</div>"
      ],
      "text/plain": [
       "      ref_vol aero_linked    jour_vol  time_en_air  \\\n",
       "29  V01361835   E170_0081  2024-06-02          5.7   \n",
       "\n",
       "                                          sensor_data  etat_voyant  \n",
       "29  'temp': '-2.1°C', 'pressure': '988.5 hPa', 'vi...            1  "
      ]
     },
     "execution_count": 75,
     "metadata": {},
     "output_type": "execute_result"
    }
   ],
   "source": [
    "log_vols.loc[log_vols['aero_linked'] == 'E170_0081', :]"
   ]
  },
  {
   "cell_type": "code",
   "execution_count": 80,
   "metadata": {},
   "outputs": [
    {
     "data": {
      "text/plain": [
       "\"'temp': '-5.7°C', 'pressure': '930.6 hPa', 'vibrations': '3.1163905014858932 m/s²'\""
      ]
     },
     "execution_count": 80,
     "metadata": {},
     "output_type": "execute_result"
    }
   ],
   "source": [
    "log_vols.iloc[0,4]"
   ]
  },
  {
   "cell_type": "markdown",
   "metadata": {},
   "source": [
    "Après ces 3 blocs on remarques que les avions ont déclenchés un voyant alerte avant d'arriver à 75% d'usure sur les composants"
   ]
  },
  {
   "cell_type": "markdown",
   "metadata": {},
   "source": [
    "TENTATIVE pour voir corrélation entre données de vols (sensor) et état du voyant"
   ]
  },
  {
   "cell_type": "code",
   "execution_count": 74,
   "metadata": {},
   "outputs": [],
   "source": [
    "log_vols['sensor_data'] = log_vols['sensor_data'].str.replace('{', '').str.replace('}', '')"
   ]
  },
  {
   "cell_type": "code",
   "execution_count": 82,
   "metadata": {},
   "outputs": [],
   "source": [
    "sensor = log_vols['sensor_data'].str.split(',', expand=True)"
   ]
  },
  {
   "cell_type": "code",
   "execution_count": 83,
   "metadata": {},
   "outputs": [
    {
     "data": {
      "text/html": [
       "<div>\n",
       "<style scoped>\n",
       "    .dataframe tbody tr th:only-of-type {\n",
       "        vertical-align: middle;\n",
       "    }\n",
       "\n",
       "    .dataframe tbody tr th {\n",
       "        vertical-align: top;\n",
       "    }\n",
       "\n",
       "    .dataframe thead th {\n",
       "        text-align: right;\n",
       "    }\n",
       "</style>\n",
       "<table border=\"1\" class=\"dataframe\">\n",
       "  <thead>\n",
       "    <tr style=\"text-align: right;\">\n",
       "      <th></th>\n",
       "      <th>0</th>\n",
       "      <th>1</th>\n",
       "      <th>2</th>\n",
       "    </tr>\n",
       "  </thead>\n",
       "  <tbody>\n",
       "    <tr>\n",
       "      <th>0</th>\n",
       "      <td>'temp': '-5.7°C'</td>\n",
       "      <td>'pressure': '930.6 hPa'</td>\n",
       "      <td>'vibrations': '3.1163905014858932 m/s²'</td>\n",
       "    </tr>\n",
       "    <tr>\n",
       "      <th>1</th>\n",
       "      <td>'temp': '0.9°C'</td>\n",
       "      <td>'pressure': '950.6 hPa'</td>\n",
       "      <td>'vibrations': '4.5578253809563725 m/s²'</td>\n",
       "    </tr>\n",
       "    <tr>\n",
       "      <th>2</th>\n",
       "      <td>'temp': '-6.2°C'</td>\n",
       "      <td>'pressure': '975.5 hPa'</td>\n",
       "      <td>'vibrations': '4.58707061982232 m/s²'</td>\n",
       "    </tr>\n",
       "    <tr>\n",
       "      <th>3</th>\n",
       "      <td>'temp': '-25.3°C'</td>\n",
       "      <td>'pressure': '945.1 hPa'</td>\n",
       "      <td>'vibrations': '3.287868564197513 m/s²'</td>\n",
       "    </tr>\n",
       "    <tr>\n",
       "      <th>4</th>\n",
       "      <td>'temp': '11.1°C'</td>\n",
       "      <td>'pressure': '931.3 hPa'</td>\n",
       "      <td>'vibrations': '2.8166257793381355 m/s²'</td>\n",
       "    </tr>\n",
       "    <tr>\n",
       "      <th>...</th>\n",
       "      <td>...</td>\n",
       "      <td>...</td>\n",
       "      <td>...</td>\n",
       "    </tr>\n",
       "    <tr>\n",
       "      <th>94</th>\n",
       "      <td>'temp': '-15.8°C'</td>\n",
       "      <td>'pressure': '967.0 hPa'</td>\n",
       "      <td>'vibrations': '0.5322723736683688 m/s²'</td>\n",
       "    </tr>\n",
       "    <tr>\n",
       "      <th>95</th>\n",
       "      <td>'temp': '-6.4°C'</td>\n",
       "      <td>'pressure': '966.1 hPa'</td>\n",
       "      <td>'vibrations': '3.600632348965733 m/s²'</td>\n",
       "    </tr>\n",
       "    <tr>\n",
       "      <th>96</th>\n",
       "      <td>'temp': '-18.3°C'</td>\n",
       "      <td>'pressure': '973.3 hPa'</td>\n",
       "      <td>'vibrations': '2.0827694406743524 m/s²'</td>\n",
       "    </tr>\n",
       "    <tr>\n",
       "      <th>97</th>\n",
       "      <td>'temp': '2.8°C'</td>\n",
       "      <td>'pressure': '949.4 hPa'</td>\n",
       "      <td>'vibrations': '3.029759269497611 m/s²'</td>\n",
       "    </tr>\n",
       "    <tr>\n",
       "      <th>98</th>\n",
       "      <td>'temp': '-6.0°C'</td>\n",
       "      <td>'pressure': '925.1 hPa'</td>\n",
       "      <td>'vibrations': '2.2291476661216194 m/s²'</td>\n",
       "    </tr>\n",
       "  </tbody>\n",
       "</table>\n",
       "<p>99 rows × 3 columns</p>\n",
       "</div>"
      ],
      "text/plain": [
       "                    0                         1  \\\n",
       "0    'temp': '-5.7°C'   'pressure': '930.6 hPa'   \n",
       "1     'temp': '0.9°C'   'pressure': '950.6 hPa'   \n",
       "2    'temp': '-6.2°C'   'pressure': '975.5 hPa'   \n",
       "3   'temp': '-25.3°C'   'pressure': '945.1 hPa'   \n",
       "4    'temp': '11.1°C'   'pressure': '931.3 hPa'   \n",
       "..                ...                       ...   \n",
       "94  'temp': '-15.8°C'   'pressure': '967.0 hPa'   \n",
       "95   'temp': '-6.4°C'   'pressure': '966.1 hPa'   \n",
       "96  'temp': '-18.3°C'   'pressure': '973.3 hPa'   \n",
       "97    'temp': '2.8°C'   'pressure': '949.4 hPa'   \n",
       "98   'temp': '-6.0°C'   'pressure': '925.1 hPa'   \n",
       "\n",
       "                                           2  \n",
       "0    'vibrations': '3.1163905014858932 m/s²'  \n",
       "1    'vibrations': '4.5578253809563725 m/s²'  \n",
       "2      'vibrations': '4.58707061982232 m/s²'  \n",
       "3     'vibrations': '3.287868564197513 m/s²'  \n",
       "4    'vibrations': '2.8166257793381355 m/s²'  \n",
       "..                                       ...  \n",
       "94   'vibrations': '0.5322723736683688 m/s²'  \n",
       "95    'vibrations': '3.600632348965733 m/s²'  \n",
       "96   'vibrations': '2.0827694406743524 m/s²'  \n",
       "97    'vibrations': '3.029759269497611 m/s²'  \n",
       "98   'vibrations': '2.2291476661216194 m/s²'  \n",
       "\n",
       "[99 rows x 3 columns]"
      ]
     },
     "execution_count": 83,
     "metadata": {},
     "output_type": "execute_result"
    }
   ],
   "source": [
    "sensor"
   ]
  },
  {
   "cell_type": "code",
   "execution_count": 89,
   "metadata": {},
   "outputs": [],
   "source": [
    "log_vols = pd.merge(log_vols, sensor, left_index=True, right_index=True)"
   ]
  },
  {
   "cell_type": "code",
   "execution_count": 122,
   "metadata": {},
   "outputs": [
    {
     "data": {
      "text/html": [
       "<div>\n",
       "<style scoped>\n",
       "    .dataframe tbody tr th:only-of-type {\n",
       "        vertical-align: middle;\n",
       "    }\n",
       "\n",
       "    .dataframe tbody tr th {\n",
       "        vertical-align: top;\n",
       "    }\n",
       "\n",
       "    .dataframe thead th {\n",
       "        text-align: right;\n",
       "    }\n",
       "</style>\n",
       "<table border=\"1\" class=\"dataframe\">\n",
       "  <thead>\n",
       "    <tr style=\"text-align: right;\">\n",
       "      <th></th>\n",
       "      <th>ref_vol</th>\n",
       "      <th>aero_linked</th>\n",
       "      <th>jour_vol</th>\n",
       "      <th>time_en_air</th>\n",
       "      <th>etat_voyant</th>\n",
       "      <th>temperature</th>\n",
       "      <th>pression</th>\n",
       "      <th>vibrations</th>\n",
       "    </tr>\n",
       "  </thead>\n",
       "  <tbody>\n",
       "    <tr>\n",
       "      <th>0</th>\n",
       "      <td>V07679725</td>\n",
       "      <td>B767_4924</td>\n",
       "      <td>2024-06-02</td>\n",
       "      <td>7.0</td>\n",
       "      <td>0</td>\n",
       "      <td>-5.7</td>\n",
       "      <td>930.6</td>\n",
       "      <td>3.116391</td>\n",
       "    </tr>\n",
       "    <tr>\n",
       "      <th>1</th>\n",
       "      <td>V02564879</td>\n",
       "      <td>B747_3165</td>\n",
       "      <td>2024-06-02</td>\n",
       "      <td>5.1</td>\n",
       "      <td>0</td>\n",
       "      <td>0.9</td>\n",
       "      <td>950.6</td>\n",
       "      <td>4.557825</td>\n",
       "    </tr>\n",
       "    <tr>\n",
       "      <th>2</th>\n",
       "      <td>V07933973</td>\n",
       "      <td>B757_2518</td>\n",
       "      <td>2024-06-02</td>\n",
       "      <td>7.7</td>\n",
       "      <td>3</td>\n",
       "      <td>-6.2</td>\n",
       "      <td>975.5</td>\n",
       "      <td>4.587071</td>\n",
       "    </tr>\n",
       "    <tr>\n",
       "      <th>3</th>\n",
       "      <td>V02230187</td>\n",
       "      <td>A340_1047</td>\n",
       "      <td>2024-06-02</td>\n",
       "      <td>6.1</td>\n",
       "      <td>1</td>\n",
       "      <td>-25.3</td>\n",
       "      <td>945.1</td>\n",
       "      <td>3.287869</td>\n",
       "    </tr>\n",
       "    <tr>\n",
       "      <th>4</th>\n",
       "      <td>V09071213</td>\n",
       "      <td>B757_6806</td>\n",
       "      <td>2024-06-02</td>\n",
       "      <td>4.5</td>\n",
       "      <td>0</td>\n",
       "      <td>11.1</td>\n",
       "      <td>931.3</td>\n",
       "      <td>2.816626</td>\n",
       "    </tr>\n",
       "  </tbody>\n",
       "</table>\n",
       "</div>"
      ],
      "text/plain": [
       "     ref_vol aero_linked    jour_vol  time_en_air  etat_voyant  temperature  \\\n",
       "0  V07679725   B767_4924  2024-06-02          7.0            0         -5.7   \n",
       "1  V02564879   B747_3165  2024-06-02          5.1            0          0.9   \n",
       "2  V07933973   B757_2518  2024-06-02          7.7            3         -6.2   \n",
       "3  V02230187   A340_1047  2024-06-02          6.1            1        -25.3   \n",
       "4  V09071213   B757_6806  2024-06-02          4.5            0         11.1   \n",
       "\n",
       "   pression  vibrations  \n",
       "0     930.6    3.116391  \n",
       "1     950.6    4.557825  \n",
       "2     975.5    4.587071  \n",
       "3     945.1    3.287869  \n",
       "4     931.3    2.816626  "
      ]
     },
     "execution_count": 122,
     "metadata": {},
     "output_type": "execute_result"
    }
   ],
   "source": [
    "log_vols.head()"
   ]
  },
  {
   "cell_type": "code",
   "execution_count": 104,
   "metadata": {},
   "outputs": [],
   "source": [
    "log_vols['temperature'] = log_vols['temperature'].str.replace(\"'temp':\", \"\")\n",
    "log_vols['temperature'] = log_vols['temperature'].str.replace(\"'\", \"\").replace(\"°C'\", \"\")\n",
    "log_vols['temperature'] = log_vols['temperature'].str.replace(\"°C\", \"\")"
   ]
  },
  {
   "cell_type": "code",
   "execution_count": 106,
   "metadata": {},
   "outputs": [],
   "source": [
    "log_vols['pression'] = log_vols['pression'].str.replace(\"'pressure':\", \"\").replace(\"'\", \"\").replace(\"hPa'\", \"\")"
   ]
  },
  {
   "cell_type": "code",
   "execution_count": 116,
   "metadata": {},
   "outputs": [],
   "source": [
    "log_vols['pression'] = log_vols['pression'].str.replace(\"hPa'\", \"\")\n",
    "log_vols['pression'] = log_vols['pression'].str.replace(\"'\", \"\")"
   ]
  },
  {
   "cell_type": "code",
   "execution_count": 117,
   "metadata": {},
   "outputs": [],
   "source": [
    "log_vols['vibrations'] = log_vols['vibrations'].str.replace(\"'vibrations':\", \"\").str.replace(\" m/s²'\", \"\")\n",
    "log_vols['vibrations'] = log_vols['vibrations'].str.replace(\"'\", \"\")\n"
   ]
  },
  {
   "cell_type": "code",
   "execution_count": 121,
   "metadata": {},
   "outputs": [],
   "source": [
    "log_vols[['temperature', 'pression', 'vibrations']] = log_vols[['temperature', 'pression', 'vibrations']].astype(float)"
   ]
  },
  {
   "cell_type": "code",
   "execution_count": 123,
   "metadata": {},
   "outputs": [
    {
     "name": "stdout",
     "output_type": "stream",
     "text": [
      "<class 'pandas.core.frame.DataFrame'>\n",
      "RangeIndex: 99 entries, 0 to 98\n",
      "Data columns (total 8 columns):\n",
      " #   Column       Non-Null Count  Dtype  \n",
      "---  ------       --------------  -----  \n",
      " 0   ref_vol      99 non-null     object \n",
      " 1   aero_linked  99 non-null     object \n",
      " 2   jour_vol     99 non-null     object \n",
      " 3   time_en_air  99 non-null     float64\n",
      " 4   etat_voyant  99 non-null     int64  \n",
      " 5   temperature  99 non-null     float64\n",
      " 6   pression     99 non-null     float64\n",
      " 7   vibrations   99 non-null     float64\n",
      "dtypes: float64(4), int64(1), object(3)\n",
      "memory usage: 6.3+ KB\n"
     ]
    }
   ],
   "source": [
    "log_vols.info()"
   ]
  },
  {
   "cell_type": "code",
   "execution_count": 93,
   "metadata": {},
   "outputs": [
    {
     "data": {
      "text/plain": [
       "Index(['ref_vol', 'aero_linked', 'jour_vol', 'time_en_air', 'sensor_data',\n",
       "       'etat_voyant', 'temperature', 'pression', 'vibrations'],\n",
       "      dtype='object')"
      ]
     },
     "execution_count": 93,
     "metadata": {},
     "output_type": "execute_result"
    }
   ],
   "source": [
    "log_vols.columns"
   ]
  },
  {
   "cell_type": "code",
   "execution_count": 91,
   "metadata": {},
   "outputs": [],
   "source": [
    "log_vols = log_vols.rename(columns={0:'temperature'})\n",
    "log_vols = log_vols.rename(columns={1:'pression'})\n",
    "log_vols = log_vols.rename(columns={2:'vibrations'})"
   ]
  },
  {
   "cell_type": "code",
   "execution_count": 95,
   "metadata": {},
   "outputs": [],
   "source": [
    "log_vols = log_vols.drop(columns='sensor_data')"
   ]
  },
  {
   "cell_type": "code",
   "execution_count": 126,
   "metadata": {},
   "outputs": [],
   "source": [
    "import matplotlib.pyplot as plt\n",
    "import seaborn as sns"
   ]
  },
  {
   "cell_type": "code",
   "execution_count": 129,
   "metadata": {},
   "outputs": [],
   "source": [
    "log_vols_num = log_vols.select_dtypes(include='number')"
   ]
  },
  {
   "cell_type": "code",
   "execution_count": 133,
   "metadata": {},
   "outputs": [
    {
     "data": {
      "text/plain": [
       "<Axes: >"
      ]
     },
     "execution_count": 133,
     "metadata": {},
     "output_type": "execute_result"
    },
    {
     "data": {
      "image/png": "[encoded data removed]",
      "text/plain": [
       "<Figure size 640x480 with 2 Axes>"
      ]
     },
     "metadata": {},
     "output_type": "display_data"
    }
   ],
   "source": [
    "sns.heatmap(log_vols_num.corr(), annot=True, cmap='crest')"
   ]
  },
  {
   "cell_type": "markdown",
   "metadata": {},
   "source": [
    "Il y a corrélation entre état du voyant et durée de vol (corrélation positive) et état du voyant et température (corrélation négative)"
   ]
  },
  {
   "cell_type": "markdown",
   "metadata": {},
   "source": [
    "DEBUT DE CODE pour AUTOMATISATION du load des BDD quotidiennes\n",
    "Format : logs_vols_AAAA-MM-JJ.csv\n",
    "Format : degradations_AAAA-MM-JJ.csv"
   ]
  },
  {
   "cell_type": "code",
   "execution_count": 45,
   "metadata": {},
   "outputs": [],
   "source": [
    "from datetime import timedelta, datetime, date"
   ]
  },
  {
   "cell_type": "code",
   "execution_count": 165,
   "metadata": {},
   "outputs": [
    {
     "data": {
      "text/plain": [
       "'2024-06-03'"
      ]
     },
     "execution_count": 165,
     "metadata": {},
     "output_type": "execute_result"
    }
   ],
   "source": [
    "start = '2024-06-02'\n",
    "end = '2024-07-26'\n",
    "\n",
    "link_log = 'http://sc-e.fr/docs/logs_vols_'\n",
    "link_degra = 'http://sc-e.fr/docs/degradations_'\n",
    "\n",
    "auj = datetime.date.today()\n",
    "jour = auj.strftime('%Y-%m-%d')\n",
    "jour"
   ]
  },
  {
   "cell_type": "code",
   "execution_count": 166,
   "metadata": {},
   "outputs": [],
   "source": [
    "log = pd.read_csv(link_log+jour+\".csv\")\n",
    "degra = pd.read_csv(link_degra+jour+\".csv\")"
   ]
  },
  {
   "cell_type": "code",
   "execution_count": 74,
   "metadata": {},
   "outputs": [],
   "source": [
    "def maj_dataset_log_vols(jour):\n",
    "    link_log = 'http://sc-e.fr/docs/logs_vols_'\n",
    "    log = pd.read_csv(link_log+jour+\".csv\")\n",
    "    log.to_csv(r'C:\\Users\\MAITE\\Wild Code School\\SkyAnalytics\\BDD\\log_vols_'+ jour +'.csv', index=False)\n",
    "    return log"
   ]
  },
  {
   "cell_type": "code",
   "execution_count": 75,
   "metadata": {},
   "outputs": [],
   "source": [
    "def maj_dataset_degra(jour):\n",
    "    link_degra = 'http://sc-e.fr/docs/degradations_'\n",
    "    degra = pd.read_csv(link_degra+jour+\".csv\")\n",
    "    degra.to_csv(r'C:\\Users\\MAITE\\Wild Code School\\SkyAnalytics\\BDD\\degradations_' + jour + '.csv', index=False)\n",
    "    return degra"
   ]
  },
  {
   "cell_type": "code",
   "execution_count": 76,
   "metadata": {},
   "outputs": [],
   "source": [
    "auj = date.today()\n",
    "jour = auj.strftime('%Y-%m-%d')"
   ]
  },
  {
   "cell_type": "code",
   "execution_count": 72,
   "metadata": {},
   "outputs": [
    {
     "data": {
      "text/plain": [
       "datetime.date(2024, 6, 4)"
      ]
     },
     "execution_count": 72,
     "metadata": {},
     "output_type": "execute_result"
    }
   ],
   "source": [
    "auj"
   ]
  },
  {
   "cell_type": "code",
   "execution_count": 77,
   "metadata": {},
   "outputs": [
    {
     "data": {
      "text/plain": [
       "'2024-06-04'"
      ]
     },
     "execution_count": 77,
     "metadata": {},
     "output_type": "execute_result"
    }
   ],
   "source": [
    "jour"
   ]
  },
  {
   "cell_type": "code",
   "execution_count": 79,
   "metadata": {},
   "outputs": [
    {
     "data": {
      "text/html": [
       "<div>\n",
       "<style scoped>\n",
       "    .dataframe tbody tr th:only-of-type {\n",
       "        vertical-align: middle;\n",
       "    }\n",
       "\n",
       "    .dataframe tbody tr th {\n",
       "        vertical-align: top;\n",
       "    }\n",
       "\n",
       "    .dataframe thead th {\n",
       "        text-align: right;\n",
       "    }\n",
       "</style>\n",
       "<table border=\"1\" class=\"dataframe\">\n",
       "  <thead>\n",
       "    <tr style=\"text-align: right;\">\n",
       "      <th></th>\n",
       "      <th>ref_vol</th>\n",
       "      <th>aero_linked</th>\n",
       "      <th>jour_vol</th>\n",
       "      <th>time_en_air</th>\n",
       "      <th>sensor_data</th>\n",
       "      <th>etat_voyant</th>\n",
       "    </tr>\n",
       "  </thead>\n",
       "  <tbody>\n",
       "    <tr>\n",
       "      <th>0</th>\n",
       "      <td>V06783026</td>\n",
       "      <td>A320_6242</td>\n",
       "      <td>2024-06-04</td>\n",
       "      <td>6.2</td>\n",
       "      <td>{'temp': '-14.7°C', 'pressure': '1009.1 hPa', ...</td>\n",
       "      <td>1</td>\n",
       "    </tr>\n",
       "    <tr>\n",
       "      <th>1</th>\n",
       "      <td>V06810954</td>\n",
       "      <td>A380_5199</td>\n",
       "      <td>2024-06-04</td>\n",
       "      <td>2.1</td>\n",
       "      <td>{'temp': '2.9°C', 'pressure': '1015.8 hPa', 'v...</td>\n",
       "      <td>0</td>\n",
       "    </tr>\n",
       "    <tr>\n",
       "      <th>2</th>\n",
       "      <td>V05201226</td>\n",
       "      <td>A350_3122</td>\n",
       "      <td>2024-06-04</td>\n",
       "      <td>7.7</td>\n",
       "      <td>{'temp': '8.0°C', 'pressure': '934.2 hPa', 'vi...</td>\n",
       "      <td>0</td>\n",
       "    </tr>\n",
       "    <tr>\n",
       "      <th>3</th>\n",
       "      <td>V05582404</td>\n",
       "      <td>B747_3165</td>\n",
       "      <td>2024-06-04</td>\n",
       "      <td>8.3</td>\n",
       "      <td>{'temp': '7.3°C', 'pressure': '999.9 hPa', 'vi...</td>\n",
       "      <td>0</td>\n",
       "    </tr>\n",
       "    <tr>\n",
       "      <th>4</th>\n",
       "      <td>V01713095</td>\n",
       "      <td>A350_6452</td>\n",
       "      <td>2024-06-04</td>\n",
       "      <td>9.8</td>\n",
       "      <td>{'temp': '-11.4°C', 'pressure': '946.7 hPa', '...</td>\n",
       "      <td>0</td>\n",
       "    </tr>\n",
       "    <tr>\n",
       "      <th>...</th>\n",
       "      <td>...</td>\n",
       "      <td>...</td>\n",
       "      <td>...</td>\n",
       "      <td>...</td>\n",
       "      <td>...</td>\n",
       "      <td>...</td>\n",
       "    </tr>\n",
       "    <tr>\n",
       "      <th>114</th>\n",
       "      <td>V06431541</td>\n",
       "      <td>A340_3962</td>\n",
       "      <td>2024-06-04</td>\n",
       "      <td>5.0</td>\n",
       "      <td>{'temp': '-7.2°C', 'pressure': '899.8 hPa', 'v...</td>\n",
       "      <td>0</td>\n",
       "    </tr>\n",
       "    <tr>\n",
       "      <th>115</th>\n",
       "      <td>V09985804</td>\n",
       "      <td>CRJ700_4386</td>\n",
       "      <td>2024-06-04</td>\n",
       "      <td>4.6</td>\n",
       "      <td>{'temp': '4.1°C', 'pressure': '942.4 hPa', 'vi...</td>\n",
       "      <td>0</td>\n",
       "    </tr>\n",
       "    <tr>\n",
       "      <th>116</th>\n",
       "      <td>V06301893</td>\n",
       "      <td>A380_2017</td>\n",
       "      <td>2024-06-04</td>\n",
       "      <td>3.8</td>\n",
       "      <td>{'temp': '-1.6°C', 'pressure': '982.2 hPa', 'v...</td>\n",
       "      <td>0</td>\n",
       "    </tr>\n",
       "    <tr>\n",
       "      <th>117</th>\n",
       "      <td>V04938486</td>\n",
       "      <td>A320_6678</td>\n",
       "      <td>2024-06-04</td>\n",
       "      <td>2.0</td>\n",
       "      <td>{'temp': '13.9°C', 'pressure': '890.3 hPa', 'v...</td>\n",
       "      <td>0</td>\n",
       "    </tr>\n",
       "    <tr>\n",
       "      <th>118</th>\n",
       "      <td>V06106198</td>\n",
       "      <td>B757_4595</td>\n",
       "      <td>2024-06-04</td>\n",
       "      <td>3.7</td>\n",
       "      <td>{'temp': '-20.9°C', 'pressure': '905.9 hPa', '...</td>\n",
       "      <td>1</td>\n",
       "    </tr>\n",
       "  </tbody>\n",
       "</table>\n",
       "<p>119 rows × 6 columns</p>\n",
       "</div>"
      ],
      "text/plain": [
       "       ref_vol  aero_linked    jour_vol  time_en_air  \\\n",
       "0    V06783026    A320_6242  2024-06-04          6.2   \n",
       "1    V06810954    A380_5199  2024-06-04          2.1   \n",
       "2    V05201226    A350_3122  2024-06-04          7.7   \n",
       "3    V05582404    B747_3165  2024-06-04          8.3   \n",
       "4    V01713095    A350_6452  2024-06-04          9.8   \n",
       "..         ...          ...         ...          ...   \n",
       "114  V06431541    A340_3962  2024-06-04          5.0   \n",
       "115  V09985804  CRJ700_4386  2024-06-04          4.6   \n",
       "116  V06301893    A380_2017  2024-06-04          3.8   \n",
       "117  V04938486    A320_6678  2024-06-04          2.0   \n",
       "118  V06106198    B757_4595  2024-06-04          3.7   \n",
       "\n",
       "                                           sensor_data  etat_voyant  \n",
       "0    {'temp': '-14.7°C', 'pressure': '1009.1 hPa', ...            1  \n",
       "1    {'temp': '2.9°C', 'pressure': '1015.8 hPa', 'v...            0  \n",
       "2    {'temp': '8.0°C', 'pressure': '934.2 hPa', 'vi...            0  \n",
       "3    {'temp': '7.3°C', 'pressure': '999.9 hPa', 'vi...            0  \n",
       "4    {'temp': '-11.4°C', 'pressure': '946.7 hPa', '...            0  \n",
       "..                                                 ...          ...  \n",
       "114  {'temp': '-7.2°C', 'pressure': '899.8 hPa', 'v...            0  \n",
       "115  {'temp': '4.1°C', 'pressure': '942.4 hPa', 'vi...            0  \n",
       "116  {'temp': '-1.6°C', 'pressure': '982.2 hPa', 'v...            0  \n",
       "117  {'temp': '13.9°C', 'pressure': '890.3 hPa', 'v...            0  \n",
       "118  {'temp': '-20.9°C', 'pressure': '905.9 hPa', '...            1  \n",
       "\n",
       "[119 rows x 6 columns]"
      ]
     },
     "execution_count": 79,
     "metadata": {},
     "output_type": "execute_result"
    }
   ],
   "source": [
    "maj_dataset_log_vols(jour)"
   ]
  },
  {
   "cell_type": "code",
   "execution_count": 80,
   "metadata": {},
   "outputs": [
    {
     "data": {
      "text/html": [
       "<div>\n",
       "<style scoped>\n",
       "    .dataframe tbody tr th:only-of-type {\n",
       "        vertical-align: middle;\n",
       "    }\n",
       "\n",
       "    .dataframe tbody tr th {\n",
       "        vertical-align: top;\n",
       "    }\n",
       "\n",
       "    .dataframe thead th {\n",
       "        text-align: right;\n",
       "    }\n",
       "</style>\n",
       "<table border=\"1\" class=\"dataframe\">\n",
       "  <thead>\n",
       "    <tr style=\"text-align: right;\">\n",
       "      <th></th>\n",
       "      <th>ref_deg</th>\n",
       "      <th>linked_aero</th>\n",
       "      <th>compo_concerned</th>\n",
       "      <th>usure_nouvelle</th>\n",
       "      <th>measure_day</th>\n",
       "      <th>need_replacement</th>\n",
       "    </tr>\n",
       "  </thead>\n",
       "  <tbody>\n",
       "    <tr>\n",
       "      <th>0</th>\n",
       "      <td>D003661</td>\n",
       "      <td>E170_6353</td>\n",
       "      <td>REAE170-E170_6353-0</td>\n",
       "      <td>54.208480</td>\n",
       "      <td>2024-06-04</td>\n",
       "      <td>False</td>\n",
       "    </tr>\n",
       "    <tr>\n",
       "      <th>1</th>\n",
       "      <td>D009402</td>\n",
       "      <td>E170_6353</td>\n",
       "      <td>REAE170-E170_6353-1</td>\n",
       "      <td>51.052144</td>\n",
       "      <td>2024-06-04</td>\n",
       "      <td>False</td>\n",
       "    </tr>\n",
       "    <tr>\n",
       "      <th>2</th>\n",
       "      <td>D000812</td>\n",
       "      <td>E170_6353</td>\n",
       "      <td>SYSE170-E170_6353-2</td>\n",
       "      <td>17.457904</td>\n",
       "      <td>2024-06-04</td>\n",
       "      <td>False</td>\n",
       "    </tr>\n",
       "    <tr>\n",
       "      <th>3</th>\n",
       "      <td>D006665</td>\n",
       "      <td>E170_6353</td>\n",
       "      <td>ORDE170-E170_6353-3</td>\n",
       "      <td>7.373504</td>\n",
       "      <td>2024-06-04</td>\n",
       "      <td>False</td>\n",
       "    </tr>\n",
       "    <tr>\n",
       "      <th>4</th>\n",
       "      <td>D001163</td>\n",
       "      <td>E170_6353</td>\n",
       "      <td>AUTE170-E170_6353-4</td>\n",
       "      <td>43.057968</td>\n",
       "      <td>2024-06-04</td>\n",
       "      <td>False</td>\n",
       "    </tr>\n",
       "    <tr>\n",
       "      <th>...</th>\n",
       "      <td>...</td>\n",
       "      <td>...</td>\n",
       "      <td>...</td>\n",
       "      <td>...</td>\n",
       "      <td>...</td>\n",
       "      <td>...</td>\n",
       "    </tr>\n",
       "    <tr>\n",
       "      <th>10525</th>\n",
       "      <td>D006322</td>\n",
       "      <td>CRJ700_2988</td>\n",
       "      <td>SYSCRJ700-CRJ700_2988-40</td>\n",
       "      <td>53.323168</td>\n",
       "      <td>2024-06-02</td>\n",
       "      <td>False</td>\n",
       "    </tr>\n",
       "    <tr>\n",
       "      <th>10526</th>\n",
       "      <td>D005497</td>\n",
       "      <td>CRJ700_2988</td>\n",
       "      <td>PORCRJ700-CRJ700_2988-41</td>\n",
       "      <td>16.392552</td>\n",
       "      <td>2024-06-02</td>\n",
       "      <td>False</td>\n",
       "    </tr>\n",
       "    <tr>\n",
       "      <th>10527</th>\n",
       "      <td>D005625</td>\n",
       "      <td>CRJ700_2988</td>\n",
       "      <td>HUBCRJ700-CRJ700_2988-42</td>\n",
       "      <td>34.551008</td>\n",
       "      <td>2024-06-02</td>\n",
       "      <td>False</td>\n",
       "    </tr>\n",
       "    <tr>\n",
       "      <th>10528</th>\n",
       "      <td>D003657</td>\n",
       "      <td>CRJ700_2988</td>\n",
       "      <td>ECLCRJ700-CRJ700_2988-43</td>\n",
       "      <td>36.706904</td>\n",
       "      <td>2024-06-02</td>\n",
       "      <td>False</td>\n",
       "    </tr>\n",
       "    <tr>\n",
       "      <th>10529</th>\n",
       "      <td>D000550</td>\n",
       "      <td>CRJ700_2988</td>\n",
       "      <td>SYSCRJ700-CRJ700_2988-44</td>\n",
       "      <td>13.740256</td>\n",
       "      <td>2024-06-02</td>\n",
       "      <td>False</td>\n",
       "    </tr>\n",
       "  </tbody>\n",
       "</table>\n",
       "<p>10530 rows × 6 columns</p>\n",
       "</div>"
      ],
      "text/plain": [
       "       ref_deg  linked_aero           compo_concerned  usure_nouvelle  \\\n",
       "0      D003661    E170_6353       REAE170-E170_6353-0       54.208480   \n",
       "1      D009402    E170_6353       REAE170-E170_6353-1       51.052144   \n",
       "2      D000812    E170_6353       SYSE170-E170_6353-2       17.457904   \n",
       "3      D006665    E170_6353       ORDE170-E170_6353-3        7.373504   \n",
       "4      D001163    E170_6353       AUTE170-E170_6353-4       43.057968   \n",
       "...        ...          ...                       ...             ...   \n",
       "10525  D006322  CRJ700_2988  SYSCRJ700-CRJ700_2988-40       53.323168   \n",
       "10526  D005497  CRJ700_2988  PORCRJ700-CRJ700_2988-41       16.392552   \n",
       "10527  D005625  CRJ700_2988  HUBCRJ700-CRJ700_2988-42       34.551008   \n",
       "10528  D003657  CRJ700_2988  ECLCRJ700-CRJ700_2988-43       36.706904   \n",
       "10529  D000550  CRJ700_2988  SYSCRJ700-CRJ700_2988-44       13.740256   \n",
       "\n",
       "      measure_day  need_replacement  \n",
       "0      2024-06-04             False  \n",
       "1      2024-06-04             False  \n",
       "2      2024-06-04             False  \n",
       "3      2024-06-04             False  \n",
       "4      2024-06-04             False  \n",
       "...           ...               ...  \n",
       "10525  2024-06-02             False  \n",
       "10526  2024-06-02             False  \n",
       "10527  2024-06-02             False  \n",
       "10528  2024-06-02             False  \n",
       "10529  2024-06-02             False  \n",
       "\n",
       "[10530 rows x 6 columns]"
      ]
     },
     "execution_count": 80,
     "metadata": {},
     "output_type": "execute_result"
    }
   ],
   "source": [
    "maj_dataset_degra(jour)"
   ]
  },
  {
   "cell_type": "code",
   "execution_count": null,
   "metadata": {},
   "outputs": [],
   "source": [
    "from datetime import timedelta, datetime, date\n",
    "import time\n",
    "\n",
    "for i in xrange(0,60) :\n",
    "    auj = datetime.date.today()\n",
    "    jour = auj.strftime('%Y-%m-%d')\n",
    "    maj_dataset_log_vols(jour)\n",
    "    maj_dataset_degra(jour)\n",
    "    time.sleep(86400)\n"
   ]
  },
  {
   "cell_type": "code",
   "execution_count": 81,
   "metadata": {},
   "outputs": [
    {
     "data": {
      "text/plain": [
       "86400"
      ]
     },
     "execution_count": 81,
     "metadata": {},
     "output_type": "execute_result"
    }
   ],
   "source": [
    "#methode time.sleep avec secondes \n",
    "#combien de secondes dans 24h ? (60s = 1mn - 60mn = 1h )\n",
    "60*60*24"
   ]
  },
  {
   "cell_type": "markdown",
   "metadata": {},
   "source": [
    "voir comment automatiser la fonction en dehors de VS CODE et où stocker les datasets"
   ]
  },
  {
   "cell_type": "code",
   "execution_count": null,
   "metadata": {},
   "outputs": [],
   "source": [
    "début de réflexion sur mise à jour des dataset après dowload quotidien\n",
    "BDD Aeronefs passer les colonnes 'en maintenance' et 'fin maintenance' en False / NaN à la fin de chaque maintenance (tous les jours)\n",
    "IF end_maint == auj\n",
    "ALORS changer la valeur des colonnes \n",
    "en_maintenance == True\n",
    "end_maint == NaN"
   ]
  },
  {
   "cell_type": "markdown",
   "metadata": {},
   "source": [
    "TENTATIVE DE MERGE RAPIDE ENTRE composants et degradations"
   ]
  },
  {
   "cell_type": "code",
   "execution_count": 180,
   "metadata": {},
   "outputs": [],
   "source": [
    "merge_test = pd.merge(composants, degradations, how='right', left_on='ref_compo', right_on='compo_concerned')"
   ]
  },
  {
   "cell_type": "code",
   "execution_count": 184,
   "metadata": {},
   "outputs": [],
   "source": [
    "#merge_test = merge_test.drop(columns='linked_aero')"
   ]
  },
  {
   "cell_type": "code",
   "execution_count": 186,
   "metadata": {},
   "outputs": [],
   "source": [
    "merge_test['diff_usure'] = merge_test['taux_usure_actuel'] - merge_test['usure_nouvelle']"
   ]
  },
  {
   "cell_type": "code",
   "execution_count": 185,
   "metadata": {},
   "outputs": [
    {
     "data": {
      "text/html": [
       "<div>\n",
       "<style scoped>\n",
       "    .dataframe tbody tr th:only-of-type {\n",
       "        vertical-align: middle;\n",
       "    }\n",
       "\n",
       "    .dataframe tbody tr th {\n",
       "        vertical-align: top;\n",
       "    }\n",
       "\n",
       "    .dataframe thead th {\n",
       "        text-align: right;\n",
       "    }\n",
       "</style>\n",
       "<table border=\"1\" class=\"dataframe\">\n",
       "  <thead>\n",
       "    <tr style=\"text-align: right;\">\n",
       "      <th></th>\n",
       "      <th>ref_compo</th>\n",
       "      <th>categorie</th>\n",
       "      <th>aero</th>\n",
       "      <th>desc</th>\n",
       "      <th>lifespan</th>\n",
       "      <th>taux_usure_actuel</th>\n",
       "      <th>cout</th>\n",
       "      <th>ref_deg</th>\n",
       "      <th>usure_nouvelle</th>\n",
       "      <th>measure_day</th>\n",
       "      <th>need_replacement</th>\n",
       "    </tr>\n",
       "  </thead>\n",
       "  <tbody>\n",
       "    <tr>\n",
       "      <th>0</th>\n",
       "      <td>REAE170-E170_6353-0</td>\n",
       "      <td>Composants Critiques</td>\n",
       "      <td>E170_6353</td>\n",
       "      <td>Réacteur gauche</td>\n",
       "      <td>13045</td>\n",
       "      <td>53.308375</td>\n",
       "      <td>15552</td>\n",
       "      <td>D003661</td>\n",
       "      <td>53.308375</td>\n",
       "      <td>2024-06-01</td>\n",
       "      <td>False</td>\n",
       "    </tr>\n",
       "    <tr>\n",
       "      <th>1</th>\n",
       "      <td>REAE170-E170_6353-1</td>\n",
       "      <td>Composants Critiques</td>\n",
       "      <td>E170_6353</td>\n",
       "      <td>Réacteur droit</td>\n",
       "      <td>13626</td>\n",
       "      <td>50.111950</td>\n",
       "      <td>17559</td>\n",
       "      <td>D009402</td>\n",
       "      <td>50.111950</td>\n",
       "      <td>2024-06-01</td>\n",
       "      <td>False</td>\n",
       "    </tr>\n",
       "    <tr>\n",
       "      <th>2</th>\n",
       "      <td>SYSE170-E170_6353-2</td>\n",
       "      <td>Composants Critiques</td>\n",
       "      <td>E170_6353</td>\n",
       "      <td>Système de navigation</td>\n",
       "      <td>10541</td>\n",
       "      <td>16.730575</td>\n",
       "      <td>16514</td>\n",
       "      <td>D000812</td>\n",
       "      <td>16.730575</td>\n",
       "      <td>2024-06-01</td>\n",
       "      <td>False</td>\n",
       "    </tr>\n",
       "    <tr>\n",
       "      <th>3</th>\n",
       "      <td>ORDE170-E170_6353-3</td>\n",
       "      <td>Composants Critiques</td>\n",
       "      <td>E170_6353</td>\n",
       "      <td>Ordinateur de vol</td>\n",
       "      <td>10441</td>\n",
       "      <td>6.653075</td>\n",
       "      <td>16047</td>\n",
       "      <td>D006665</td>\n",
       "      <td>6.653075</td>\n",
       "      <td>2024-06-01</td>\n",
       "      <td>False</td>\n",
       "    </tr>\n",
       "    <tr>\n",
       "      <th>4</th>\n",
       "      <td>AUTE170-E170_6353-4</td>\n",
       "      <td>Composants Critiques</td>\n",
       "      <td>E170_6353</td>\n",
       "      <td>Autopilote</td>\n",
       "      <td>14847</td>\n",
       "      <td>42.033525</td>\n",
       "      <td>19362</td>\n",
       "      <td>D001163</td>\n",
       "      <td>42.033525</td>\n",
       "      <td>2024-06-01</td>\n",
       "      <td>False</td>\n",
       "    </tr>\n",
       "    <tr>\n",
       "      <th>...</th>\n",
       "      <td>...</td>\n",
       "      <td>...</td>\n",
       "      <td>...</td>\n",
       "      <td>...</td>\n",
       "      <td>...</td>\n",
       "      <td>...</td>\n",
       "      <td>...</td>\n",
       "      <td>...</td>\n",
       "      <td>...</td>\n",
       "      <td>...</td>\n",
       "      <td>...</td>\n",
       "    </tr>\n",
       "    <tr>\n",
       "      <th>10705</th>\n",
       "      <td>SYSCRJ700-CRJ700_2988-40</td>\n",
       "      <td>Composants Secondaires</td>\n",
       "      <td>CRJ700_2988</td>\n",
       "      <td>Systèmes d'oxygène d'urgence</td>\n",
       "      <td>13038</td>\n",
       "      <td>53.323168</td>\n",
       "      <td>4745</td>\n",
       "      <td>D006322</td>\n",
       "      <td>53.323168</td>\n",
       "      <td>2024-06-02</td>\n",
       "      <td>False</td>\n",
       "    </tr>\n",
       "    <tr>\n",
       "      <th>10706</th>\n",
       "      <td>PORCRJ700-CRJ700_2988-41</td>\n",
       "      <td>Composants Secondaires</td>\n",
       "      <td>CRJ700_2988</td>\n",
       "      <td>Portes passagers</td>\n",
       "      <td>13107</td>\n",
       "      <td>16.392552</td>\n",
       "      <td>3053</td>\n",
       "      <td>D005497</td>\n",
       "      <td>16.392552</td>\n",
       "      <td>2024-06-02</td>\n",
       "      <td>False</td>\n",
       "    </tr>\n",
       "    <tr>\n",
       "      <th>10707</th>\n",
       "      <td>HUBCRJ700-CRJ700_2988-42</td>\n",
       "      <td>Composants Secondaires</td>\n",
       "      <td>CRJ700_2988</td>\n",
       "      <td>Hublots</td>\n",
       "      <td>68978</td>\n",
       "      <td>34.551008</td>\n",
       "      <td>3593</td>\n",
       "      <td>D005625</td>\n",
       "      <td>34.551008</td>\n",
       "      <td>2024-06-02</td>\n",
       "      <td>False</td>\n",
       "    </tr>\n",
       "    <tr>\n",
       "      <th>10708</th>\n",
       "      <td>ECLCRJ700-CRJ700_2988-43</td>\n",
       "      <td>Composants Secondaires</td>\n",
       "      <td>CRJ700_2988</td>\n",
       "      <td>Éclairage de la cabine</td>\n",
       "      <td>10639</td>\n",
       "      <td>36.706904</td>\n",
       "      <td>4965</td>\n",
       "      <td>D003657</td>\n",
       "      <td>36.706904</td>\n",
       "      <td>2024-06-02</td>\n",
       "      <td>False</td>\n",
       "    </tr>\n",
       "    <tr>\n",
       "      <th>10709</th>\n",
       "      <td>SYSCRJ700-CRJ700_2988-44</td>\n",
       "      <td>Composants Secondaires</td>\n",
       "      <td>CRJ700_2988</td>\n",
       "      <td>Système d'approvisionnement en eau</td>\n",
       "      <td>12796</td>\n",
       "      <td>13.740256</td>\n",
       "      <td>4701</td>\n",
       "      <td>D000550</td>\n",
       "      <td>13.740256</td>\n",
       "      <td>2024-06-02</td>\n",
       "      <td>False</td>\n",
       "    </tr>\n",
       "  </tbody>\n",
       "</table>\n",
       "<p>10710 rows × 11 columns</p>\n",
       "</div>"
      ],
      "text/plain": [
       "                      ref_compo               categorie         aero  \\\n",
       "0           REAE170-E170_6353-0    Composants Critiques    E170_6353   \n",
       "1           REAE170-E170_6353-1    Composants Critiques    E170_6353   \n",
       "2           SYSE170-E170_6353-2    Composants Critiques    E170_6353   \n",
       "3           ORDE170-E170_6353-3    Composants Critiques    E170_6353   \n",
       "4           AUTE170-E170_6353-4    Composants Critiques    E170_6353   \n",
       "...                         ...                     ...          ...   \n",
       "10705  SYSCRJ700-CRJ700_2988-40  Composants Secondaires  CRJ700_2988   \n",
       "10706  PORCRJ700-CRJ700_2988-41  Composants Secondaires  CRJ700_2988   \n",
       "10707  HUBCRJ700-CRJ700_2988-42  Composants Secondaires  CRJ700_2988   \n",
       "10708  ECLCRJ700-CRJ700_2988-43  Composants Secondaires  CRJ700_2988   \n",
       "10709  SYSCRJ700-CRJ700_2988-44  Composants Secondaires  CRJ700_2988   \n",
       "\n",
       "                                     desc  lifespan  taux_usure_actuel   cout  \\\n",
       "0                         Réacteur gauche     13045          53.308375  15552   \n",
       "1                          Réacteur droit     13626          50.111950  17559   \n",
       "2                   Système de navigation     10541          16.730575  16514   \n",
       "3                       Ordinateur de vol     10441           6.653075  16047   \n",
       "4                              Autopilote     14847          42.033525  19362   \n",
       "...                                   ...       ...                ...    ...   \n",
       "10705        Systèmes d'oxygène d'urgence     13038          53.323168   4745   \n",
       "10706                    Portes passagers     13107          16.392552   3053   \n",
       "10707                             Hublots     68978          34.551008   3593   \n",
       "10708              Éclairage de la cabine     10639          36.706904   4965   \n",
       "10709  Système d'approvisionnement en eau     12796          13.740256   4701   \n",
       "\n",
       "       ref_deg  usure_nouvelle measure_day  need_replacement  \n",
       "0      D003661       53.308375  2024-06-01             False  \n",
       "1      D009402       50.111950  2024-06-01             False  \n",
       "2      D000812       16.730575  2024-06-01             False  \n",
       "3      D006665        6.653075  2024-06-01             False  \n",
       "4      D001163       42.033525  2024-06-01             False  \n",
       "...        ...             ...         ...               ...  \n",
       "10705  D006322       53.323168  2024-06-02             False  \n",
       "10706  D005497       16.392552  2024-06-02             False  \n",
       "10707  D005625       34.551008  2024-06-02             False  \n",
       "10708  D003657       36.706904  2024-06-02             False  \n",
       "10709  D000550       13.740256  2024-06-02             False  \n",
       "\n",
       "[10710 rows x 11 columns]"
      ]
     },
     "execution_count": 185,
     "metadata": {},
     "output_type": "execute_result"
    }
   ],
   "source": [
    "merge_test"
   ]
  },
  {
   "cell_type": "code",
   "execution_count": 189,
   "metadata": {},
   "outputs": [
    {
     "data": {
      "text/plain": [
       "(10440, 7)"
      ]
     },
     "execution_count": 189,
     "metadata": {},
     "output_type": "execute_result"
    }
   ],
   "source": [
    "composants.shape"
   ]
  },
  {
   "cell_type": "code",
   "execution_count": 190,
   "metadata": {},
   "outputs": [
    {
     "data": {
      "text/plain": [
       "10395"
      ]
     },
     "execution_count": 190,
     "metadata": {},
     "output_type": "execute_result"
    }
   ],
   "source": [
    "composants['ref_compo'].nunique()"
   ]
  },
  {
   "cell_type": "code",
   "execution_count": 203,
   "metadata": {},
   "outputs": [],
   "source": [
    "composants['dbl'] = composants.duplicated(subset=['ref_compo'])"
   ]
  },
  {
   "cell_type": "code",
   "execution_count": 221,
   "metadata": {},
   "outputs": [],
   "source": [
    "#composants = composants.drop(columns='dbl')"
   ]
  },
  {
   "cell_type": "code",
   "execution_count": 198,
   "metadata": {},
   "outputs": [
    {
     "data": {
      "text/plain": [
       "False    10395\n",
       "True        45\n",
       "Name: count, dtype: int64"
      ]
     },
     "execution_count": 198,
     "metadata": {},
     "output_type": "execute_result"
    }
   ],
   "source": [
    "composants.duplicated(subset=['ref_compo']).value_counts()"
   ]
  },
  {
   "cell_type": "code",
   "execution_count": 188,
   "metadata": {},
   "outputs": [
    {
     "data": {
      "text/html": [
       "<div>\n",
       "<style scoped>\n",
       "    .dataframe tbody tr th:only-of-type {\n",
       "        vertical-align: middle;\n",
       "    }\n",
       "\n",
       "    .dataframe tbody tr th {\n",
       "        vertical-align: top;\n",
       "    }\n",
       "\n",
       "    .dataframe thead th {\n",
       "        text-align: right;\n",
       "    }\n",
       "</style>\n",
       "<table border=\"1\" class=\"dataframe\">\n",
       "  <thead>\n",
       "    <tr style=\"text-align: right;\">\n",
       "      <th></th>\n",
       "      <th>ref_compo</th>\n",
       "      <th>categorie</th>\n",
       "      <th>aero</th>\n",
       "      <th>desc</th>\n",
       "      <th>lifespan</th>\n",
       "      <th>taux_usure_actuel</th>\n",
       "      <th>cout</th>\n",
       "      <th>ref_deg</th>\n",
       "      <th>usure_nouvelle</th>\n",
       "      <th>measure_day</th>\n",
       "      <th>need_replacement</th>\n",
       "      <th>diff_usure</th>\n",
       "    </tr>\n",
       "  </thead>\n",
       "  <tbody>\n",
       "    <tr>\n",
       "      <th>10568</th>\n",
       "      <td>PORE170-E170_5551-41</td>\n",
       "      <td>Composants Secondaires</td>\n",
       "      <td>E170_5551</td>\n",
       "      <td>Portes passagers</td>\n",
       "      <td>13107</td>\n",
       "      <td>56.20</td>\n",
       "      <td>3053</td>\n",
       "      <td>D000346</td>\n",
       "      <td>9.300000</td>\n",
       "      <td>2023-08-23 00:00:00</td>\n",
       "      <td>False</td>\n",
       "      <td>46.900000</td>\n",
       "    </tr>\n",
       "    <tr>\n",
       "      <th>10658</th>\n",
       "      <td>PORE170-E170_5551-41</td>\n",
       "      <td>Composants Secondaires</td>\n",
       "      <td>E170_5551</td>\n",
       "      <td>Portes passagers</td>\n",
       "      <td>13107</td>\n",
       "      <td>56.20</td>\n",
       "      <td>3053</td>\n",
       "      <td>D006878</td>\n",
       "      <td>9.300000</td>\n",
       "      <td>2023-08-23 00:00:00</td>\n",
       "      <td>False</td>\n",
       "      <td>46.900000</td>\n",
       "    </tr>\n",
       "    <tr>\n",
       "      <th>1973</th>\n",
       "      <td>PORE170-E170_5551-41</td>\n",
       "      <td>Composants Secondaires</td>\n",
       "      <td>E170_5551</td>\n",
       "      <td>Portes passagers</td>\n",
       "      <td>13107</td>\n",
       "      <td>56.20</td>\n",
       "      <td>3053</td>\n",
       "      <td>D003449</td>\n",
       "      <td>9.300000</td>\n",
       "      <td>2023-08-23 00:00:00</td>\n",
       "      <td>False</td>\n",
       "      <td>46.900000</td>\n",
       "    </tr>\n",
       "    <tr>\n",
       "      <th>1909</th>\n",
       "      <td>SYSE170-E170_5551-9</td>\n",
       "      <td>Composants Critiques</td>\n",
       "      <td>E170_5551</td>\n",
       "      <td>Système d'alerte de proximité au sol (GPWS)</td>\n",
       "      <td>10423</td>\n",
       "      <td>46.62</td>\n",
       "      <td>18680</td>\n",
       "      <td>D004625</td>\n",
       "      <td>0.120000</td>\n",
       "      <td>2023-08-23 00:00:00</td>\n",
       "      <td>False</td>\n",
       "      <td>46.500000</td>\n",
       "    </tr>\n",
       "    <tr>\n",
       "      <th>10504</th>\n",
       "      <td>SYSE170-E170_5551-9</td>\n",
       "      <td>Composants Critiques</td>\n",
       "      <td>E170_5551</td>\n",
       "      <td>Système d'alerte de proximité au sol (GPWS)</td>\n",
       "      <td>10423</td>\n",
       "      <td>46.62</td>\n",
       "      <td>18680</td>\n",
       "      <td>D003005</td>\n",
       "      <td>0.120000</td>\n",
       "      <td>2023-08-23 00:00:00</td>\n",
       "      <td>False</td>\n",
       "      <td>46.500000</td>\n",
       "    </tr>\n",
       "    <tr>\n",
       "      <th>...</th>\n",
       "      <td>...</td>\n",
       "      <td>...</td>\n",
       "      <td>...</td>\n",
       "      <td>...</td>\n",
       "      <td>...</td>\n",
       "      <td>...</td>\n",
       "      <td>...</td>\n",
       "      <td>...</td>\n",
       "      <td>...</td>\n",
       "      <td>...</td>\n",
       "      <td>...</td>\n",
       "      <td>...</td>\n",
       "    </tr>\n",
       "    <tr>\n",
       "      <th>1863</th>\n",
       "      <td>SIEE170-E170_5551-31</td>\n",
       "      <td>Composants Secondaires</td>\n",
       "      <td>E170_5551</td>\n",
       "      <td>Siège pilote</td>\n",
       "      <td>12106</td>\n",
       "      <td>9.44</td>\n",
       "      <td>2151</td>\n",
       "      <td>D005017</td>\n",
       "      <td>50.763236</td>\n",
       "      <td>2024-06-01</td>\n",
       "      <td>False</td>\n",
       "      <td>-41.323236</td>\n",
       "    </tr>\n",
       "    <tr>\n",
       "      <th>10558</th>\n",
       "      <td>SYSE170-E170_5551-36</td>\n",
       "      <td>Composants Majeurs</td>\n",
       "      <td>E170_5551</td>\n",
       "      <td>Système de conditionnement d'air</td>\n",
       "      <td>10343</td>\n",
       "      <td>6.45</td>\n",
       "      <td>13453</td>\n",
       "      <td>D008043</td>\n",
       "      <td>56.630000</td>\n",
       "      <td>2023-08-23 00:00:00</td>\n",
       "      <td>False</td>\n",
       "      <td>-50.180000</td>\n",
       "    </tr>\n",
       "    <tr>\n",
       "      <th>1963</th>\n",
       "      <td>SYSE170-E170_5551-36</td>\n",
       "      <td>Composants Majeurs</td>\n",
       "      <td>E170_5551</td>\n",
       "      <td>Système de conditionnement d'air</td>\n",
       "      <td>10343</td>\n",
       "      <td>6.45</td>\n",
       "      <td>13453</td>\n",
       "      <td>D000419</td>\n",
       "      <td>56.630000</td>\n",
       "      <td>2023-08-23 00:00:00</td>\n",
       "      <td>False</td>\n",
       "      <td>-50.180000</td>\n",
       "    </tr>\n",
       "    <tr>\n",
       "      <th>10648</th>\n",
       "      <td>SYSE170-E170_5551-36</td>\n",
       "      <td>Composants Majeurs</td>\n",
       "      <td>E170_5551</td>\n",
       "      <td>Système de conditionnement d'air</td>\n",
       "      <td>10343</td>\n",
       "      <td>6.45</td>\n",
       "      <td>13453</td>\n",
       "      <td>D006241</td>\n",
       "      <td>56.630000</td>\n",
       "      <td>2023-08-23 00:00:00</td>\n",
       "      <td>False</td>\n",
       "      <td>-50.180000</td>\n",
       "    </tr>\n",
       "    <tr>\n",
       "      <th>1873</th>\n",
       "      <td>SYSE170-E170_5551-36</td>\n",
       "      <td>Composants Majeurs</td>\n",
       "      <td>E170_5551</td>\n",
       "      <td>Système de conditionnement d'air</td>\n",
       "      <td>10343</td>\n",
       "      <td>6.45</td>\n",
       "      <td>13453</td>\n",
       "      <td>D006889</td>\n",
       "      <td>57.726358</td>\n",
       "      <td>2024-06-01</td>\n",
       "      <td>False</td>\n",
       "      <td>-51.276358</td>\n",
       "    </tr>\n",
       "  </tbody>\n",
       "</table>\n",
       "<p>10710 rows × 12 columns</p>\n",
       "</div>"
      ],
      "text/plain": [
       "                  ref_compo               categorie       aero  \\\n",
       "10568  PORE170-E170_5551-41  Composants Secondaires  E170_5551   \n",
       "10658  PORE170-E170_5551-41  Composants Secondaires  E170_5551   \n",
       "1973   PORE170-E170_5551-41  Composants Secondaires  E170_5551   \n",
       "1909    SYSE170-E170_5551-9    Composants Critiques  E170_5551   \n",
       "10504   SYSE170-E170_5551-9    Composants Critiques  E170_5551   \n",
       "...                     ...                     ...        ...   \n",
       "1863   SIEE170-E170_5551-31  Composants Secondaires  E170_5551   \n",
       "10558  SYSE170-E170_5551-36      Composants Majeurs  E170_5551   \n",
       "1963   SYSE170-E170_5551-36      Composants Majeurs  E170_5551   \n",
       "10648  SYSE170-E170_5551-36      Composants Majeurs  E170_5551   \n",
       "1873   SYSE170-E170_5551-36      Composants Majeurs  E170_5551   \n",
       "\n",
       "                                              desc  lifespan  \\\n",
       "10568                             Portes passagers     13107   \n",
       "10658                             Portes passagers     13107   \n",
       "1973                              Portes passagers     13107   \n",
       "1909   Système d'alerte de proximité au sol (GPWS)     10423   \n",
       "10504  Système d'alerte de proximité au sol (GPWS)     10423   \n",
       "...                                            ...       ...   \n",
       "1863                                  Siège pilote     12106   \n",
       "10558             Système de conditionnement d'air     10343   \n",
       "1963              Système de conditionnement d'air     10343   \n",
       "10648             Système de conditionnement d'air     10343   \n",
       "1873              Système de conditionnement d'air     10343   \n",
       "\n",
       "       taux_usure_actuel   cout  ref_deg  usure_nouvelle          measure_day  \\\n",
       "10568              56.20   3053  D000346        9.300000  2023-08-23 00:00:00   \n",
       "10658              56.20   3053  D006878        9.300000  2023-08-23 00:00:00   \n",
       "1973               56.20   3053  D003449        9.300000  2023-08-23 00:00:00   \n",
       "1909               46.62  18680  D004625        0.120000  2023-08-23 00:00:00   \n",
       "10504              46.62  18680  D003005        0.120000  2023-08-23 00:00:00   \n",
       "...                  ...    ...      ...             ...                  ...   \n",
       "1863                9.44   2151  D005017       50.763236           2024-06-01   \n",
       "10558               6.45  13453  D008043       56.630000  2023-08-23 00:00:00   \n",
       "1963                6.45  13453  D000419       56.630000  2023-08-23 00:00:00   \n",
       "10648               6.45  13453  D006241       56.630000  2023-08-23 00:00:00   \n",
       "1873                6.45  13453  D006889       57.726358           2024-06-01   \n",
       "\n",
       "       need_replacement  diff_usure  \n",
       "10568             False   46.900000  \n",
       "10658             False   46.900000  \n",
       "1973              False   46.900000  \n",
       "1909              False   46.500000  \n",
       "10504             False   46.500000  \n",
       "...                 ...         ...  \n",
       "1863              False  -41.323236  \n",
       "10558             False  -50.180000  \n",
       "1963              False  -50.180000  \n",
       "10648             False  -50.180000  \n",
       "1873              False  -51.276358  \n",
       "\n",
       "[10710 rows x 12 columns]"
      ]
     },
     "execution_count": 188,
     "metadata": {},
     "output_type": "execute_result"
    }
   ],
   "source": [
    "merge_test.sort_values('diff_usure', ascending=False)"
   ]
  },
  {
   "cell_type": "markdown",
   "metadata": {},
   "source": [
    "A VOIR AVEC JO : pourquoi le cout d'un composant identique à un autre composant ET sur le même avion (ex réacteur droit et gauche) n'a pas le même cout NI le même lifespan.\n",
    "Selon nous cout = prix pour remplacement à neuf de la pièce \n",
    "donc différent de valeur nette comptable (tient compte de l'amortissement et de la degradation)"
   ]
  },
  {
   "cell_type": "code",
   "execution_count": 227,
   "metadata": {},
   "outputs": [
    {
     "data": {
      "text/plain": [
       "0"
      ]
     },
     "execution_count": 227,
     "metadata": {},
     "output_type": "execute_result"
    }
   ],
   "source": [
    "composants.duplicated().sum()"
   ]
  },
  {
   "cell_type": "code",
   "execution_count": 229,
   "metadata": {},
   "outputs": [
    {
     "data": {
      "text/plain": [
       "False    10395\n",
       "True        45\n",
       "Name: count, dtype: int64"
      ]
     },
     "execution_count": 229,
     "metadata": {},
     "output_type": "execute_result"
    }
   ],
   "source": [
    "composants.duplicated(subset=['ref_compo','categorie','aero','desc','lifespan','cout']).value_counts()"
   ]
  },
  {
   "cell_type": "code",
   "execution_count": 235,
   "metadata": {},
   "outputs": [
    {
     "data": {
      "text/html": [
       "<div>\n",
       "<style scoped>\n",
       "    .dataframe tbody tr th:only-of-type {\n",
       "        vertical-align: middle;\n",
       "    }\n",
       "\n",
       "    .dataframe tbody tr th {\n",
       "        vertical-align: top;\n",
       "    }\n",
       "\n",
       "    .dataframe thead th {\n",
       "        text-align: right;\n",
       "    }\n",
       "</style>\n",
       "<table border=\"1\" class=\"dataframe\">\n",
       "  <thead>\n",
       "    <tr style=\"text-align: right;\">\n",
       "      <th></th>\n",
       "      <th>ref_compo</th>\n",
       "      <th>categorie</th>\n",
       "      <th>aero</th>\n",
       "      <th>desc</th>\n",
       "      <th>lifespan</th>\n",
       "      <th>taux_usure_actuel</th>\n",
       "      <th>cout</th>\n",
       "    </tr>\n",
       "  </thead>\n",
       "  <tbody>\n",
       "  </tbody>\n",
       "</table>\n",
       "</div>"
      ],
      "text/plain": [
       "Empty DataFrame\n",
       "Columns: [ref_compo, categorie, aero, desc, lifespan, taux_usure_actuel, cout]\n",
       "Index: []"
      ]
     },
     "execution_count": 235,
     "metadata": {},
     "output_type": "execute_result"
    }
   ],
   "source": [
    "composants[composants.duplicated(subset=['ref_compo','categorie','aero','desc','lifespan','taux_usure_actuel'], keep='first')]"
   ]
  }
 ],
 "metadata": {
  "kernelspec": {
   "display_name": "base",
   "language": "python",
   "name": "python3"
  },
  "language_info": {
   "codemirror_mode": {
    "name": "ipython",
    "version": 3
   },
   "file_extension": ".py",
   "mimetype": "text/x-python",
   "name": "python",
   "nbconvert_exporter": "python",
   "pygments_lexer": "ipython3",
   "version": "3.11.5"
  }
 },
 "nbformat": 4,
 "nbformat_minor": 2
}
