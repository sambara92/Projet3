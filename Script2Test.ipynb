{
 "cells": [
  {
   "cell_type": "code",
   "execution_count": 4,
   "metadata": {},
   "outputs": [
    {
     "name": "stdout",
     "output_type": "stream",
     "text": [
      "Téléchargement de data/sauvegarde_log/logs_vols_2024-06-11.csv\n",
      "Téléchargement de data/sauvegarde_degra/degradations_2024-06-11.csv\n",
      "Téléchargement terminé\n",
      "Nb fichier log_vol: 1\n",
      "Nb fichier degradation: 1\n"
     ]
    }
   ],
   "source": [
    "import os\n",
    "from os import listdir\n",
    "from os.path import isfile, join\n",
    "from datetime import datetime, timedelta\n",
    "import requests\n",
    "import pandas as pd\n",
    "\n",
    "# Création des dossiers pour stocker les fichiers téléchargés\n",
    "os.makedirs(\"data/sauvegarde_log\", exist_ok=True)\n",
    "os.makedirs(\"data/sauvegarde_degra\", exist_ok=True)\n",
    "\n",
    "# Fonction pour obtenir la date du jour\n",
    "def get_today():\n",
    "    today = datetime.today()\n",
    "    return today.strftime(\"%Y-%m-%d\")\n",
    "\n",
    "# Récupérer année/mois/jour actuel\n",
    "current_year = datetime.now().year\n",
    "current_month = datetime.now().month\n",
    "current_day = datetime.now().day\n",
    "\n",
    "# Utiliser la fonction today\n",
    "today = get_today()\n",
    "\n",
    "# Construction de l'url de téléchargement en fonction du mois et du jour\n",
    "for year in range(current_year, current_year + 1):\n",
    "    for month in range(current_month, current_month + 1):\n",
    "        for day in range(current_day, current_day + 1):\n",
    "            if year == current_year and month == current_month and day > current_day:  # Ignorer les fichiers supérieurs à la date d'aujourd'hui\n",
    "                continue\n",
    "            if f\"{year}-{month:02d}-{day:02d}\" < today:  # Ignorer les fichiers déjà téléchargés\n",
    "                continue\n",
    "\n",
    "            url_log_vol = f\"http://sc-e.fr/docs/logs_vols_{year}-{month:02d}-{day:02d}.csv\"\n",
    "            file_log = f\"data/sauvegarde_log/logs_vols_{year}-{month:02d}-{day:02d}.csv\"\n",
    "\n",
    "            url_degrad = f\"http://sc-e.fr/docs/degradations_{year}-{month:02d}-{day:02d}.csv\"\n",
    "            file_degrad = f\"data/sauvegarde_degra/degradations_{year}-{month:02d}-{day:02d}.csv\"\n",
    "\n",
    "            # Télécharger le fichier\n",
    "            print(f\"Téléchargement de {file_log}\")\n",
    "            response_log = requests.get(url_log_vol)\n",
    "            print(f\"Téléchargement de {file_degrad}\")\n",
    "            response_degrad = requests.get(url_degrad)\n",
    "\n",
    "            # Si réponse 200, on réalise le téléchargement\n",
    "            if response_log.status_code == 200:\n",
    "                with open(file_log, \"wb\") as file_log_vol:\n",
    "                    file_log_vol.write(response_log.content)\n",
    "            else:\n",
    "                print(f\"Téléchargement impossible de {file_log}. Code statut {response_log.status_code}\")\n",
    "\n",
    "            if response_degrad.status_code == 200:\n",
    "                with open(file_degrad, \"wb\") as file_degradation:\n",
    "                    file_degradation.write(response_degrad.content)\n",
    "            else:\n",
    "                print(f\"Téléchargement impossible de {file_degrad}. Code statut {response_degrad.status_code}\")\n",
    "\n",
    "print(\"Téléchargement terminé\")\n",
    "\n",
    "# Vérifier le nombre de fichiers téléchargés dans sauvegarde_log\n",
    "log_path = \"data/sauvegarde_log\"\n",
    "listfile_log = [file for file in listdir(log_path) if isfile(join(log_path, file))]\n",
    "print(f\"Nb fichier log_vol: {len(listfile_log)}\")\n",
    "\n",
    "degra_path = \"data/sauvegarde_degra\"\n",
    "listfile_degra = [file for file in listdir(degra_path) if isfile(join(degra_path, file))]\n",
    "print(f\"Nb fichier degradation: {len(listfile_degra)}\")\n",
    "\n"
   ]
  },
  {
   "cell_type": "code",
   "execution_count": 12,
   "metadata": {},
   "outputs": [
    {
     "name": "stdout",
     "output_type": "stream",
     "text": [
      "     ref_vol aero_linked    jour_vol  time_en_air  \\\n",
      "0  V06683852   B737_0940  2024-06-05          0.6   \n",
      "1  V03551025   E175_6879  2024-06-05          5.2   \n",
      "2  V04512442   A320_2562  2024-06-05          7.9   \n",
      "3  V06831692   A320_1884  2024-06-05          7.4   \n",
      "4  V05264659   A321_3033  2024-06-05          3.6   \n",
      "\n",
      "                                         sensor_data  etat_voyant  \n",
      "0  {'temp': '17.8°C', 'pressure': '904.2 hPa', 'v...            0  \n",
      "1  {'temp': '-1.3°C', 'pressure': '1029.6 hPa', '...            0  \n",
      "2  {'temp': '16.4°C', 'pressure': '1071.7 hPa', '...            0  \n",
      "3  {'temp': '-24.3°C', 'pressure': '905.9 hPa', '...            1  \n",
      "4  {'temp': '5.3°C', 'pressure': '1053.8 hPa', 'v...            0  \n",
      "   ref_deg linked_aero      compo_concerned  usure_nouvelle measure_day  \\\n",
      "0  D003661   E170_6353  REAE170-E170_6353-0       54.208480  2024-06-04   \n",
      "1  D009402   E170_6353  REAE170-E170_6353-1       51.052144  2024-06-04   \n",
      "2  D000812   E170_6353  SYSE170-E170_6353-2       17.457904  2024-06-04   \n",
      "3  D006665   E170_6353  ORDE170-E170_6353-3        7.373504  2024-06-04   \n",
      "4  D001163   E170_6353  AUTE170-E170_6353-4       43.057968  2024-06-04   \n",
      "\n",
      "   need_replacement  \n",
      "0             False  \n",
      "1             False  \n",
      "2             False  \n",
      "3             False  \n",
      "4             False  \n"
     ]
    }
   ],
   "source": [
    "# Vérifier l'ouverture d'un fichier log_vol\n",
    "link_log = r'C:\\Users\\truel\\Documents\\Projet3\\data\\sauvegarde_log\\logs_vols_2024-06-05.csv'\n",
    "df_log = pd.read_csv(link_log)\n",
    "print(df_log.head())\n",
    "\n",
    "# Vérifier l'ouverture d'un fichier degradation\n",
    "link_degra = r'C:\\Users\\truel\\Documents\\Projet3\\data\\sauevegarde_degra\\degradations_2024-06-05.csv'\n",
    "df_degra = pd.read_csv(link_degra)\n",
    "print(df_degra.head())"
   ]
  }
 ],
 "metadata": {
  "kernelspec": {
   "display_name": "Python 3 (ipykernel)",
   "language": "python",
   "name": "python3"
  },
  "language_info": {
   "codemirror_mode": {
    "name": "ipython",
    "version": 3
   },
   "file_extension": ".py",
   "mimetype": "text/x-python",
   "name": "python",
   "nbconvert_exporter": "python",
   "pygments_lexer": "ipython3",
   "version": "3.11.5"
  }
 },
 "nbformat": 4,
 "nbformat_minor": 2
}
