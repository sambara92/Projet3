{
 "cells": [
  {
   "cell_type": "code",
   "execution_count": 3,
   "metadata": {},
   "outputs": [],
   "source": [
    "import glob\n",
    "import pandas as pd\n",
    "import numpy as np"
   ]
  },
  {
   "cell_type": "code",
   "execution_count": 19,
   "metadata": {},
   "outputs": [
    {
     "name": "stdout",
     "output_type": "stream",
     "text": [
      "94770\n",
      "94770\n"
     ]
    }
   ],
   "source": [
    "# Script pour concaténer tous les fichiers présents \n",
    "path_degra = '/Users/nadiaaitmada/Desktop/Wild/projet3/sauvegarde_degra/*.csv'\n",
    "path_log = '/Users/nadiaaitmada/Desktop/Wild/projet3/sauvegarde_log/*.csv'\n",
    "\n",
    "list_degra = []\n",
    "list_log =[]\n",
    "\n",
    "for file_degra in glob.glob(path_degra):\n",
    "    df_concat_degra = pd.read_csv(file_degra)\n",
    "    list_degra.append(df_concat_degra)\n",
    "\n",
    "for file_log in glob.glob(path_log):\n",
    "    df_concat_log = pd.read_csv(file_log)\n",
    "    list_log.append(df_concat_log)\n",
    "\n",
    "df_concat_degra = pd.concat(list_degra,axis=0)\n",
    "df_concat_log = pd.concat(list_log,axis=0)\n",
    "\n",
    "print(len(df_concat_degra))\n",
    "print(len(df_concat_log))"
   ]
  },
  {
   "cell_type": "code",
   "execution_count": 13,
   "metadata": {},
   "outputs": [],
   "source": [
    "# Export du fichier \n",
    "df_concat_degra.to_csv('/Users/nadiaaitmada/Desktop/Wild/projet3/concat_degra.csv', index=True)\n",
    "df_concat_log.to_csv('/Users/nadiaaitmada/Desktop/Wild/projet3/concat_log.csv', index=True)"
   ]
  },
  {
   "cell_type": "code",
   "execution_count": 24,
   "metadata": {},
   "outputs": [],
   "source": [
    "link_degra = '/Users/nadiaaitmada/Desktop/Wild/projet3/concat_degra.csv'\n",
    "df_degra = pd.read_csv(link_degra)"
   ]
  },
  {
   "cell_type": "code",
   "execution_count": 20,
   "metadata": {},
   "outputs": [
    {
     "data": {
      "text/plain": [
       "10530"
      ]
     },
     "execution_count": 20,
     "metadata": {},
     "output_type": "execute_result"
    }
   ],
   "source": [
    "link = '/Users/nadiaaitmada/Desktop/Wild/projet3/sauvegarde_degra/degradations_2024-06-03.csv'\n",
    "df = pd.read_csv(link_degra)\n",
    "len(df)"
   ]
  },
  {
   "cell_type": "code",
   "execution_count": 23,
   "metadata": {},
   "outputs": [
    {
     "data": {
      "text/plain": [
       "10530"
      ]
     },
     "execution_count": 23,
     "metadata": {},
     "output_type": "execute_result"
    }
   ],
   "source": [
    "link = '/Users/nadiaaitmada/Desktop/Wild/projet3/sauvegarde_log/logs_vols_2024-06-11.csv'\n",
    "df = pd.read_csv(link_degra)\n",
    "len(df)"
   ]
  }
 ],
 "metadata": {
  "kernelspec": {
   "display_name": "base",
   "language": "python",
   "name": "python3"
  },
  "language_info": {
   "codemirror_mode": {
    "name": "ipython",
    "version": 3
   },
   "file_extension": ".py",
   "mimetype": "text/x-python",
   "name": "python",
   "nbconvert_exporter": "python",
   "pygments_lexer": "ipython3",
   "version": "3.9.6"
  }
 },
 "nbformat": 4,
 "nbformat_minor": 2
}
