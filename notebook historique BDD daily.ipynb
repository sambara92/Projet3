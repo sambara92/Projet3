{
 "cells": [
  {
   "cell_type": "code",
   "execution_count": 1,
   "metadata": {},
   "outputs": [],
   "source": [
    "import pandas as pd"
   ]
  },
  {
   "cell_type": "code",
   "execution_count": 2,
   "metadata": {},
   "outputs": [],
   "source": [
    "degra_06_02 = pd.read_csv(r\"C:\\Users\\MAITE\\Wild Code School\\SkyAnalytics\\BDD\\degradations_2024-06-02.csv\")\n",
    "degra_06_03 = pd.read_csv(r\"C:\\Users\\MAITE\\Wild Code School\\SkyAnalytics\\BDD\\degradations_2024-06-03.csv\")\n",
    "degra_06_04 = pd.read_csv(r\"C:\\Users\\MAITE\\Wild Code School\\SkyAnalytics\\BDD\\degradations_2024-06-04.csv\")\n",
    "degra_06_05 = pd.read_csv(r\"C:\\Users\\MAITE\\Wild Code School\\SkyAnalytics\\BDD\\degradations_2024-06-05.csv\")"
   ]
  },
  {
   "cell_type": "code",
   "execution_count": 4,
   "metadata": {},
   "outputs": [
    {
     "data": {
      "text/html": [
       "<div>\n",
       "<style scoped>\n",
       "    .dataframe tbody tr th:only-of-type {\n",
       "        vertical-align: middle;\n",
       "    }\n",
       "\n",
       "    .dataframe tbody tr th {\n",
       "        vertical-align: top;\n",
       "    }\n",
       "\n",
       "    .dataframe thead th {\n",
       "        text-align: right;\n",
       "    }\n",
       "</style>\n",
       "<table border=\"1\" class=\"dataframe\">\n",
       "  <thead>\n",
       "    <tr style=\"text-align: right;\">\n",
       "      <th></th>\n",
       "      <th>ref_deg</th>\n",
       "      <th>linked_aero</th>\n",
       "      <th>compo_concerned</th>\n",
       "      <th>usure_nouvelle</th>\n",
       "      <th>measure_day</th>\n",
       "      <th>need_replacement</th>\n",
       "    </tr>\n",
       "  </thead>\n",
       "  <tbody>\n",
       "    <tr>\n",
       "      <th>0</th>\n",
       "      <td>D003661</td>\n",
       "      <td>E170_6353</td>\n",
       "      <td>REAE170-E170_6353-0</td>\n",
       "      <td>53.308375</td>\n",
       "      <td>2024-06-01</td>\n",
       "      <td>False</td>\n",
       "    </tr>\n",
       "    <tr>\n",
       "      <th>1</th>\n",
       "      <td>D009402</td>\n",
       "      <td>E170_6353</td>\n",
       "      <td>REAE170-E170_6353-1</td>\n",
       "      <td>50.111950</td>\n",
       "      <td>2024-06-01</td>\n",
       "      <td>False</td>\n",
       "    </tr>\n",
       "  </tbody>\n",
       "</table>\n",
       "</div>"
      ],
      "text/plain": [
       "   ref_deg linked_aero      compo_concerned  usure_nouvelle measure_day  \\\n",
       "0  D003661   E170_6353  REAE170-E170_6353-0       53.308375  2024-06-01   \n",
       "1  D009402   E170_6353  REAE170-E170_6353-1       50.111950  2024-06-01   \n",
       "\n",
       "   need_replacement  \n",
       "0             False  \n",
       "1             False  "
      ]
     },
     "execution_count": 4,
     "metadata": {},
     "output_type": "execute_result"
    }
   ],
   "source": [
    "degra_06_02.head(2)"
   ]
  },
  {
   "cell_type": "code",
   "execution_count": 15,
   "metadata": {},
   "outputs": [
    {
     "data": {
      "text/plain": [
       "measure_day\n",
       "2024-06-02    4455\n",
       "2024-06-01    4365\n",
       "2024-05-31    1350\n",
       "2023-08-23     135\n",
       "2023-09-04      45\n",
       "2023-07-07      45\n",
       "2023-07-02      45\n",
       "2024-04-05      45\n",
       "2024-01-21      45\n",
       "Name: count, dtype: int64"
      ]
     },
     "execution_count": 15,
     "metadata": {},
     "output_type": "execute_result"
    }
   ],
   "source": [
    "#voir toutes les valeurs dates contenues dans la colonne measure_day\n",
    "degra_06_02['measure_day'].value_counts()"
   ]
  },
  {
   "cell_type": "code",
   "execution_count": 14,
   "metadata": {},
   "outputs": [],
   "source": [
    "#uniformiser le format string des dates\n",
    "degra_06_02['measure_day'] = degra_06_02['measure_day'].str.replace(' 00:00:00', '')"
   ]
  },
  {
   "cell_type": "code",
   "execution_count": 16,
   "metadata": {},
   "outputs": [],
   "source": [
    "#changer colonne measure_day en date\n",
    "from datetime import datetime\n",
    "degra_06_02['measure_day'] = degra_06_02['measure_day'].apply(lambda x: datetime.strptime(x, '%Y-%m-%d'))"
   ]
  },
  {
   "cell_type": "code",
   "execution_count": 21,
   "metadata": {},
   "outputs": [
    {
     "name": "stdout",
     "output_type": "stream",
     "text": [
      "<class 'pandas.core.frame.DataFrame'>\n",
      "RangeIndex: 10530 entries, 0 to 10529\n",
      "Data columns (total 6 columns):\n",
      " #   Column            Non-Null Count  Dtype         \n",
      "---  ------            --------------  -----         \n",
      " 0   ref_deg           10530 non-null  object        \n",
      " 1   linked_aero       10530 non-null  object        \n",
      " 2   compo_concerned   10530 non-null  object        \n",
      " 3   usure_nouvelle    10530 non-null  float64       \n",
      " 4   measure_day       10530 non-null  datetime64[ns]\n",
      " 5   need_replacement  10530 non-null  bool          \n",
      "dtypes: bool(1), datetime64[ns](1), float64(1), object(3)\n",
      "memory usage: 421.7+ KB\n"
     ]
    }
   ],
   "source": [
    "degra_06_02.info()"
   ]
  },
  {
   "cell_type": "code",
   "execution_count": 19,
   "metadata": {},
   "outputs": [
    {
     "data": {
      "text/plain": [
       "ref_deg             0\n",
       "linked_aero         0\n",
       "compo_concerned     0\n",
       "usure_nouvelle      0\n",
       "measure_day         0\n",
       "need_replacement    0\n",
       "dtype: int64"
      ]
     },
     "execution_count": 19,
     "metadata": {},
     "output_type": "execute_result"
    }
   ],
   "source": [
    "#vérifier s'il y a des valeurs manquantes ou nulles\n",
    "degra_06_02.isna().sum()"
   ]
  },
  {
   "cell_type": "code",
   "execution_count": 20,
   "metadata": {},
   "outputs": [
    {
     "data": {
      "text/html": [
       "<div>\n",
       "<style scoped>\n",
       "    .dataframe tbody tr th:only-of-type {\n",
       "        vertical-align: middle;\n",
       "    }\n",
       "\n",
       "    .dataframe tbody tr th {\n",
       "        vertical-align: top;\n",
       "    }\n",
       "\n",
       "    .dataframe thead th {\n",
       "        text-align: right;\n",
       "    }\n",
       "</style>\n",
       "<table border=\"1\" class=\"dataframe\">\n",
       "  <thead>\n",
       "    <tr style=\"text-align: right;\">\n",
       "      <th></th>\n",
       "      <th>ref_deg</th>\n",
       "      <th>linked_aero</th>\n",
       "      <th>compo_concerned</th>\n",
       "      <th>usure_nouvelle</th>\n",
       "      <th>measure_day</th>\n",
       "      <th>need_replacement</th>\n",
       "    </tr>\n",
       "  </thead>\n",
       "  <tbody>\n",
       "  </tbody>\n",
       "</table>\n",
       "</div>"
      ],
      "text/plain": [
       "Empty DataFrame\n",
       "Columns: [ref_deg, linked_aero, compo_concerned, usure_nouvelle, measure_day, need_replacement]\n",
       "Index: []"
      ]
     },
     "execution_count": 20,
     "metadata": {},
     "output_type": "execute_result"
    }
   ],
   "source": [
    "degra_06_02.loc[degra_06_02['usure_nouvelle'] == 0, :]"
   ]
  },
  {
   "cell_type": "code",
   "execution_count": 27,
   "metadata": {},
   "outputs": [
    {
     "data": {
      "text/plain": [
       "Index(['ref_deg', 'linked_aero', 'compo_concerned', 'usure_nouvelle',\n",
       "       'measure_day', 'need_replacement'],\n",
       "      dtype='object')"
      ]
     },
     "execution_count": 27,
     "metadata": {},
     "output_type": "execute_result"
    }
   ],
   "source": [
    "degra_06_02.columns"
   ]
  },
  {
   "cell_type": "code",
   "execution_count": 34,
   "metadata": {},
   "outputs": [
    {
     "data": {
      "text/html": [
       "<div>\n",
       "<style scoped>\n",
       "    .dataframe tbody tr th:only-of-type {\n",
       "        vertical-align: middle;\n",
       "    }\n",
       "\n",
       "    .dataframe tbody tr th {\n",
       "        vertical-align: top;\n",
       "    }\n",
       "\n",
       "    .dataframe thead th {\n",
       "        text-align: right;\n",
       "    }\n",
       "</style>\n",
       "<table border=\"1\" class=\"dataframe\">\n",
       "  <thead>\n",
       "    <tr style=\"text-align: right;\">\n",
       "      <th></th>\n",
       "      <th>ref_deg</th>\n",
       "      <th>linked_aero</th>\n",
       "      <th>compo_concerned</th>\n",
       "      <th>usure_nouvelle</th>\n",
       "      <th>measure_day</th>\n",
       "      <th>need_replacement</th>\n",
       "    </tr>\n",
       "  </thead>\n",
       "  <tbody>\n",
       "  </tbody>\n",
       "</table>\n",
       "</div>"
      ],
      "text/plain": [
       "Empty DataFrame\n",
       "Columns: [ref_deg, linked_aero, compo_concerned, usure_nouvelle, measure_day, need_replacement]\n",
       "Index: []"
      ]
     },
     "execution_count": 34,
     "metadata": {},
     "output_type": "execute_result"
    }
   ],
   "source": [
    "#vérifier s'il y a des doublons\n",
    "degra_06_02[degra_06_02[['ref_deg', 'linked_aero', 'compo_concerned']].duplicated() == True]"
   ]
  },
  {
   "cell_type": "code",
   "execution_count": 37,
   "metadata": {},
   "outputs": [
    {
     "data": {
      "text/html": [
       "<div>\n",
       "<style scoped>\n",
       "    .dataframe tbody tr th:only-of-type {\n",
       "        vertical-align: middle;\n",
       "    }\n",
       "\n",
       "    .dataframe tbody tr th {\n",
       "        vertical-align: top;\n",
       "    }\n",
       "\n",
       "    .dataframe thead th {\n",
       "        text-align: right;\n",
       "    }\n",
       "</style>\n",
       "<table border=\"1\" class=\"dataframe\">\n",
       "  <thead>\n",
       "    <tr style=\"text-align: right;\">\n",
       "      <th></th>\n",
       "      <th>ref_deg</th>\n",
       "      <th>linked_aero</th>\n",
       "      <th>compo_concerned</th>\n",
       "      <th>usure_nouvelle</th>\n",
       "      <th>measure_day</th>\n",
       "      <th>need_replacement</th>\n",
       "    </tr>\n",
       "  </thead>\n",
       "  <tbody>\n",
       "    <tr>\n",
       "      <th>10395</th>\n",
       "      <td>D003294</td>\n",
       "      <td>E170_5551</td>\n",
       "      <td>REAE170-E170_5551-0</td>\n",
       "      <td>32.09</td>\n",
       "      <td>2023-08-23</td>\n",
       "      <td>False</td>\n",
       "    </tr>\n",
       "    <tr>\n",
       "      <th>10396</th>\n",
       "      <td>D005386</td>\n",
       "      <td>E170_5551</td>\n",
       "      <td>REAE170-E170_5551-1</td>\n",
       "      <td>40.52</td>\n",
       "      <td>2023-08-23</td>\n",
       "      <td>False</td>\n",
       "    </tr>\n",
       "    <tr>\n",
       "      <th>10397</th>\n",
       "      <td>D004883</td>\n",
       "      <td>E170_5551</td>\n",
       "      <td>SYSE170-E170_5551-2</td>\n",
       "      <td>1.35</td>\n",
       "      <td>2023-08-23</td>\n",
       "      <td>False</td>\n",
       "    </tr>\n",
       "    <tr>\n",
       "      <th>10398</th>\n",
       "      <td>D003658</td>\n",
       "      <td>E170_5551</td>\n",
       "      <td>ORDE170-E170_5551-3</td>\n",
       "      <td>34.47</td>\n",
       "      <td>2023-08-23</td>\n",
       "      <td>False</td>\n",
       "    </tr>\n",
       "    <tr>\n",
       "      <th>10399</th>\n",
       "      <td>D008762</td>\n",
       "      <td>E170_5551</td>\n",
       "      <td>AUTE170-E170_5551-4</td>\n",
       "      <td>23.19</td>\n",
       "      <td>2023-08-23</td>\n",
       "      <td>False</td>\n",
       "    </tr>\n",
       "    <tr>\n",
       "      <th>...</th>\n",
       "      <td>...</td>\n",
       "      <td>...</td>\n",
       "      <td>...</td>\n",
       "      <td>...</td>\n",
       "      <td>...</td>\n",
       "      <td>...</td>\n",
       "    </tr>\n",
       "    <tr>\n",
       "      <th>10480</th>\n",
       "      <td>D001482</td>\n",
       "      <td>E170_5551</td>\n",
       "      <td>SYSE170-E170_5551-40</td>\n",
       "      <td>43.96</td>\n",
       "      <td>2023-08-23</td>\n",
       "      <td>False</td>\n",
       "    </tr>\n",
       "    <tr>\n",
       "      <th>10481</th>\n",
       "      <td>D006878</td>\n",
       "      <td>E170_5551</td>\n",
       "      <td>PORE170-E170_5551-41</td>\n",
       "      <td>9.30</td>\n",
       "      <td>2023-08-23</td>\n",
       "      <td>False</td>\n",
       "    </tr>\n",
       "    <tr>\n",
       "      <th>10482</th>\n",
       "      <td>D000419</td>\n",
       "      <td>E170_5551</td>\n",
       "      <td>HUBE170-E170_5551-42</td>\n",
       "      <td>40.04</td>\n",
       "      <td>2023-08-23</td>\n",
       "      <td>False</td>\n",
       "    </tr>\n",
       "    <tr>\n",
       "      <th>10483</th>\n",
       "      <td>D009981</td>\n",
       "      <td>E170_5551</td>\n",
       "      <td>ECLE170-E170_5551-43</td>\n",
       "      <td>56.67</td>\n",
       "      <td>2023-08-23</td>\n",
       "      <td>False</td>\n",
       "    </tr>\n",
       "    <tr>\n",
       "      <th>10484</th>\n",
       "      <td>D005733</td>\n",
       "      <td>E170_5551</td>\n",
       "      <td>SYSE170-E170_5551-44</td>\n",
       "      <td>40.56</td>\n",
       "      <td>2023-08-23</td>\n",
       "      <td>False</td>\n",
       "    </tr>\n",
       "  </tbody>\n",
       "</table>\n",
       "<p>90 rows × 6 columns</p>\n",
       "</div>"
      ],
      "text/plain": [
       "       ref_deg linked_aero       compo_concerned  usure_nouvelle measure_day  \\\n",
       "10395  D003294   E170_5551   REAE170-E170_5551-0           32.09  2023-08-23   \n",
       "10396  D005386   E170_5551   REAE170-E170_5551-1           40.52  2023-08-23   \n",
       "10397  D004883   E170_5551   SYSE170-E170_5551-2            1.35  2023-08-23   \n",
       "10398  D003658   E170_5551   ORDE170-E170_5551-3           34.47  2023-08-23   \n",
       "10399  D008762   E170_5551   AUTE170-E170_5551-4           23.19  2023-08-23   \n",
       "...        ...         ...                   ...             ...         ...   \n",
       "10480  D001482   E170_5551  SYSE170-E170_5551-40           43.96  2023-08-23   \n",
       "10481  D006878   E170_5551  PORE170-E170_5551-41            9.30  2023-08-23   \n",
       "10482  D000419   E170_5551  HUBE170-E170_5551-42           40.04  2023-08-23   \n",
       "10483  D009981   E170_5551  ECLE170-E170_5551-43           56.67  2023-08-23   \n",
       "10484  D005733   E170_5551  SYSE170-E170_5551-44           40.56  2023-08-23   \n",
       "\n",
       "       need_replacement  \n",
       "10395             False  \n",
       "10396             False  \n",
       "10397             False  \n",
       "10398             False  \n",
       "10399             False  \n",
       "...                 ...  \n",
       "10480             False  \n",
       "10481             False  \n",
       "10482             False  \n",
       "10483             False  \n",
       "10484             False  \n",
       "\n",
       "[90 rows x 6 columns]"
      ]
     },
     "execution_count": 37,
     "metadata": {},
     "output_type": "execute_result"
    }
   ],
   "source": [
    "degra_06_02[degra_06_02[['linked_aero', 'compo_concerned', 'usure_nouvelle','measure_day']].duplicated() == True]"
   ]
  },
  {
   "cell_type": "code",
   "execution_count": 36,
   "metadata": {},
   "outputs": [
    {
     "data": {
      "text/html": [
       "<div>\n",
       "<style scoped>\n",
       "    .dataframe tbody tr th:only-of-type {\n",
       "        vertical-align: middle;\n",
       "    }\n",
       "\n",
       "    .dataframe tbody tr th {\n",
       "        vertical-align: top;\n",
       "    }\n",
       "\n",
       "    .dataframe thead th {\n",
       "        text-align: right;\n",
       "    }\n",
       "</style>\n",
       "<table border=\"1\" class=\"dataframe\">\n",
       "  <thead>\n",
       "    <tr style=\"text-align: right;\">\n",
       "      <th></th>\n",
       "      <th>ref_deg</th>\n",
       "      <th>linked_aero</th>\n",
       "      <th>compo_concerned</th>\n",
       "      <th>usure_nouvelle</th>\n",
       "      <th>measure_day</th>\n",
       "      <th>need_replacement</th>\n",
       "    </tr>\n",
       "  </thead>\n",
       "  <tbody>\n",
       "    <tr>\n",
       "      <th>1800</th>\n",
       "      <td>D001765</td>\n",
       "      <td>E170_5551</td>\n",
       "      <td>REAE170-E170_5551-0</td>\n",
       "      <td>33.47277</td>\n",
       "      <td>2024-06-01</td>\n",
       "      <td>False</td>\n",
       "    </tr>\n",
       "    <tr>\n",
       "      <th>1845</th>\n",
       "      <td>D008183</td>\n",
       "      <td>E170_5551</td>\n",
       "      <td>REAE170-E170_5551-0</td>\n",
       "      <td>32.09000</td>\n",
       "      <td>2023-08-23</td>\n",
       "      <td>False</td>\n",
       "    </tr>\n",
       "    <tr>\n",
       "      <th>10395</th>\n",
       "      <td>D003294</td>\n",
       "      <td>E170_5551</td>\n",
       "      <td>REAE170-E170_5551-0</td>\n",
       "      <td>32.09000</td>\n",
       "      <td>2023-08-23</td>\n",
       "      <td>False</td>\n",
       "    </tr>\n",
       "    <tr>\n",
       "      <th>10440</th>\n",
       "      <td>D001666</td>\n",
       "      <td>E170_5551</td>\n",
       "      <td>REAE170-E170_5551-0</td>\n",
       "      <td>32.09000</td>\n",
       "      <td>2023-08-23</td>\n",
       "      <td>False</td>\n",
       "    </tr>\n",
       "  </tbody>\n",
       "</table>\n",
       "</div>"
      ],
      "text/plain": [
       "       ref_deg linked_aero      compo_concerned  usure_nouvelle measure_day  \\\n",
       "1800   D001765   E170_5551  REAE170-E170_5551-0        33.47277  2024-06-01   \n",
       "1845   D008183   E170_5551  REAE170-E170_5551-0        32.09000  2023-08-23   \n",
       "10395  D003294   E170_5551  REAE170-E170_5551-0        32.09000  2023-08-23   \n",
       "10440  D001666   E170_5551  REAE170-E170_5551-0        32.09000  2023-08-23   \n",
       "\n",
       "       need_replacement  \n",
       "1800              False  \n",
       "1845              False  \n",
       "10395             False  \n",
       "10440             False  "
      ]
     },
     "execution_count": 36,
     "metadata": {},
     "output_type": "execute_result"
    }
   ],
   "source": [
    "degra_06_02.loc[(degra_06_02['compo_concerned'] == 'REAE170-E170_5551-0') & (degra_06_02['linked_aero'] == 'E170_5551')]"
   ]
  },
  {
   "cell_type": "markdown",
   "metadata": {},
   "source": [
    "Il y a 90 doublons dans la 1ere base : même composant - même avion avec plusieurs fois la même mesure de tx usure le même jour"
   ]
  },
  {
   "cell_type": "code",
   "execution_count": 52,
   "metadata": {},
   "outputs": [
    {
     "data": {
      "text/plain": [
       "10440"
      ]
     },
     "execution_count": 52,
     "metadata": {},
     "output_type": "execute_result"
    }
   ],
   "source": [
    "10530-90"
   ]
  },
  {
   "cell_type": "code",
   "execution_count": 53,
   "metadata": {},
   "outputs": [],
   "source": [
    "#supprimer les doublons\n",
    "# le nouveau df devra donc avoir 10530 - 90 lignes, soit 10440 lignes\n",
    "clean_degra_06_02 = degra_06_02.drop_duplicates(subset=['linked_aero', 'compo_concerned', 'usure_nouvelle','measure_day'], keep='first')"
   ]
  },
  {
   "cell_type": "code",
   "execution_count": 54,
   "metadata": {},
   "outputs": [
    {
     "data": {
      "text/html": [
       "<div>\n",
       "<style scoped>\n",
       "    .dataframe tbody tr th:only-of-type {\n",
       "        vertical-align: middle;\n",
       "    }\n",
       "\n",
       "    .dataframe tbody tr th {\n",
       "        vertical-align: top;\n",
       "    }\n",
       "\n",
       "    .dataframe thead th {\n",
       "        text-align: right;\n",
       "    }\n",
       "</style>\n",
       "<table border=\"1\" class=\"dataframe\">\n",
       "  <thead>\n",
       "    <tr style=\"text-align: right;\">\n",
       "      <th></th>\n",
       "      <th>ref_deg</th>\n",
       "      <th>linked_aero</th>\n",
       "      <th>compo_concerned</th>\n",
       "      <th>usure_nouvelle</th>\n",
       "      <th>measure_day</th>\n",
       "      <th>need_replacement</th>\n",
       "    </tr>\n",
       "  </thead>\n",
       "  <tbody>\n",
       "    <tr>\n",
       "      <th>0</th>\n",
       "      <td>D003661</td>\n",
       "      <td>E170_6353</td>\n",
       "      <td>REAE170-E170_6353-0</td>\n",
       "      <td>53.308375</td>\n",
       "      <td>2024-06-01</td>\n",
       "      <td>False</td>\n",
       "    </tr>\n",
       "    <tr>\n",
       "      <th>1</th>\n",
       "      <td>D009402</td>\n",
       "      <td>E170_6353</td>\n",
       "      <td>REAE170-E170_6353-1</td>\n",
       "      <td>50.111950</td>\n",
       "      <td>2024-06-01</td>\n",
       "      <td>False</td>\n",
       "    </tr>\n",
       "    <tr>\n",
       "      <th>2</th>\n",
       "      <td>D000812</td>\n",
       "      <td>E170_6353</td>\n",
       "      <td>SYSE170-E170_6353-2</td>\n",
       "      <td>16.730575</td>\n",
       "      <td>2024-06-01</td>\n",
       "      <td>False</td>\n",
       "    </tr>\n",
       "    <tr>\n",
       "      <th>3</th>\n",
       "      <td>D006665</td>\n",
       "      <td>E170_6353</td>\n",
       "      <td>ORDE170-E170_6353-3</td>\n",
       "      <td>6.653075</td>\n",
       "      <td>2024-06-01</td>\n",
       "      <td>False</td>\n",
       "    </tr>\n",
       "    <tr>\n",
       "      <th>4</th>\n",
       "      <td>D001163</td>\n",
       "      <td>E170_6353</td>\n",
       "      <td>AUTE170-E170_6353-4</td>\n",
       "      <td>42.033525</td>\n",
       "      <td>2024-06-01</td>\n",
       "      <td>False</td>\n",
       "    </tr>\n",
       "    <tr>\n",
       "      <th>...</th>\n",
       "      <td>...</td>\n",
       "      <td>...</td>\n",
       "      <td>...</td>\n",
       "      <td>...</td>\n",
       "      <td>...</td>\n",
       "      <td>...</td>\n",
       "    </tr>\n",
       "    <tr>\n",
       "      <th>10525</th>\n",
       "      <td>D006322</td>\n",
       "      <td>CRJ700_2988</td>\n",
       "      <td>SYSCRJ700-CRJ700_2988-40</td>\n",
       "      <td>53.323168</td>\n",
       "      <td>2024-06-02</td>\n",
       "      <td>False</td>\n",
       "    </tr>\n",
       "    <tr>\n",
       "      <th>10526</th>\n",
       "      <td>D005497</td>\n",
       "      <td>CRJ700_2988</td>\n",
       "      <td>PORCRJ700-CRJ700_2988-41</td>\n",
       "      <td>16.392552</td>\n",
       "      <td>2024-06-02</td>\n",
       "      <td>False</td>\n",
       "    </tr>\n",
       "    <tr>\n",
       "      <th>10527</th>\n",
       "      <td>D005625</td>\n",
       "      <td>CRJ700_2988</td>\n",
       "      <td>HUBCRJ700-CRJ700_2988-42</td>\n",
       "      <td>34.551008</td>\n",
       "      <td>2024-06-02</td>\n",
       "      <td>False</td>\n",
       "    </tr>\n",
       "    <tr>\n",
       "      <th>10528</th>\n",
       "      <td>D003657</td>\n",
       "      <td>CRJ700_2988</td>\n",
       "      <td>ECLCRJ700-CRJ700_2988-43</td>\n",
       "      <td>36.706904</td>\n",
       "      <td>2024-06-02</td>\n",
       "      <td>False</td>\n",
       "    </tr>\n",
       "    <tr>\n",
       "      <th>10529</th>\n",
       "      <td>D000550</td>\n",
       "      <td>CRJ700_2988</td>\n",
       "      <td>SYSCRJ700-CRJ700_2988-44</td>\n",
       "      <td>13.740256</td>\n",
       "      <td>2024-06-02</td>\n",
       "      <td>False</td>\n",
       "    </tr>\n",
       "  </tbody>\n",
       "</table>\n",
       "<p>10440 rows × 6 columns</p>\n",
       "</div>"
      ],
      "text/plain": [
       "       ref_deg  linked_aero           compo_concerned  usure_nouvelle  \\\n",
       "0      D003661    E170_6353       REAE170-E170_6353-0       53.308375   \n",
       "1      D009402    E170_6353       REAE170-E170_6353-1       50.111950   \n",
       "2      D000812    E170_6353       SYSE170-E170_6353-2       16.730575   \n",
       "3      D006665    E170_6353       ORDE170-E170_6353-3        6.653075   \n",
       "4      D001163    E170_6353       AUTE170-E170_6353-4       42.033525   \n",
       "...        ...          ...                       ...             ...   \n",
       "10525  D006322  CRJ700_2988  SYSCRJ700-CRJ700_2988-40       53.323168   \n",
       "10526  D005497  CRJ700_2988  PORCRJ700-CRJ700_2988-41       16.392552   \n",
       "10527  D005625  CRJ700_2988  HUBCRJ700-CRJ700_2988-42       34.551008   \n",
       "10528  D003657  CRJ700_2988  ECLCRJ700-CRJ700_2988-43       36.706904   \n",
       "10529  D000550  CRJ700_2988  SYSCRJ700-CRJ700_2988-44       13.740256   \n",
       "\n",
       "      measure_day  need_replacement  \n",
       "0      2024-06-01             False  \n",
       "1      2024-06-01             False  \n",
       "2      2024-06-01             False  \n",
       "3      2024-06-01             False  \n",
       "4      2024-06-01             False  \n",
       "...           ...               ...  \n",
       "10525  2024-06-02             False  \n",
       "10526  2024-06-02             False  \n",
       "10527  2024-06-02             False  \n",
       "10528  2024-06-02             False  \n",
       "10529  2024-06-02             False  \n",
       "\n",
       "[10440 rows x 6 columns]"
      ]
     },
     "execution_count": 54,
     "metadata": {},
     "output_type": "execute_result"
    }
   ],
   "source": [
    "clean_degra_06_02"
   ]
  },
  {
   "cell_type": "code",
   "execution_count": 55,
   "metadata": {},
   "outputs": [
    {
     "data": {
      "text/html": [
       "<div>\n",
       "<style scoped>\n",
       "    .dataframe tbody tr th:only-of-type {\n",
       "        vertical-align: middle;\n",
       "    }\n",
       "\n",
       "    .dataframe tbody tr th {\n",
       "        vertical-align: top;\n",
       "    }\n",
       "\n",
       "    .dataframe thead th {\n",
       "        text-align: right;\n",
       "    }\n",
       "</style>\n",
       "<table border=\"1\" class=\"dataframe\">\n",
       "  <thead>\n",
       "    <tr style=\"text-align: right;\">\n",
       "      <th></th>\n",
       "      <th>ref_deg</th>\n",
       "      <th>linked_aero</th>\n",
       "      <th>compo_concerned</th>\n",
       "      <th>usure_nouvelle</th>\n",
       "      <th>measure_day</th>\n",
       "      <th>need_replacement</th>\n",
       "    </tr>\n",
       "  </thead>\n",
       "  <tbody>\n",
       "    <tr>\n",
       "      <th>0</th>\n",
       "      <td>D003661</td>\n",
       "      <td>E170_6353</td>\n",
       "      <td>REAE170-E170_6353-0</td>\n",
       "      <td>53.308375</td>\n",
       "      <td>2024-06-01</td>\n",
       "      <td>False</td>\n",
       "    </tr>\n",
       "    <tr>\n",
       "      <th>1</th>\n",
       "      <td>D009402</td>\n",
       "      <td>E170_6353</td>\n",
       "      <td>REAE170-E170_6353-1</td>\n",
       "      <td>50.111950</td>\n",
       "      <td>2024-06-01</td>\n",
       "      <td>False</td>\n",
       "    </tr>\n",
       "    <tr>\n",
       "      <th>2</th>\n",
       "      <td>D000812</td>\n",
       "      <td>E170_6353</td>\n",
       "      <td>SYSE170-E170_6353-2</td>\n",
       "      <td>16.730575</td>\n",
       "      <td>2024-06-01</td>\n",
       "      <td>False</td>\n",
       "    </tr>\n",
       "    <tr>\n",
       "      <th>3</th>\n",
       "      <td>D006665</td>\n",
       "      <td>E170_6353</td>\n",
       "      <td>ORDE170-E170_6353-3</td>\n",
       "      <td>6.653075</td>\n",
       "      <td>2024-06-01</td>\n",
       "      <td>False</td>\n",
       "    </tr>\n",
       "    <tr>\n",
       "      <th>4</th>\n",
       "      <td>D001163</td>\n",
       "      <td>E170_6353</td>\n",
       "      <td>AUTE170-E170_6353-4</td>\n",
       "      <td>42.033525</td>\n",
       "      <td>2024-06-01</td>\n",
       "      <td>False</td>\n",
       "    </tr>\n",
       "    <tr>\n",
       "      <th>...</th>\n",
       "      <td>...</td>\n",
       "      <td>...</td>\n",
       "      <td>...</td>\n",
       "      <td>...</td>\n",
       "      <td>...</td>\n",
       "      <td>...</td>\n",
       "    </tr>\n",
       "    <tr>\n",
       "      <th>10525</th>\n",
       "      <td>D006322</td>\n",
       "      <td>CRJ700_2988</td>\n",
       "      <td>SYSCRJ700-CRJ700_2988-40</td>\n",
       "      <td>53.323168</td>\n",
       "      <td>2024-06-02</td>\n",
       "      <td>False</td>\n",
       "    </tr>\n",
       "    <tr>\n",
       "      <th>10526</th>\n",
       "      <td>D005497</td>\n",
       "      <td>CRJ700_2988</td>\n",
       "      <td>PORCRJ700-CRJ700_2988-41</td>\n",
       "      <td>16.392552</td>\n",
       "      <td>2024-06-02</td>\n",
       "      <td>False</td>\n",
       "    </tr>\n",
       "    <tr>\n",
       "      <th>10527</th>\n",
       "      <td>D005625</td>\n",
       "      <td>CRJ700_2988</td>\n",
       "      <td>HUBCRJ700-CRJ700_2988-42</td>\n",
       "      <td>34.551008</td>\n",
       "      <td>2024-06-02</td>\n",
       "      <td>False</td>\n",
       "    </tr>\n",
       "    <tr>\n",
       "      <th>10528</th>\n",
       "      <td>D003657</td>\n",
       "      <td>CRJ700_2988</td>\n",
       "      <td>ECLCRJ700-CRJ700_2988-43</td>\n",
       "      <td>36.706904</td>\n",
       "      <td>2024-06-02</td>\n",
       "      <td>False</td>\n",
       "    </tr>\n",
       "    <tr>\n",
       "      <th>10529</th>\n",
       "      <td>D000550</td>\n",
       "      <td>CRJ700_2988</td>\n",
       "      <td>SYSCRJ700-CRJ700_2988-44</td>\n",
       "      <td>13.740256</td>\n",
       "      <td>2024-06-02</td>\n",
       "      <td>False</td>\n",
       "    </tr>\n",
       "  </tbody>\n",
       "</table>\n",
       "<p>10440 rows × 6 columns</p>\n",
       "</div>"
      ],
      "text/plain": [
       "       ref_deg  linked_aero           compo_concerned  usure_nouvelle  \\\n",
       "0      D003661    E170_6353       REAE170-E170_6353-0       53.308375   \n",
       "1      D009402    E170_6353       REAE170-E170_6353-1       50.111950   \n",
       "2      D000812    E170_6353       SYSE170-E170_6353-2       16.730575   \n",
       "3      D006665    E170_6353       ORDE170-E170_6353-3        6.653075   \n",
       "4      D001163    E170_6353       AUTE170-E170_6353-4       42.033525   \n",
       "...        ...          ...                       ...             ...   \n",
       "10525  D006322  CRJ700_2988  SYSCRJ700-CRJ700_2988-40       53.323168   \n",
       "10526  D005497  CRJ700_2988  PORCRJ700-CRJ700_2988-41       16.392552   \n",
       "10527  D005625  CRJ700_2988  HUBCRJ700-CRJ700_2988-42       34.551008   \n",
       "10528  D003657  CRJ700_2988  ECLCRJ700-CRJ700_2988-43       36.706904   \n",
       "10529  D000550  CRJ700_2988  SYSCRJ700-CRJ700_2988-44       13.740256   \n",
       "\n",
       "      measure_day  need_replacement  \n",
       "0      2024-06-01             False  \n",
       "1      2024-06-01             False  \n",
       "2      2024-06-01             False  \n",
       "3      2024-06-01             False  \n",
       "4      2024-06-01             False  \n",
       "...           ...               ...  \n",
       "10525  2024-06-02             False  \n",
       "10526  2024-06-02             False  \n",
       "10527  2024-06-02             False  \n",
       "10528  2024-06-02             False  \n",
       "10529  2024-06-02             False  \n",
       "\n",
       "[10440 rows x 6 columns]"
      ]
     },
     "execution_count": 55,
     "metadata": {},
     "output_type": "execute_result"
    }
   ],
   "source": [
    "#initialiser un dataframe historique à partir de la 1ere BDD du 02/06/2024\n",
    "histo_degra = clean_degra_06_02\n",
    "histo_degra"
   ]
  },
  {
   "cell_type": "code",
   "execution_count": 57,
   "metadata": {},
   "outputs": [
    {
     "data": {
      "text/plain": [
       "measure_day\n",
       "2024-06-03             3420\n",
       "2024-06-02             3105\n",
       "2024-06-01             3060\n",
       "2024-05-31              675\n",
       "2023-08-23 00:00:00     135\n",
       "2023-07-07 00:00:00      45\n",
       "2024-04-05 00:00:00      45\n",
       "2024-01-21 00:00:00      45\n",
       "Name: count, dtype: int64"
      ]
     },
     "execution_count": 57,
     "metadata": {},
     "output_type": "execute_result"
    }
   ],
   "source": [
    "degra_06_03['measure_day'].value_counts()"
   ]
  },
  {
   "cell_type": "code",
   "execution_count": 58,
   "metadata": {},
   "outputs": [],
   "source": [
    "#logiquement on garde que les degradations du jour du fichier (ici 02/06/2024)\n",
    "daily_degra = degra_06_03.loc[degra_06_03['measure_day'] == '2024-06-03', :]"
   ]
  },
  {
   "cell_type": "code",
   "execution_count": 61,
   "metadata": {},
   "outputs": [
    {
     "name": "stderr",
     "output_type": "stream",
     "text": [
      "C:\\Users\\MAITE\\AppData\\Local\\Temp\\ipykernel_3804\\3583825.py:2: SettingWithCopyWarning: \n",
      "A value is trying to be set on a copy of a slice from a DataFrame.\n",
      "Try using .loc[row_indexer,col_indexer] = value instead\n",
      "\n",
      "See the caveats in the documentation: https://pandas.pydata.org/pandas-docs/stable/user_guide/indexing.html#returning-a-view-versus-a-copy\n",
      "  daily_degra['measure_day'] = daily_degra['measure_day'].apply(lambda x: datetime.strptime(x, '%Y-%m-%d'))\n"
     ]
    }
   ],
   "source": [
    "#changer le type de la colonne date\n",
    "daily_degra['measure_day'] = daily_degra['measure_day'].apply(lambda x: datetime.strptime(x, '%Y-%m-%d'))"
   ]
  },
  {
   "cell_type": "code",
   "execution_count": 63,
   "metadata": {},
   "outputs": [
    {
     "data": {
      "text/plain": [
       "ref_deg             0\n",
       "linked_aero         0\n",
       "compo_concerned     0\n",
       "usure_nouvelle      0\n",
       "measure_day         0\n",
       "need_replacement    0\n",
       "dtype: int64"
      ]
     },
     "execution_count": 63,
     "metadata": {},
     "output_type": "execute_result"
    }
   ],
   "source": [
    "daily_degra.isna().sum()"
   ]
  },
  {
   "cell_type": "code",
   "execution_count": 64,
   "metadata": {},
   "outputs": [
    {
     "data": {
      "text/html": [
       "<div>\n",
       "<style scoped>\n",
       "    .dataframe tbody tr th:only-of-type {\n",
       "        vertical-align: middle;\n",
       "    }\n",
       "\n",
       "    .dataframe tbody tr th {\n",
       "        vertical-align: top;\n",
       "    }\n",
       "\n",
       "    .dataframe thead th {\n",
       "        text-align: right;\n",
       "    }\n",
       "</style>\n",
       "<table border=\"1\" class=\"dataframe\">\n",
       "  <thead>\n",
       "    <tr style=\"text-align: right;\">\n",
       "      <th></th>\n",
       "      <th>ref_deg</th>\n",
       "      <th>linked_aero</th>\n",
       "      <th>compo_concerned</th>\n",
       "      <th>usure_nouvelle</th>\n",
       "      <th>measure_day</th>\n",
       "      <th>need_replacement</th>\n",
       "    </tr>\n",
       "  </thead>\n",
       "  <tbody>\n",
       "  </tbody>\n",
       "</table>\n",
       "</div>"
      ],
      "text/plain": [
       "Empty DataFrame\n",
       "Columns: [ref_deg, linked_aero, compo_concerned, usure_nouvelle, measure_day, need_replacement]\n",
       "Index: []"
      ]
     },
     "execution_count": 64,
     "metadata": {},
     "output_type": "execute_result"
    }
   ],
   "source": [
    "daily_degra.loc[daily_degra['usure_nouvelle'] == 0, :]"
   ]
  },
  {
   "cell_type": "code",
   "execution_count": 65,
   "metadata": {},
   "outputs": [
    {
     "data": {
      "text/html": [
       "<div>\n",
       "<style scoped>\n",
       "    .dataframe tbody tr th:only-of-type {\n",
       "        vertical-align: middle;\n",
       "    }\n",
       "\n",
       "    .dataframe tbody tr th {\n",
       "        vertical-align: top;\n",
       "    }\n",
       "\n",
       "    .dataframe thead th {\n",
       "        text-align: right;\n",
       "    }\n",
       "</style>\n",
       "<table border=\"1\" class=\"dataframe\">\n",
       "  <thead>\n",
       "    <tr style=\"text-align: right;\">\n",
       "      <th></th>\n",
       "      <th>ref_deg</th>\n",
       "      <th>linked_aero</th>\n",
       "      <th>compo_concerned</th>\n",
       "      <th>usure_nouvelle</th>\n",
       "      <th>measure_day</th>\n",
       "      <th>need_replacement</th>\n",
       "    </tr>\n",
       "  </thead>\n",
       "  <tbody>\n",
       "  </tbody>\n",
       "</table>\n",
       "</div>"
      ],
      "text/plain": [
       "Empty DataFrame\n",
       "Columns: [ref_deg, linked_aero, compo_concerned, usure_nouvelle, measure_day, need_replacement]\n",
       "Index: []"
      ]
     },
     "execution_count": 65,
     "metadata": {},
     "output_type": "execute_result"
    }
   ],
   "source": [
    "#vérifier s'il y a des doublons\n",
    "daily_degra[daily_degra[['ref_deg', 'linked_aero', 'compo_concerned']].duplicated() == True]"
   ]
  },
  {
   "cell_type": "code",
   "execution_count": 66,
   "metadata": {},
   "outputs": [
    {
     "data": {
      "text/html": [
       "<div>\n",
       "<style scoped>\n",
       "    .dataframe tbody tr th:only-of-type {\n",
       "        vertical-align: middle;\n",
       "    }\n",
       "\n",
       "    .dataframe tbody tr th {\n",
       "        vertical-align: top;\n",
       "    }\n",
       "\n",
       "    .dataframe thead th {\n",
       "        text-align: right;\n",
       "    }\n",
       "</style>\n",
       "<table border=\"1\" class=\"dataframe\">\n",
       "  <thead>\n",
       "    <tr style=\"text-align: right;\">\n",
       "      <th></th>\n",
       "      <th>ref_deg</th>\n",
       "      <th>linked_aero</th>\n",
       "      <th>compo_concerned</th>\n",
       "      <th>usure_nouvelle</th>\n",
       "      <th>measure_day</th>\n",
       "      <th>need_replacement</th>\n",
       "    </tr>\n",
       "  </thead>\n",
       "  <tbody>\n",
       "  </tbody>\n",
       "</table>\n",
       "</div>"
      ],
      "text/plain": [
       "Empty DataFrame\n",
       "Columns: [ref_deg, linked_aero, compo_concerned, usure_nouvelle, measure_day, need_replacement]\n",
       "Index: []"
      ]
     },
     "execution_count": 66,
     "metadata": {},
     "output_type": "execute_result"
    }
   ],
   "source": [
    "daily_degra[daily_degra[['linked_aero', 'compo_concerned', 'usure_nouvelle', 'measure_day']].duplicated() == True]"
   ]
  },
  {
   "cell_type": "code",
   "execution_count": 70,
   "metadata": {},
   "outputs": [
    {
     "data": {
      "text/plain": [
       "ref_deg             0\n",
       "linked_aero         0\n",
       "compo_concerned     0\n",
       "usure_nouvelle      0\n",
       "measure_day         0\n",
       "need_replacement    0\n",
       "dtype: int64"
      ]
     },
     "execution_count": 70,
     "metadata": {},
     "output_type": "execute_result"
    }
   ],
   "source": [
    "daily_degra[daily_degra[['linked_aero', 'compo_concerned', 'usure_nouvelle', 'measure_day']].duplicated() == True].count()"
   ]
  },
  {
   "cell_type": "code",
   "execution_count": 67,
   "metadata": {},
   "outputs": [
    {
     "data": {
      "text/html": [
       "<div>\n",
       "<style scoped>\n",
       "    .dataframe tbody tr th:only-of-type {\n",
       "        vertical-align: middle;\n",
       "    }\n",
       "\n",
       "    .dataframe tbody tr th {\n",
       "        vertical-align: top;\n",
       "    }\n",
       "\n",
       "    .dataframe thead th {\n",
       "        text-align: right;\n",
       "    }\n",
       "</style>\n",
       "<table border=\"1\" class=\"dataframe\">\n",
       "  <thead>\n",
       "    <tr style=\"text-align: right;\">\n",
       "      <th></th>\n",
       "      <th>ref_deg</th>\n",
       "      <th>linked_aero</th>\n",
       "      <th>compo_concerned</th>\n",
       "      <th>usure_nouvelle</th>\n",
       "      <th>measure_day</th>\n",
       "      <th>need_replacement</th>\n",
       "    </tr>\n",
       "  </thead>\n",
       "  <tbody>\n",
       "    <tr>\n",
       "      <th>0</th>\n",
       "      <td>D003661</td>\n",
       "      <td>E170_6353</td>\n",
       "      <td>REAE170-E170_6353-0</td>\n",
       "      <td>53.308375</td>\n",
       "      <td>2024-06-01</td>\n",
       "      <td>False</td>\n",
       "    </tr>\n",
       "    <tr>\n",
       "      <th>1</th>\n",
       "      <td>D009402</td>\n",
       "      <td>E170_6353</td>\n",
       "      <td>REAE170-E170_6353-1</td>\n",
       "      <td>50.111950</td>\n",
       "      <td>2024-06-01</td>\n",
       "      <td>False</td>\n",
       "    </tr>\n",
       "  </tbody>\n",
       "</table>\n",
       "</div>"
      ],
      "text/plain": [
       "   ref_deg linked_aero      compo_concerned  usure_nouvelle measure_day  \\\n",
       "0  D003661   E170_6353  REAE170-E170_6353-0       53.308375  2024-06-01   \n",
       "1  D009402   E170_6353  REAE170-E170_6353-1       50.111950  2024-06-01   \n",
       "\n",
       "   need_replacement  \n",
       "0             False  \n",
       "1             False  "
      ]
     },
     "execution_count": 67,
     "metadata": {},
     "output_type": "execute_result"
    }
   ],
   "source": [
    "histo_degra.head(2)"
   ]
  },
  {
   "cell_type": "code",
   "execution_count": 68,
   "metadata": {},
   "outputs": [
    {
     "data": {
      "text/plain": [
       "measure_day\n",
       "2024-06-04             5355\n",
       "2024-06-02             1710\n",
       "2024-06-03             1530\n",
       "2024-06-01             1350\n",
       "2024-05-31              315\n",
       "2023-08-23 00:00:00     135\n",
       "2023-07-07 00:00:00      45\n",
       "2024-04-05 00:00:00      45\n",
       "2024-01-21 00:00:00      45\n",
       "Name: count, dtype: int64"
      ]
     },
     "execution_count": 68,
     "metadata": {},
     "output_type": "execute_result"
    }
   ],
   "source": [
    "#créer une routine (fonction) pour automatiser les manip à chaque upload de bdd\n"
   ]
  },
  {
   "cell_type": "code",
   "execution_count": null,
   "metadata": {},
   "outputs": [],
   "source": [
    "#concatener les 2 fichiers\n"
   ]
  }
 ],
 "metadata": {
  "kernelspec": {
   "display_name": "base",
   "language": "python",
   "name": "python3"
  },
  "language_info": {
   "codemirror_mode": {
    "name": "ipython",
    "version": 3
   },
   "file_extension": ".py",
   "mimetype": "text/x-python",
   "name": "python",
   "nbconvert_exporter": "python",
   "pygments_lexer": "ipython3",
   "version": "3.11.5"
  }
 },
 "nbformat": 4,
 "nbformat_minor": 2
}
