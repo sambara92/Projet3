{
 "cells": [
  {
   "cell_type": "code",
   "execution_count": 1,
   "metadata": {},
   "outputs": [
    {
     "name": "stderr",
     "output_type": "stream",
     "text": [
      "/Users/nadiaaitmada/Library/Python/3.9/lib/python/site-packages/urllib3/__init__.py:35: NotOpenSSLWarning: urllib3 v2 only supports OpenSSL 1.1.1+, currently the 'ssl' module is compiled with 'LibreSSL 2.8.3'. See: https://github.com/urllib3/urllib3/issues/3020\n",
      "  warnings.warn(\n"
     ]
    }
   ],
   "source": [
    "import os\n",
    "from os import listdir\n",
    "from os.path import isfile,join\n",
    "from datetime import datetime,timedelta\n",
    "import requests\n",
    "import seaborn as sns\n",
    "import matplotlib.pyplot as plt\n",
    "import pandas as pd\n",
    "import numpy as np\n",
    "from math import sqrt \n",
    "from collections import Counter\n",
    "from datetime import date, datetime, timedelta\n",
    "import time"
   ]
  },
  {
   "cell_type": "code",
   "execution_count": 2,
   "metadata": {},
   "outputs": [
    {
     "name": "stdout",
     "output_type": "stream",
     "text": [
      "Chemin d'accès au répertoire : /Users/nadiaaitmada/Desktop/Wild/projet3/Automatisation\n"
     ]
    }
   ],
   "source": [
    "# I. Automatiser le téléchargement des fichiers de données\n",
    "# But : Créer un script qui télécharge les fichiers au fil des jours et \n",
    "#       évite de télécharger à nouveau les fichiers déjà téléchargés\n",
    "#       (Fichiers publiés chaque jour)\n",
    "\n",
    "# Inconvénient : nécessite de créer un script de job en local pour faire tourner cahque jour  \n",
    "#               Si un fichier n'est pas récupérer le jour même, il ne peut pas être récupérer le jour suivant\n",
    "\n",
    "## Pour info : Chemin du répertoire d'enregistrement des répertoires (identique au notebook) \n",
    "working_directory = os.getcwd()\n",
    "print(f\"Chemin d'accès au répertoire : {working_directory}\")\n",
    "\n",
    "# Création d'un dossier pour stocker les fichiers téléchargés\n",
    "os.makedirs(\"sauvegarde_log\",exist_ok=True)\n",
    "os.makedirs(\"sauvegarde_degra\",exist_ok=True)"
   ]
  },
  {
   "cell_type": "code",
   "execution_count": 32,
   "metadata": {},
   "outputs": [
    {
     "name": "stdout",
     "output_type": "stream",
     "text": [
      "Téléchargement de sauvegarde_log/logs_vols_2024-07-23.csv\n",
      "Téléchargement de sauvegarde_log/logs_vols_2024-07-23.csv terminé avec succès.\n",
      "Téléchargement terminé\n",
      "Mise à jour du fichier aeronef terminée.\n"
     ]
    }
   ],
   "source": [
    "# Fonction pour obtenir la date d'aujourd'hui\n",
    "def get_today():\n",
    "    today = datetime.today()\n",
    "    return today.strftime(\"%Y-%m-%d\")\n",
    "\n",
    "# Récupérer année/mois/jour actuel\n",
    "current_year = datetime.now().year\n",
    "current_month = datetime.now().month\n",
    "current_day = datetime.now().day\n",
    "\n",
    "# Utiliser la fonction today\n",
    "today = get_today()\n",
    "\n",
    "# Construction de l'URL de téléchargement en fonction du mois et du jour\n",
    "for year in range(current_year, current_year+1):\n",
    "    for month in range(current_month, current_month+1):\n",
    "        for day in range(current_day, current_day+1):\n",
    "            if year == current_year and month == current_month and day > current_day:\n",
    "                continue\n",
    "            if f\"{year}-{month:02d}-{day:02d}\" < today:\n",
    "                continue\n",
    "\n",
    "            url_log_vol = f\"http://sc-e.fr/docs/logs_vols_2024-{month:02d}-{day:02d}.csv\"\n",
    "            file_log = f\"sauvegarde_log/logs_vols_2024-{month:02d}-{day:02d}.csv\"\n",
    "\n",
    "            # Télécharger le fichier\n",
    "            print(f\"Téléchargement de {file_log}\")\n",
    "\n",
    "            response = requests.get(url_log_vol)\n",
    "\n",
    "            # Si réponse 200, on réalise le téléchargement\n",
    "            if response.status_code == 200:\n",
    "                with open(file_log, \"wb\") as file:\n",
    "                    file.write(response.content)\n",
    "                print(f\"Téléchargement de {file_log} terminé avec succès.\")\n",
    "            else:\n",
    "                print(f\"Téléchargement impossible de {file_log}. Code statut {response.status_code}\")\n",
    "\n",
    "print(\"Téléchargement terminé\")\n",
    "\n",
    "# Lire le fichier de log téléchargé\n",
    "df_log = pd.read_csv(file_log)\n",
    "\n",
    "# Lien vers le fichier des aéronefs\n",
    "link_aero = '/Users/nadiaaitmada/Desktop/Wild/projet3/Automatisation/aeronef_nettoye.csv'\n",
    "aeronefs = pd.read_csv(link_aero)\n",
    "\n",
    "# Mise à jour des colonnes en fonction des données du fichier de log\n",
    "dico_voyant = {}\n",
    "for i in range(1, 4):\n",
    "    dico_voyant[i] = df_log.loc[df_log['etat_voyant'] == i, 'aero_linked'].to_list()\n",
    "\n",
    "jour_vol = df_log.loc[df_log['etat_voyant'] != 0, 'jour_vol'].max()\n",
    "jour_vol = datetime.strptime(jour_vol, '%Y-%m-%d')\n",
    "\n",
    "for index, row in aeronefs.iterrows():\n",
    "    if row['ref_aero'] in dico_voyant[1]:\n",
    "        aeronefs.at[index, 'en_maintenance'] = True\n",
    "        aeronefs.at[index, 'last_maint'] = jour_vol.strftime('%Y-%m-%d')\n",
    "        aeronefs.at[index, 'end_maint'] = (jour_vol + timedelta(days=1)).strftime('%Y-%m-%d')\n",
    "        aeronefs.at[index, 'cout'] = 1 * 15000\n",
    "    elif row['ref_aero'] in dico_voyant[2]:\n",
    "        aeronefs.at[index, 'en_maintenance'] = True\n",
    "        aeronefs.at[index, 'last_maint'] = jour_vol.strftime('%Y-%m-%d')\n",
    "        aeronefs.at[index, 'end_maint'] = (jour_vol + timedelta(days=7)).strftime('%Y-%m-%d')\n",
    "        aeronefs.at[index, 'cout'] = 7 * 15000\n",
    "    elif row['ref_aero'] in dico_voyant[3]:\n",
    "        aeronefs.at[index, 'en_maintenance'] = True\n",
    "        aeronefs.at[index, 'last_maint'] = jour_vol.strftime('%Y-%m-%d')\n",
    "        aeronefs.at[index, 'end_maint'] = (jour_vol + timedelta(days=14)).strftime('%Y-%m-%d')\n",
    "        aeronefs.at[index, 'cout'] = 14 * 15000\n",
    "\n",
    "# Sauvegarder les modifications dans le fichier CSV\n",
    "aeronefs.to_csv(link_aero, index=False)\n",
    "print(\"Mise à jour du fichier aeronef terminée.\")\n",
    "\n",
    "        "
   ]
  },
  {
   "cell_type": "code",
   "execution_count": 4,
   "metadata": {},
   "outputs": [
    {
     "name": "stdout",
     "output_type": "stream",
     "text": [
      "Téléchargement de sauvegarde_degra/degradations_2024-07-23.csv\n",
      "Téléchargement terminé\n"
     ]
    }
   ],
   "source": [
    "# Construction de l'url de téléchargement en fonction du mois et du jour\n",
    "for year in range(current_year,current_year+1):\n",
    "    for month in range(current_month,current_month+1):\n",
    "        for day in range(current_day,current_day+1):\n",
    "            if year == current_year and month == current_month and day > current_day: # Ignorer les fichiers supérieurs à la date d'aujourd'hui\n",
    "                continue\n",
    "            if f\"{year}-{month:02d}-{day:02d}\" < today:   # Ignorer les fichiers déjà téléchargés\n",
    "                continue\n",
    "\n",
    "            url_degrad = f\"http://sc-e.fr/docs/degradations_2024-{month:02d}-{day:02d}.csv\"\n",
    "            file_degrad = f\"sauvegarde_degra/degradations_2024-{month:02d}-{day:02d}.csv\"\n",
    "\n",
    "# Télécharger le fichier\n",
    "            print(f\"Téléchargement de {file_degrad}\")\n",
    "\n",
    "            response = requests.get(url_degrad)\n",
    "\n",
    "# Si réponse 200, on réalise le téléchargement\n",
    "            if response.status_code == 200:\n",
    "                \n",
    "                with open(file_degrad,\"wb\") as file_degradation:\n",
    "                    file_degradation.write(response.content)\n",
    "            else : \n",
    "                print(f\"Téléchargement impossible de {file_degrad}. Code statut {response.status_code}\")\n",
    "print(\"Téléchargement terminé\")\n",
    "\n",
    "\n",
    "# Lire le fichier de log téléchargé\n",
    "df_degra = pd.read_csv(file_degrad)\n",
    "\n",
    "# Lien vers le fichier des composants\n",
    "link_compo = '/Users/nadiaaitmada/Desktop/Wild/projet3/Automatisation/composant_nettoye.csv'\n",
    "composants = pd.read_csv(link_compo)\n",
    "\n",
    "#a partir du fichier degra daily qui contient que les dégradations du jour - créer un dictionnaire avec les colo,nnes 'compo_concerned' et 'tx_usure_new'\n",
    "dico_degra_day = dict(zip(df_degra['compo_concerned'], df_degra['usure_nouvelle']))\n",
    "\n",
    "#Itérer sur la paire clé / valeur du dictionnaire des dégradations du jour\n",
    "# si la clé = la ref du composant est égale à une des valeurs de la colonne ref composant de la BDD COMPOSANTS\n",
    "#alors on remplace la valeur de la cellule 'taux_usure_actuelle' de la même ligne par la valeur du dico\n",
    "\n",
    "for key, value in dico_degra_day.items():\n",
    "    composants.loc[composants['ref_compo'] == str(key), 'taux_usure_actuel'] = value\n",
    "\n",
    "# Sauvegarder les modifications dans le fichier CSV\n",
    "composants.to_csv(link_compo, index=False)\n",
    "print(\"Mise à jour du fichier composant terminée.\")"
   ]
  },
  {
   "cell_type": "code",
   "execution_count": null,
   "metadata": {},
   "outputs": [],
   "source": [
    "######################################################################################## VÉRIFICATION DE L'IMPORT DES FICHIERS         A SUPPRIMER ENSUITE #######################################################"
   ]
  },
  {
   "cell_type": "code",
   "execution_count": 7,
   "metadata": {},
   "outputs": [
    {
     "name": "stdout",
     "output_type": "stream",
     "text": [
      " Nb fichier log_vol 1\n",
      " Nb fichier degradation 1\n"
     ]
    }
   ],
   "source": [
    "# Vérifier le nombre de fichiers téléchargés dans sauvegarde_log\n",
    "log_path = \"./sauvegarde_log\"\n",
    "listfile_log = [file for file in listdir(log_path) if isfile(join(log_path,file))]\n",
    "print(f\" Nb fichier log_vol\",len(listfile_log))\n",
    "\n",
    "degra_path = \"./sauvegarde_degra\"\n",
    "listfile_degra = [file for file in listdir(degra_path) if isfile(join(degra_path,file))]\n",
    "print(f\" Nb fichier degradation\",len(listfile_degra))"
   ]
  },
  {
   "cell_type": "code",
   "execution_count": 10,
   "metadata": {},
   "outputs": [
    {
     "data": {
      "text/html": [
       "<div>\n",
       "<style scoped>\n",
       "    .dataframe tbody tr th:only-of-type {\n",
       "        vertical-align: middle;\n",
       "    }\n",
       "\n",
       "    .dataframe tbody tr th {\n",
       "        vertical-align: top;\n",
       "    }\n",
       "\n",
       "    .dataframe thead th {\n",
       "        text-align: right;\n",
       "    }\n",
       "</style>\n",
       "<table border=\"1\" class=\"dataframe\">\n",
       "  <thead>\n",
       "    <tr style=\"text-align: right;\">\n",
       "      <th></th>\n",
       "      <th>ref_vol</th>\n",
       "      <th>aero_linked</th>\n",
       "      <th>jour_vol</th>\n",
       "      <th>time_en_air</th>\n",
       "      <th>sensor_data</th>\n",
       "      <th>etat_voyant</th>\n",
       "    </tr>\n",
       "  </thead>\n",
       "  <tbody>\n",
       "    <tr>\n",
       "      <th>0</th>\n",
       "      <td>V09194923</td>\n",
       "      <td>E170_0081</td>\n",
       "      <td>2024-07-23</td>\n",
       "      <td>6.6</td>\n",
       "      <td>{'temp': '-10.0°C', 'pressure': '932.0 hPa', '...</td>\n",
       "      <td>0</td>\n",
       "    </tr>\n",
       "    <tr>\n",
       "      <th>1</th>\n",
       "      <td>V07241227</td>\n",
       "      <td>B747_6747</td>\n",
       "      <td>2024-07-23</td>\n",
       "      <td>6.6</td>\n",
       "      <td>{'temp': '1.1°C', 'pressure': '963.7 hPa', 'vi...</td>\n",
       "      <td>0</td>\n",
       "    </tr>\n",
       "    <tr>\n",
       "      <th>2</th>\n",
       "      <td>V01443548</td>\n",
       "      <td>A321_5206</td>\n",
       "      <td>2024-07-23</td>\n",
       "      <td>4.3</td>\n",
       "      <td>{'temp': '-14.2°C', 'pressure': '969.5 hPa', '...</td>\n",
       "      <td>1</td>\n",
       "    </tr>\n",
       "    <tr>\n",
       "      <th>3</th>\n",
       "      <td>V06352606</td>\n",
       "      <td>B747_4152</td>\n",
       "      <td>2024-07-23</td>\n",
       "      <td>5.1</td>\n",
       "      <td>{'temp': '12.7°C', 'pressure': '956.8 hPa', 'v...</td>\n",
       "      <td>0</td>\n",
       "    </tr>\n",
       "    <tr>\n",
       "      <th>4</th>\n",
       "      <td>V04714204</td>\n",
       "      <td>B747_0472</td>\n",
       "      <td>2024-07-23</td>\n",
       "      <td>7.3</td>\n",
       "      <td>{'temp': '-3.7°C', 'pressure': '928.2 hPa', 'v...</td>\n",
       "      <td>0</td>\n",
       "    </tr>\n",
       "  </tbody>\n",
       "</table>\n",
       "</div>"
      ],
      "text/plain": [
       "     ref_vol aero_linked    jour_vol  time_en_air  \\\n",
       "0  V09194923   E170_0081  2024-07-23          6.6   \n",
       "1  V07241227   B747_6747  2024-07-23          6.6   \n",
       "2  V01443548   A321_5206  2024-07-23          4.3   \n",
       "3  V06352606   B747_4152  2024-07-23          5.1   \n",
       "4  V04714204   B747_0472  2024-07-23          7.3   \n",
       "\n",
       "                                         sensor_data  etat_voyant  \n",
       "0  {'temp': '-10.0°C', 'pressure': '932.0 hPa', '...            0  \n",
       "1  {'temp': '1.1°C', 'pressure': '963.7 hPa', 'vi...            0  \n",
       "2  {'temp': '-14.2°C', 'pressure': '969.5 hPa', '...            1  \n",
       "3  {'temp': '12.7°C', 'pressure': '956.8 hPa', 'v...            0  \n",
       "4  {'temp': '-3.7°C', 'pressure': '928.2 hPa', 'v...            0  "
      ]
     },
     "execution_count": 10,
     "metadata": {},
     "output_type": "execute_result"
    }
   ],
   "source": [
    "# Vérifier l'ouverture du fichier log_vol téléchargé\n",
    "link_log = '/Users/nadiaaitmada/Desktop/Wild/projet3/Automatisation/sauvegarde_log/logs_vols_2024-07-23.csv'\n",
    "df_log = pd.read_csv(link_log)\n",
    "df_log.head()"
   ]
  },
  {
   "cell_type": "code",
   "execution_count": 11,
   "metadata": {},
   "outputs": [
    {
     "data": {
      "text/html": [
       "<div>\n",
       "<style scoped>\n",
       "    .dataframe tbody tr th:only-of-type {\n",
       "        vertical-align: middle;\n",
       "    }\n",
       "\n",
       "    .dataframe tbody tr th {\n",
       "        vertical-align: top;\n",
       "    }\n",
       "\n",
       "    .dataframe thead th {\n",
       "        text-align: right;\n",
       "    }\n",
       "</style>\n",
       "<table border=\"1\" class=\"dataframe\">\n",
       "  <thead>\n",
       "    <tr style=\"text-align: right;\">\n",
       "      <th></th>\n",
       "      <th>ref_deg</th>\n",
       "      <th>linked_aero</th>\n",
       "      <th>compo_concerned</th>\n",
       "      <th>usure_nouvelle</th>\n",
       "      <th>measure_day</th>\n",
       "      <th>need_replacement</th>\n",
       "    </tr>\n",
       "  </thead>\n",
       "  <tbody>\n",
       "    <tr>\n",
       "      <th>0</th>\n",
       "      <td>D003661</td>\n",
       "      <td>E170_6353</td>\n",
       "      <td>REAE170-E170_6353-0</td>\n",
       "      <td>74.467365</td>\n",
       "      <td>2024-07-22</td>\n",
       "      <td>False</td>\n",
       "    </tr>\n",
       "    <tr>\n",
       "      <th>1</th>\n",
       "      <td>D009402</td>\n",
       "      <td>E170_6353</td>\n",
       "      <td>REAE170-E170_6353-1</td>\n",
       "      <td>72.213322</td>\n",
       "      <td>2024-07-22</td>\n",
       "      <td>False</td>\n",
       "    </tr>\n",
       "    <tr>\n",
       "      <th>2</th>\n",
       "      <td>D000812</td>\n",
       "      <td>E170_6353</td>\n",
       "      <td>SYSE170-E170_6353-2</td>\n",
       "      <td>33.828077</td>\n",
       "      <td>2024-07-22</td>\n",
       "      <td>False</td>\n",
       "    </tr>\n",
       "    <tr>\n",
       "      <th>3</th>\n",
       "      <td>D006665</td>\n",
       "      <td>E170_6353</td>\n",
       "      <td>ORDE170-E170_6353-3</td>\n",
       "      <td>23.588377</td>\n",
       "      <td>2024-07-22</td>\n",
       "      <td>False</td>\n",
       "    </tr>\n",
       "    <tr>\n",
       "      <th>4</th>\n",
       "      <td>D001163</td>\n",
       "      <td>E170_6353</td>\n",
       "      <td>AUTE170-E170_6353-4</td>\n",
       "      <td>66.115359</td>\n",
       "      <td>2024-07-22</td>\n",
       "      <td>False</td>\n",
       "    </tr>\n",
       "  </tbody>\n",
       "</table>\n",
       "</div>"
      ],
      "text/plain": [
       "   ref_deg linked_aero      compo_concerned  usure_nouvelle measure_day  \\\n",
       "0  D003661   E170_6353  REAE170-E170_6353-0       74.467365  2024-07-22   \n",
       "1  D009402   E170_6353  REAE170-E170_6353-1       72.213322  2024-07-22   \n",
       "2  D000812   E170_6353  SYSE170-E170_6353-2       33.828077  2024-07-22   \n",
       "3  D006665   E170_6353  ORDE170-E170_6353-3       23.588377  2024-07-22   \n",
       "4  D001163   E170_6353  AUTE170-E170_6353-4       66.115359  2024-07-22   \n",
       "\n",
       "   need_replacement  \n",
       "0             False  \n",
       "1             False  \n",
       "2             False  \n",
       "3             False  \n",
       "4             False  "
      ]
     },
     "execution_count": 11,
     "metadata": {},
     "output_type": "execute_result"
    }
   ],
   "source": [
    "# Vérifier l'ouverture d'un fichier degradation\n",
    "link_degra = '/Users/nadiaaitmada/Desktop/Wild/projet3/Automatisation/sauvegarde_degra/degradations_2024-07-23.csv'\n",
    "df_degra = pd.read_csv(link_degra)\n",
    "df_degra.head()"
   ]
  },
  {
   "cell_type": "code",
   "execution_count": null,
   "metadata": {},
   "outputs": [],
   "source": [
    "######################################################################################## FIN VÉRIFICATION DE L'IMPORT DES FICHIERS         #######################################################"
   ]
  },
  {
   "cell_type": "code",
   "execution_count": null,
   "metadata": {},
   "outputs": [],
   "source": [
    "####################### Vérifier si la modification à bien eu lieu dasn aeronef###########"
   ]
  },
  {
   "cell_type": "code",
   "execution_count": 42,
   "metadata": {},
   "outputs": [
    {
     "name": "stdout",
     "output_type": "stream",
     "text": [
      "(231, 7)\n"
     ]
    },
    {
     "data": {
      "text/html": [
       "<div>\n",
       "<style scoped>\n",
       "    .dataframe tbody tr th:only-of-type {\n",
       "        vertical-align: middle;\n",
       "    }\n",
       "\n",
       "    .dataframe tbody tr th {\n",
       "        vertical-align: top;\n",
       "    }\n",
       "\n",
       "    .dataframe thead th {\n",
       "        text-align: right;\n",
       "    }\n",
       "</style>\n",
       "<table border=\"1\" class=\"dataframe\">\n",
       "  <thead>\n",
       "    <tr style=\"text-align: right;\">\n",
       "      <th></th>\n",
       "      <th>ref_aero</th>\n",
       "      <th>type_model</th>\n",
       "      <th>debut_service</th>\n",
       "      <th>last_maint</th>\n",
       "      <th>en_maintenance</th>\n",
       "      <th>end_maint</th>\n",
       "      <th>cout</th>\n",
       "    </tr>\n",
       "  </thead>\n",
       "  <tbody>\n",
       "    <tr>\n",
       "      <th>78</th>\n",
       "      <td>A321_5206</td>\n",
       "      <td>A321</td>\n",
       "      <td>2018-06-07</td>\n",
       "      <td>2024-07-23</td>\n",
       "      <td>True</td>\n",
       "      <td>2024-07-24</td>\n",
       "      <td>15000.0</td>\n",
       "    </tr>\n",
       "  </tbody>\n",
       "</table>\n",
       "</div>"
      ],
      "text/plain": [
       "     ref_aero type_model debut_service  last_maint  en_maintenance  \\\n",
       "78  A321_5206       A321    2018-06-07  2024-07-23            True   \n",
       "\n",
       "     end_maint     cout  \n",
       "78  2024-07-24  15000.0  "
      ]
     },
     "execution_count": 42,
     "metadata": {},
     "output_type": "execute_result"
    }
   ],
   "source": [
    "# Ouverture du fichier aeronef nettoyé\n",
    "link_aero = '/Users/nadiaaitmada/Desktop/Wild/projet3/Automatisation/aeronef_nettoye.csv'\n",
    "aeronefs = pd.read_csv(link_aero)\n",
    "print(aeronefs.shape)\n",
    "\n",
    "#check si la boucle à fonctionner\n",
    "aeronefs.loc[aeronefs['ref_aero'] == 'A321_5206', :]"
   ]
  },
  {
   "cell_type": "code",
   "execution_count": 43,
   "metadata": {},
   "outputs": [
    {
     "name": "stdout",
     "output_type": "stream",
     "text": [
      "(231, 6)\n"
     ]
    },
    {
     "data": {
      "text/html": [
       "<div>\n",
       "<style scoped>\n",
       "    .dataframe tbody tr th:only-of-type {\n",
       "        vertical-align: middle;\n",
       "    }\n",
       "\n",
       "    .dataframe tbody tr th {\n",
       "        vertical-align: top;\n",
       "    }\n",
       "\n",
       "    .dataframe thead th {\n",
       "        text-align: right;\n",
       "    }\n",
       "</style>\n",
       "<table border=\"1\" class=\"dataframe\">\n",
       "  <thead>\n",
       "    <tr style=\"text-align: right;\">\n",
       "      <th></th>\n",
       "      <th>ref_aero</th>\n",
       "      <th>type_model</th>\n",
       "      <th>debut_service</th>\n",
       "      <th>last_maint</th>\n",
       "      <th>en_maintenance</th>\n",
       "      <th>end_maint</th>\n",
       "    </tr>\n",
       "  </thead>\n",
       "  <tbody>\n",
       "    <tr>\n",
       "      <th>78</th>\n",
       "      <td>A321_5206</td>\n",
       "      <td>A321</td>\n",
       "      <td>2018-06-07</td>\n",
       "      <td>2024-06-01</td>\n",
       "      <td>False</td>\n",
       "      <td>NaN</td>\n",
       "    </tr>\n",
       "  </tbody>\n",
       "</table>\n",
       "</div>"
      ],
      "text/plain": [
       "     ref_aero type_model debut_service  last_maint  en_maintenance end_maint\n",
       "78  A321_5206       A321    2018-06-07  2024-06-01           False       NaN"
      ]
     },
     "execution_count": 43,
     "metadata": {},
     "output_type": "execute_result"
    }
   ],
   "source": [
    "# Aeronef d'origine \n",
    "\n",
    "link_aero2 = '/Users/nadiaaitmada/Desktop/Wild/projet3/Automatisation/aeronef_nettoye copie.csv'\n",
    "aero_copie = pd.read_csv(link_aero2)\n",
    "print(aero_copie.shape)\n",
    "\n",
    "#check si la boucle à fonctionner\n",
    "aero_copie.loc[aero_copie['ref_aero'] == 'A321_5206', :]"
   ]
  },
  {
   "cell_type": "code",
   "execution_count": null,
   "metadata": {},
   "outputs": [],
   "source": [
    "################################################################################################ VERIFIER SI COMPOSANT A ETE MIS A JOUR###"
   ]
  },
  {
   "cell_type": "code",
   "execution_count": 49,
   "metadata": {},
   "outputs": [
    {
     "name": "stdout",
     "output_type": "stream",
     "text": [
      "(10395, 7)\n"
     ]
    },
    {
     "data": {
      "text/html": [
       "<div>\n",
       "<style scoped>\n",
       "    .dataframe tbody tr th:only-of-type {\n",
       "        vertical-align: middle;\n",
       "    }\n",
       "\n",
       "    .dataframe tbody tr th {\n",
       "        vertical-align: top;\n",
       "    }\n",
       "\n",
       "    .dataframe thead th {\n",
       "        text-align: right;\n",
       "    }\n",
       "</style>\n",
       "<table border=\"1\" class=\"dataframe\">\n",
       "  <thead>\n",
       "    <tr style=\"text-align: right;\">\n",
       "      <th></th>\n",
       "      <th>ref_compo</th>\n",
       "      <th>categorie</th>\n",
       "      <th>aero</th>\n",
       "      <th>desc</th>\n",
       "      <th>lifespan</th>\n",
       "      <th>taux_usure_actuel</th>\n",
       "      <th>cout</th>\n",
       "    </tr>\n",
       "  </thead>\n",
       "  <tbody>\n",
       "    <tr>\n",
       "      <th>2721</th>\n",
       "      <td>HUBCRJ700-CRJ700_2863-42</td>\n",
       "      <td>Composants Secondaires</td>\n",
       "      <td>CRJ700_2863</td>\n",
       "      <td>Hublots</td>\n",
       "      <td>68978</td>\n",
       "      <td>20.417488</td>\n",
       "      <td>3593</td>\n",
       "    </tr>\n",
       "  </tbody>\n",
       "</table>\n",
       "</div>"
      ],
      "text/plain": [
       "                     ref_compo               categorie         aero     desc  \\\n",
       "2721  HUBCRJ700-CRJ700_2863-42  Composants Secondaires  CRJ700_2863  Hublots   \n",
       "\n",
       "      lifespan  taux_usure_actuel  cout  \n",
       "2721     68978          20.417488  3593  "
      ]
     },
     "execution_count": 49,
     "metadata": {},
     "output_type": "execute_result"
    }
   ],
   "source": [
    "# Ouverture du fichier aeronef nettoyé\n",
    "link_compo = '/Users/nadiaaitmada/Desktop/Wild/projet3/Automatisation/composant_nettoye.csv'\n",
    "composants = pd.read_csv(link_compo)\n",
    "print(composants.shape)\n",
    "\n",
    "#check si la boucle à fonctionner\n",
    "composants.loc[composants['ref_compo'] == 'HUBCRJ700-CRJ700_2863-42', :]"
   ]
  },
  {
   "cell_type": "code",
   "execution_count": 50,
   "metadata": {},
   "outputs": [
    {
     "name": "stdout",
     "output_type": "stream",
     "text": [
      "(10395, 7)\n"
     ]
    },
    {
     "data": {
      "text/html": [
       "<div>\n",
       "<style scoped>\n",
       "    .dataframe tbody tr th:only-of-type {\n",
       "        vertical-align: middle;\n",
       "    }\n",
       "\n",
       "    .dataframe tbody tr th {\n",
       "        vertical-align: top;\n",
       "    }\n",
       "\n",
       "    .dataframe thead th {\n",
       "        text-align: right;\n",
       "    }\n",
       "</style>\n",
       "<table border=\"1\" class=\"dataframe\">\n",
       "  <thead>\n",
       "    <tr style=\"text-align: right;\">\n",
       "      <th></th>\n",
       "      <th>ref_compo</th>\n",
       "      <th>categorie</th>\n",
       "      <th>aero</th>\n",
       "      <th>desc</th>\n",
       "      <th>lifespan</th>\n",
       "      <th>taux_usure_actuel</th>\n",
       "      <th>cout</th>\n",
       "    </tr>\n",
       "  </thead>\n",
       "  <tbody>\n",
       "    <tr>\n",
       "      <th>2721</th>\n",
       "      <td>HUBCRJ700-CRJ700_2863-42</td>\n",
       "      <td>Composants Secondaires</td>\n",
       "      <td>CRJ700_2863</td>\n",
       "      <td>Hublots</td>\n",
       "      <td>68978</td>\n",
       "      <td>29.455472</td>\n",
       "      <td>3593</td>\n",
       "    </tr>\n",
       "  </tbody>\n",
       "</table>\n",
       "</div>"
      ],
      "text/plain": [
       "                     ref_compo               categorie         aero     desc  \\\n",
       "2721  HUBCRJ700-CRJ700_2863-42  Composants Secondaires  CRJ700_2863  Hublots   \n",
       "\n",
       "      lifespan  taux_usure_actuel  cout  \n",
       "2721     68978          29.455472  3593  "
      ]
     },
     "execution_count": 50,
     "metadata": {},
     "output_type": "execute_result"
    }
   ],
   "source": [
    "link_compo2 = '/Users/nadiaaitmada/Desktop/Wild/projet3/Automatisation/composant_nettoye copie.csv'\n",
    "compo_copie = pd.read_csv(link_compo2)\n",
    "print(compo_copie.shape)\n",
    "\n",
    "#check si la boucle à fonctionner\n",
    "compo_copie.loc[compo_copie['ref_compo'] == 'HUBCRJ700-CRJ700_2863-42', :]"
   ]
  },
  {
   "cell_type": "code",
   "execution_count": null,
   "metadata": {},
   "outputs": [],
   "source": []
  }
 ],
 "metadata": {
  "kernelspec": {
   "display_name": "base",
   "language": "python",
   "name": "python3"
  },
  "language_info": {
   "codemirror_mode": {
    "name": "ipython",
    "version": 3
   },
   "file_extension": ".py",
   "mimetype": "text/x-python",
   "name": "python",
   "nbconvert_exporter": "python",
   "pygments_lexer": "ipython3",
   "version": "3.9.6"
  }
 },
 "nbformat": 4,
 "nbformat_minor": 2
}
