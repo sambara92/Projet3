{
 "cells": [
  {
   "cell_type": "code",
   "execution_count": 3,
   "metadata": {},
   "outputs": [],
   "source": [
    "import pandas as pd"
   ]
  },
  {
   "cell_type": "markdown",
   "metadata": {},
   "source": [
    "BDD composants et aeronefs sont statiques\n",
    "BDD log vol et degrations sont maj quotidiennement"
   ]
  },
  {
   "cell_type": "markdown",
   "metadata": {},
   "source": [
    "debut du chemin - suivi de la date du jour + .csv\n",
    "'http://sc-e.fr/docs/logs_vols_'\n",
    "'http://sc-e.fr/docs/degradations_'"
   ]
  },
  {
   "cell_type": "code",
   "execution_count": 4,
   "metadata": {},
   "outputs": [],
   "source": [
    "from datetime import date, datetime, timedelta\n",
    "import time\n",
    "\n",
    "#calculer la date du jour en format datetime puis en format chaine de caracteres\n",
    "auj = date.today()\n",
    "jour = auj.strftime('%Y-%m-%d')"
   ]
  },
  {
   "cell_type": "code",
   "execution_count": 5,
   "metadata": {},
   "outputs": [],
   "source": [
    "#creer une fonction pour télécharger le data set log vol mis à jour quotidiennement puis l'enregistrer sur mon PC\n",
    "def maj_dataset_log_vols(jour):\n",
    "    link_log = 'http://sc-e.fr/docs/logs_vols_'\n",
    "    log = pd.read_csv(link_log+jour+\".csv\")\n",
    "    log.to_csv(r'C:\\Users\\MAITE\\Wild Code School\\SkyAnalytics\\BDD\\log_vols_'+ jour +'.csv', index=False)\n",
    "    return log"
   ]
  },
  {
   "cell_type": "code",
   "execution_count": 6,
   "metadata": {},
   "outputs": [],
   "source": [
    "#creer une fonction pour télécharger le data set dégradations mis à jour quotidiennement puis l'enregistrer sur mon PC\n",
    "def maj_dataset_degra(jour):\n",
    "    link_degra = 'http://sc-e.fr/docs/degradations_'\n",
    "    degra = pd.read_csv(link_degra+jour+\".csv\")\n",
    "    degra.to_csv(r'C:\\Users\\MAITE\\Wild Code School\\SkyAnalytics\\BDD\\degradations_' + jour + '.csv', index=False)\n",
    "    return degra"
   ]
  },
  {
   "cell_type": "code",
   "execution_count": 12,
   "metadata": {},
   "outputs": [
    {
     "name": "stdout",
     "output_type": "stream",
     "text": [
      "2024-06-04 14:00:00\n",
      "1 day, 0:00:00\n",
      "2024-06-05 14:00:00\n"
     ]
    }
   ],
   "source": [
    "# Enter the first class date and time\n",
    "class_time = datetime(year=2024, month=6, day=4, hour=14, minute=00, second=0)\n",
    "print(class_time)\n",
    "\n",
    "delta = timedelta(days=1)\n",
    "print(delta)\n",
    "\n",
    "class_time += delta\n",
    "print(class_time)\n"
   ]
  },
  {
   "cell_type": "code",
   "execution_count": null,
   "metadata": {},
   "outputs": [],
   "source": [
    "#programmer un script automatique et journalier pour calculer la date du jour puis charger les data set updatés\n",
    "# Enter the first class date and time\n",
    "class_time = datetime(year=2024, month=6, day=4, hour=14, minute=00, second=0)\n",
    "\n",
    "delta = timedelta(days=1)\n",
    "\n",
    "while True:\n",
    "    if datetime.now() >= class_time:\n",
    "        auj = date.today()\n",
    "        jour = auj.strftime('%Y-%m-%d')\n",
    "        maj_dataset_log_vols(jour)\n",
    "        maj_dataset_degra(jour)\n",
    "        class_time += delta\n",
    "    time.sleep(86400)"
   ]
  },
  {
   "cell_type": "code",
   "execution_count": 4,
   "metadata": {},
   "outputs": [
    {
     "data": {
      "text/plain": [
       "86400"
      ]
     },
     "execution_count": 4,
     "metadata": {},
     "output_type": "execute_result"
    }
   ],
   "source": [
    "#methode time.sleep avec secondes \n",
    "#combien de secondes dans 24h ? (60s = 1mn - 60mn = 1h )\n",
    "60*60*24"
   ]
  }
 ],
 "metadata": {
  "kernelspec": {
   "display_name": "base",
   "language": "python",
   "name": "python3"
  },
  "language_info": {
   "codemirror_mode": {
    "name": "ipython",
    "version": 3
   },
   "file_extension": ".py",
   "mimetype": "text/x-python",
   "name": "python",
   "nbconvert_exporter": "python",
   "pygments_lexer": "ipython3",
   "version": "3.11.5"
  }
 },
 "nbformat": 4,
 "nbformat_minor": 2
}
