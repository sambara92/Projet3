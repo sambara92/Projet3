{
 "cells": [
  {
   "cell_type": "code",
   "execution_count": 3,
   "metadata": {},
   "outputs": [],
   "source": [
    "import pandas as pd"
   ]
  },
  {
   "cell_type": "markdown",
   "metadata": {},
   "source": [
    "BDD composants et aeronefs sont statiques\n",
    "BDD log vol et degrations sont maj quotidiennement"
   ]
  },
  {
   "cell_type": "markdown",
   "metadata": {},
   "source": [
    "debut du chemin - suivi de la date du jour + .csv\n",
    "'http://sc-e.fr/docs/logs_vols_'\n",
    "'http://sc-e.fr/docs/degradations_'"
   ]
  },
  {
   "cell_type": "code",
   "execution_count": 4,
   "metadata": {},
   "outputs": [],
   "source": [
    "from datetime import date, datetime, timedelta\n",
    "import time\n",
    "\n",
    "#calculer la date du jour en format datetime puis en format chaine de caracteres\n",
    "auj = date.today()\n",
    "jour = auj.strftime('%Y-%m-%d')"
   ]
  },
  {
   "cell_type": "code",
   "execution_count": 5,
   "metadata": {},
   "outputs": [],
   "source": [
    "#creer une fonction pour télécharger le data set log vol mis à jour quotidiennement puis l'enregistrer sur mon PC\n",
    "def maj_dataset_log_vols(jour):\n",
    "    link_log = 'http://sc-e.fr/docs/logs_vols_'\n",
    "    log = pd.read_csv(link_log+jour+\".csv\")\n",
    "    log.to_csv(r'C:\\Users\\MAITE\\Wild Code School\\SkyAnalytics\\BDD\\log_vols_'+ jour +'.csv', index=False)\n",
    "    return log"
   ]
  },
  {
   "cell_type": "code",
   "execution_count": 6,
   "metadata": {},
   "outputs": [],
   "source": [
    "#creer une fonction pour télécharger le data set dégradations mis à jour quotidiennement puis l'enregistrer sur mon PC\n",
    "def maj_dataset_degra(jour):\n",
    "    link_degra = 'http://sc-e.fr/docs/degradations_'\n",
    "    degra = pd.read_csv(link_degra+jour+\".csv\")\n",
    "    degra.to_csv(r'C:\\Users\\MAITE\\Wild Code School\\SkyAnalytics\\BDD\\degradations_' + jour + '.csv', index=False)\n",
    "    return degra"
   ]
  },
  {
   "cell_type": "code",
   "execution_count": 12,
   "metadata": {},
   "outputs": [
    {
     "name": "stdout",
     "output_type": "stream",
     "text": [
      "2024-06-04 14:00:00\n",
      "1 day, 0:00:00\n",
      "2024-06-05 14:00:00\n"
     ]
    }
   ],
   "source": [
    "# Enter the first class date and time\n",
    "class_time = datetime(year=2024, month=6, day=4, hour=14, minute=00, second=0)\n",
    "print(class_time)\n",
    "\n",
    "delta = timedelta(days=1)\n",
    "print(delta)\n",
    "\n",
    "class_time += delta\n",
    "print(class_time)\n"
   ]
  },
  {
   "cell_type": "code",
   "execution_count": null,
   "metadata": {},
   "outputs": [],
   "source": [
    "#programmer un script automatique et journalier pour calculer la date du jour puis charger les data set updatés\n",
    "# Enter the first class date and time\n",
    "class_time = datetime(year=2024, month=6, day=4, hour=14, minute=00, second=0)\n",
    "\n",
    "delta = timedelta(days=1)\n",
    "\n",
    "while True:\n",
    "    if datetime.now() >= class_time:\n",
    "        auj = date.today()\n",
    "        jour = auj.strftime('%Y-%m-%d')\n",
    "        maj_dataset_log_vols(jour)\n",
    "        maj_dataset_degra(jour)\n",
    "        class_time += delta\n",
    "    time.sleep(86400)"
   ]
  },
  {
   "cell_type": "code",
   "execution_count": 4,
   "metadata": {},
   "outputs": [
    {
     "data": {
      "text/plain": [
       "86400"
      ]
     },
     "execution_count": 4,
     "metadata": {},
     "output_type": "execute_result"
    }
   ],
   "source": [
    "#methode time.sleep avec secondes \n",
    "#combien de secondes dans 24h ? (60s = 1mn - 60mn = 1h )\n",
    "60*60*24"
   ]
  },
  {
   "cell_type": "markdown",
   "metadata": {},
   "source": [
    "AUTRE METHODE SEMI AUTOMATIQUE POUR UPLOAD LES BDD QUODIENNEMENT"
   ]
  },
  {
   "cell_type": "code",
   "execution_count": 9,
   "metadata": {},
   "outputs": [],
   "source": [
    "from datetime import date, datetime, timedelta\n",
    "import pandas as pd\n",
    "import time\n",
    "import re"
   ]
  },
  {
   "cell_type": "code",
   "execution_count": 3,
   "metadata": {},
   "outputs": [],
   "source": [
    "#pour juin start = 04 et fin = 30\n",
    "link_log = 'http://sc-e.fr/docs/logs_vols_2024-06-'\n",
    "link_degra = 'http://sc-e.fr/docs/degradations_2024-06-'\n",
    "L_link_logs = []\n",
    "L_link_degra = []\n",
    "for i in range(5, 10):\n",
    "    full_link_log = link_log + '0' + str(i) + '.csv'\n",
    "    L_link_logs.append(full_link_log)\n",
    "    full_link_degra = link_degra + '0' + str(i) + '.csv'\n",
    "    L_link_degra.append(full_link_degra)\n",
    "for i in range(10, 31):\n",
    "    full_link_log = link_log + str(i) + '.csv'\n",
    "    L_link_logs.append(full_link_log)\n",
    "    full_link_degra = link_degra + str(i) + '.csv'\n",
    "    L_link_degra.append(full_link_degra)"
   ]
  },
  {
   "cell_type": "code",
   "execution_count": 11,
   "metadata": {},
   "outputs": [],
   "source": [
    "for i in range(5, 31):\n",
    "    index = 0\n",
    "    log = pd.read_csv(L_link_logs[index])\n",
    "    nom_fichier_log = re.search('http://sc-e.fr/docs/(.*)', L_link_logs[index]).group(1)\n",
    "    log.to_csv('C:/Users/MAITE/Wild Code School/SkyAnalytics/BDD/' + nom_fichier_log, index=False)\n",
    "    degra = pd.read_csv(L_link_degra[index])\n",
    "    nom_fichier_degra = re.search('http://sc-e.fr/docs/(.*)', L_link_degra[index]).group(1)\n",
    "    degra.to_csv('C:/Users/MAITE/Wild Code School/SkyAnalytics/BDD/'+ nom_fichier_degra, index=False)\n",
    "    index += 1\n",
    "    time.sleep(86400)"
   ]
  },
  {
   "cell_type": "code",
   "execution_count": null,
   "metadata": {},
   "outputs": [],
   "source": [
    "#upload OK ça marche mais scripte qui tourne en boucle j'imagines jusqu'a 86400 s"
   ]
  },
  {
   "cell_type": "code",
   "execution_count": null,
   "metadata": {},
   "outputs": [],
   "source": [
    "#pour juillet start = 01 et fin = 25\n",
    "link_log = 'http://sc-e.fr/docs/logs_vols_2024-07-'\n",
    "link_degra = 'http://sc-e.fr/docs/degradations_2024-07-'\n",
    "L_link_logs_07 = []\n",
    "L_link_degra_07 = []\n",
    "for i in range(1, 10):\n",
    "    full_link_log = link_log + '0' + str(i) + '.csv'\n",
    "    L_link_logs_07.append(full_link_log)\n",
    "    full_link_degra = link_degra + '0' + str(i) + '.csv'\n",
    "    L_link_degra_07.append(full_link_degra)\n",
    "for i in range(10, 26):\n",
    "    full_link_log = link_log + str(i) + '.csv'\n",
    "    L_link_logs_07.append(full_link_log)\n",
    "    full_link_degra = link_degra + str(i) + '.csv'\n",
    "    L_link_degra_07.append(full_link_degra)"
   ]
  },
  {
   "cell_type": "code",
   "execution_count": null,
   "metadata": {},
   "outputs": [],
   "source": [
    "for i in range(1, 26):\n",
    "    index = 0\n",
    "    log = pd.read_csv(L_link_logs_07[index])\n",
    "    log.to_csv(r'C:\\Users\\MAITE\\Wild Code School\\SkyAnalytics\\BDD\\log_vols_'+ re.search('http://sc-e.fr/docs/(.*)', L_link_logs_07[index]).group(1), index=False)\n",
    "    degra = pd.read_csv(L_link_degra_07[index])\n",
    "    degra.to_csv(r'C:\\Users\\MAITE\\Wild Code School\\SkyAnalytics\\BDD'+ re.search('http://sc-e.fr/docs/(.*)', L_link_degra_07[index]).group(1), index=False)\n",
    "    index += 1\n",
    "    time.sleep(86400)"
   ]
  }
 ],
 "metadata": {
  "kernelspec": {
   "display_name": "base",
   "language": "python",
   "name": "python3"
  },
  "language_info": {
   "codemirror_mode": {
    "name": "ipython",
    "version": 3
   },
   "file_extension": ".py",
   "mimetype": "text/x-python",
   "name": "python",
   "nbconvert_exporter": "python",
   "pygments_lexer": "ipython3",
   "version": "3.11.5"
  }
 },
 "nbformat": 4,
 "nbformat_minor": 2
}
